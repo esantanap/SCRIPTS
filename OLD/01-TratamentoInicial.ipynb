{
 "cells": [
  {
   "cell_type": "markdown",
   "id": "30b82e5d-fc2b-4e86-9ddf-f3ace8693b44",
   "metadata": {},
   "source": [
    "TRATAMENTO DE DADOS INICIAL - IMPORTAÇÃO DE DADOS CNPJ SITE DA RECEITA"
   ]
  },
  {
   "cell_type": "markdown",
   "id": "c232b12a",
   "metadata": {},
   "source": [
    "BAIXAR A BASE DE DADOS DA RECEITA (Dados Públicos CNPJ) EM \n",
    "\n",
    "https://www.gov.br/receitafederal/pt-br/assuntos/orientacao-tributaria/cadastros/consultas/dados-publicos-cnpj. Acesso em 01/05/2022\n",
    "\n",
    "BASES UTILIZADAS: \n",
    "Dados Abertos CNPJ EMPRESA 01 > K3241.K03200Y0.D20312.EMPRECSV \\\n",
    "Dados Abertos CNPJ EMPRESA 02 > K3241.K03200Y1.D20312.EMPRECSV \\\n",
    "Dados Abertos CNPJ EMPRESA 03 > K3241.K03200Y2.D20312.EMPRECSV \\\n",
    "Dados Abertos CNPJ EMPRESA 04 > K3241.K03200Y3.D20312.EMPRECSV \\\n",
    "Dados Abertos CNPJ EMPRESA 05 > K3241.K03200Y4.D20312.EMPRECSV \\\n",
    "Dados Abertos CNPJ EMPRESA 06 > K3241.K03200Y5.D20312.EMPRECSV \\\n",
    "Dados Abertos CNPJ EMPRESA 07 > K3241.K03200Y6.D20312.EMPRECSV \\\n",
    "Dados Abertos CNPJ EMPRESA 08 > K3241.K03200Y7.D20312.EMPRECSV \\\n",
    "Dados Abertos CNPJ EMPRESA 09 > K3241.K03200Y8.D20312.EMPRECSV \\\n",
    "Dados Abertos CNPJ EMPRESA 10 > K3241.K03200Y9.D20312.EMPRECSV \\\n",
    "Dados Abertos CNPJ ESTABELECIMENTO 01 > K3241.K03200Y0.D20312.ESTABELE \\\n",
    "Dados Abertos CNPJ ESTABELECIMENTO 02 > K3241.K03200Y1.D20312.ESTABELE \\\n",
    "Dados Abertos CNPJ ESTABELECIMENTO 03 > K3241.K03200Y2.D20312.ESTABELE \\\n",
    "Dados Abertos CNPJ ESTABELECIMENTO 04 > K3241.K03200Y3.D20312.ESTABELE \\\n",
    "Dados Abertos CNPJ ESTABELECIMENTO 05 > K3241.K03200Y4.D20312.ESTABELE \\\n",
    "Dados Abertos CNPJ ESTABELECIMENTO 06 > K3241.K03200Y5.D20312.ESTABELE \\\n",
    "Dados Abertos CNPJ ESTABELECIMENTO 07 > K3241.K03200Y6.D20312.ESTABELE \\\n",
    "Dados Abertos CNPJ ESTABELECIMENTO 08 > K3241.K03200Y7.D20312.ESTABELE \\\n",
    "Dados Abertos CNPJ ESTABELECIMENTO 09 > K3241.K03200Y8.D20312.ESTABELE \\\n",
    "Dados Abertos CNPJ ESTABELECIMENTO 10 > K3241.K03200Y9.D20312.ESTABELE \\\n",
    "Informações sobre o Simples Nacional/MEI > F.K03200$W.SIMPLES.CSV.D20312 \\\n",
    "Tabela de atributo CNAE > F.K03200$Z.D20312.CNAECSV \\\n",
    "Tabela de motivo da situação cadastral > F.K03200$Z.D20312.MOTICSV \\\n",
    "Tabela de atributo Município > F.K03200$Z.D20312.MUNICCSV \\\n",
    "Tabela de atributo Natureza Jurídica > F.K03200$Z.D20312.NATJUCSV \\\n",
    "Tabela de atributo País > F.K03200$Z.D20312.PAISCSV \\\n",
    "Tabela de atributo qualificação dos sócios > F.K03200$Z.D20312.QUALSCSV \\\n",
    "Dados Abertos Sítio RFB Data Base 13-03-202222 > Extracao 01-05-2022\n"
   ]
  },
  {
   "cell_type": "code",
   "execution_count": null,
   "id": "9f21ae1a",
   "metadata": {},
   "outputs": [],
   "source": [
    "# CARREGANDO AS BIBLIOTECAS \n",
    "\n",
    "!pip install matplotlib \n",
    "!pip install numpy\n",
    "!pip install pandas\n",
    "%matplotlib inline\n",
    "import numpy as np\n",
    "import matplotlib.pyplot as plt\n",
    "import pandas as pd\n"
   ]
  },
  {
   "cell_type": "code",
   "execution_count": null,
   "id": "4cd0d489",
   "metadata": {},
   "outputs": [],
   "source": [
    "#VISUALIZAR PACOTES INSTALADOS\n",
    "!pip freeze\n",
    "\n",
    "# CRIAR ARQUIVO REQUERIMENTS.TXT\n",
    "\n",
    "!pip freeze > requirements.txt"
   ]
  },
  {
   "cell_type": "code",
   "execution_count": null,
   "id": "772e3452",
   "metadata": {},
   "outputs": [],
   "source": [
    "caminho = 'D:\\\\#PROJETOS\\\\FURG\\\\ECD-CIENCIA DE DADOS\\\\#TCC-FURG\\\\BASE-RFB-12-03-2022'\n",
    "tratada = 'D:\\#PROJETOS\\FURG\\ECD-CIENCIA DE DADOS\\#TCC-FURG\\BASE-RFB-12-03-2022\\TRATADA'"
   ]
  },
  {
   "cell_type": "markdown",
   "id": "6ec94f54",
   "metadata": {},
   "source": [
    "IMPORTAR TABELAS COMPLEMENTARES (SIMPLES , CNAE, MOTIVO, MUNICIPIO, NATUREZA JURIDICA, PAIS, QUALIFICACAO)"
   ]
  },
  {
   "cell_type": "code",
   "execution_count": null,
   "id": "d756cecd-5406-4812-b5ed-9fb97e387b38",
   "metadata": {},
   "outputs": [],
   "source": [
    "#IMPORTAR TABELA SIMPLES NACIONAL (simples) #DIRETORIOS DEFINIDOS\n",
    "os.chdir(caminho)\n",
    "\n",
    "\n",
    "simples = pd.read_csv('F.K03200$W.SIMPLES.CSV.D20312.csv', sep=';',header=None)\n",
    "simples.columns = ['CNPJ BASICO', 'OPÇÃO PELO SIMPLES','DATA_INC_SIM','DATA EXC_SIMP','MEI','DATA_INT_MEI','DATA_EXC_MEI']\n",
    "simples.head()\n",
    "\n",
    "#EXPORTAR TABELA SIMPLES NACIONAL\n",
    "os.chdir(tratada)\n",
    "simples.to_csv(r'simples.csv', index = False)\n",
    "\n",
    "#LIMPAR MEMORIA\n",
    "del simples\n",
    "import gc\n",
    "gc.collect()"
   ]
  },
  {
   "cell_type": "code",
   "execution_count": null,
   "id": "30d04da9-35d3-4dec-a3ae-b23cea5e75fe",
   "metadata": {},
   "outputs": [],
   "source": [
    "#IMPORTAR TABELA CNAE (cnae)\n",
    "os.chdir(caminho)\n",
    "cnae = pd.read_csv('F.K03200$Z.D20312.CNAECSV.csv', sep=\";\" , encoding='ISO-8859-1',header=None)\n",
    "cnae.columns = ['N_CNAE', 'DESC_CNAE']\n",
    "cnae.head()\n",
    "\n",
    "#EXPORTAR TABELA CNAE\n",
    "os.chdir(tratada)\n",
    "cnae.to_csv(r'cnae.csv', index = False)\n",
    "\n",
    "#LIMPAR MEMORIA\n",
    "del cnae\n",
    "import gc\n",
    "gc.collect()\n"
   ]
  },
  {
   "cell_type": "code",
   "execution_count": null,
   "id": "1a61d74d-aa64-456b-adfa-dbcfed9336f1",
   "metadata": {},
   "outputs": [],
   "source": [
    "#IMPORTAR TABELA MOTIVO (motivo)\n",
    "os.chdir(caminho)\n",
    "motivo = pd.read_csv('F.K03200$Z.D20312.MOTICSV.csv', sep=\";\" , encoding='ISO-8859-1', header=None)\n",
    "motivo.columns = ['N_MOTIVO', 'DESC_MOTIVO']\n",
    "motivo.head()\n",
    "\n",
    "#EXPORTAR TABELA MOTIVO\n",
    "os.chdir(tratada)\n",
    "motivo.to_csv(r'motivo.csv', index = False)\n",
    "\n",
    "#LIMPAR MEMORIA\n",
    "del motivo\n",
    "import gc\n",
    "gc.collect()"
   ]
  },
  {
   "cell_type": "code",
   "execution_count": null,
   "id": "b8b536ff",
   "metadata": {},
   "outputs": [],
   "source": [
    "#IMPORTAR TABELA MUNICIPIO (municipio)\n",
    "os.chdir(caminho)\n",
    "municipio = pd.read_csv('F.K03200$Z.D20312.MOTICSV.csv', sep=\";\" , encoding='ISO-8859-1',header=None)\n",
    "municipio.columns = ['N_MUNIC', 'DESC_MUNIC']\n",
    "municipio.head()\n",
    "\n",
    "#EXPORTAR TABELA MUNICIPIO (municipio)\n",
    "os.chdir(tratada)\n",
    "municipio.to_csv(r'municipio.csv', index = False)\n",
    "\n",
    "#LIMPAR MEMORIA\n",
    "del municipio\n",
    "import gc\n",
    "gc.collect()"
   ]
  },
  {
   "cell_type": "code",
   "execution_count": null,
   "id": "5f67ebf5",
   "metadata": {},
   "outputs": [],
   "source": [
    "#IMPORTAR TABELA NATUREZA JURIDICA (natju)\n",
    "os.chdir(caminho)\n",
    "natju = pd.read_csv('F.K03200$Z.D20312.NATJUCSV.csv', sep=\";\" , encoding='ISO-8859-1',header=None)\n",
    "natju.columns = ['N_NATJU', 'DESC_NATJU']\n",
    "natju.head()\n",
    "\n",
    "#EXPORTAR TABELA NATJU\n",
    "os.chdir(tratada)\n",
    "natju.to_csv(r'natju.csv', index = False)\n",
    "\n",
    "#LIMPAR MEMORIA\n",
    "del natju\n",
    "import gc\n",
    "gc.collect()"
   ]
  },
  {
   "cell_type": "code",
   "execution_count": null,
   "id": "ec4a59ff",
   "metadata": {},
   "outputs": [],
   "source": [
    "#IMPORTAR TABELA PAIS (pais)\n",
    "os.chdir(caminho)\n",
    "pais = pd.read_csv('F.K03200$Z.D20312.PAISCSV.csv', sep=\";\" , encoding='ISO-8859-1')\n",
    "pais.columns = ['N_PAIS', 'DESC_PAIS']\n",
    "pais.head()\n",
    "\n",
    "#EXPORTAR TABELA PAIS\n",
    "os.chdir(tratada)\n",
    "pais.to_csv(r'pais.csv', index = False)\n",
    "\n",
    "#LIMPAR MEMORIA\n",
    "del pais\n",
    "import gc\n",
    "gc.collect()"
   ]
  },
  {
   "cell_type": "code",
   "execution_count": null,
   "id": "d394a9bf",
   "metadata": {},
   "outputs": [],
   "source": [
    "#IMPORTAR TABELA QUALIFICACAO (qualif)\n",
    "os.chdir(caminho)\n",
    "qualif = pd.read_csv('F.K03200$Z.D20312.QUALSCSV.csv', sep=';', encoding='ISO-8859-1')\n",
    "qualif.columns = ['N_QUALIF', 'DESC_QUALIF']\n",
    "qualif.head()\n",
    "\n",
    "#EXPORTAR TABELA QUALIFICAÇÃO\n",
    "os.chdir(tratada)\n",
    "qualif.to_csv(r'qualif.csv', index = False)\n",
    "\n",
    "#LIMPAR MEMORIA\n",
    "del qualif\n",
    "import gc\n",
    "gc.collect()"
   ]
  },
  {
   "cell_type": "markdown",
   "id": "ba467d98",
   "metadata": {},
   "source": [
    "TRATAMENTO DE DADOS INICIAL ARQUIVOS EMPRESA SITE DA RFB  K3241.K03200Y0.D20312.EMPRE.CSV  A K3241.K03200Y9.D20312.EMPRE.CSV"
   ]
  },
  {
   "cell_type": "code",
   "execution_count": null,
   "id": "1d91dd60",
   "metadata": {},
   "outputs": [],
   "source": [
    "#IMPORTAR TABELA EMPRESAS #00\n",
    "os.chdir(caminho)\n",
    "empresa0 = pd.read_csv('K3241.K03200Y0.D20312.EMPRECSV.CSV', sep=';', encoding='ISO-8859-1')\n",
    "empresa0.columns = ['CNPJ BASICO', 'RAZÃO SOCIAL','NATJU','QUALIF','CAP_SOCIAL','PORTE','ENTE_FED']\n",
    "empresa0.head()\n",
    "\n",
    "#EXPORTAR TABELA EMPRESA_0\n",
    "os.chdir(tratada)\n",
    "empresa0.to_csv(r'empresa0.csv', index = False)\n",
    "\n",
    "#LIMPAR MEMORIA\n",
    "del empresa0\n",
    "import gc\n",
    "gc.collect()"
   ]
  },
  {
   "cell_type": "code",
   "execution_count": null,
   "id": "bfc4abe6",
   "metadata": {},
   "outputs": [],
   "source": [
    "#IMPORTAR TABELA EMPRESAS #01 \n",
    "os.chdir(caminho)\n",
    "empresa1 = pd.read_csv('K3241.K03200Y1.D20312.EMPRECSV.CSV', sep=';', encoding='ISO-8859-1')\n",
    "empresa1.columns = ['CNPJ BASICO', 'RAZÃO SOCIAL','NATJU','QUALIF','CAP_SOCIAL','PORTE','ENTE_FED']\n",
    "\n",
    "#EXPORTAR TABELA EMPRESA_1\n",
    "os.chdir(tratada)\n",
    "empresa1.to_csv(r'empresa1.csv', index = False)\n",
    "\n",
    "#LIMPAR MEMORIA\n",
    "del empresa1\n",
    "import gc\n",
    "gc.collect()"
   ]
  },
  {
   "cell_type": "code",
   "execution_count": null,
   "id": "1beb0131",
   "metadata": {},
   "outputs": [],
   "source": [
    "#IMPORTAR TABELA EMPRESAS #02 \n",
    "os.chdir(caminho)\n",
    "empresa2 = pd.read_csv('K3241.K03200Y2.D20312.EMPRECSV.CSV', sep=';', encoding='ISO-8859-1')\n",
    "empresa2.columns = ['CNPJ BASICO', 'RAZÃO SOCIAL','NATJU','QUALIF','CAP_SOCIAL','PORTE','ENTE_FED']\n",
    "\n",
    "#EXPORTAR TABELA EMPRESA_2\n",
    "os.chdir(tratada)\n",
    "empresa2.to_csv(r'empresa2.csv', index = False)\n",
    "\n",
    "#LIMPAR MEMORIA\n",
    "del empresa2\n",
    "import gc\n",
    "gc.collect()"
   ]
  },
  {
   "cell_type": "code",
   "execution_count": null,
   "id": "852aca64",
   "metadata": {},
   "outputs": [],
   "source": [
    "#IMPORTAR TABELA EMPRESAS #03 \n",
    "os.chdir(caminho)\n",
    "empresa3 = pd.read_csv('K3241.K03200Y3.D20312.EMPRECSV.CSV', sep=';', encoding='ISO-8859-1')\n",
    "empresa3.columns = ['CNPJ BASICO', 'RAZÃO SOCIAL','NATJU','QUALIF','CAP_SOCIAL','PORTE','ENTE_FED']\n",
    "\n",
    "#EXPORTAR TABELA EMPRESA_3\n",
    "os.chdir(tratada)\n",
    "empresa3.to_csv(r'empresa3.csv', index = False)\n",
    "\n",
    "#LIMPAR MEMORIA\n",
    "del empresa3\n",
    "import gc\n",
    "gc.collect()"
   ]
  },
  {
   "cell_type": "code",
   "execution_count": null,
   "id": "c1b1c93b",
   "metadata": {},
   "outputs": [],
   "source": [
    "#IMPORTAR TABELA EMPRESAS #04 \n",
    "os.chdir(caminho)\n",
    "empresa4 = pd.read_csv('K3241.K03200Y4.D20312.EMPRECSV.CSV', sep=';', encoding='ISO-8859-1')\n",
    "empresa4.columns = ['CNPJ BASICO', 'RAZÃO SOCIAL','NATJU','QUALIF','CAP_SOCIAL','PORTE','ENTE_FED']\n",
    "\n",
    "#EXPORTAR TABELA EMPRESA_4\n",
    "os.chdir(tratada)\n",
    "empresa4.to_csv(r'empresa4.csv', index = False)\n",
    "\n",
    "#LIMPAR MEMORIA\n",
    "del empresa4\n",
    "import gc\n",
    "gc.collect()"
   ]
  },
  {
   "cell_type": "code",
   "execution_count": null,
   "id": "46918da3",
   "metadata": {},
   "outputs": [],
   "source": [
    "#IMPORTAR TABELA EMPRESAS #05 \n",
    "os.chdir(caminho)\n",
    "empresa5 = pd.read_csv('K3241.K03200Y5.D20312.EMPRECSV.CSV', sep=';', encoding='ISO-8859-1')\n",
    "empresa5.columns = ['CNPJ BASICO', 'RAZÃO SOCIAL','NATJU','QUALIF','CAP_SOCIAL','PORTE','ENTE_FED']\n",
    "\n",
    "#EXPORTAR TABELA EMPRESA_5\n",
    "os.chdir(tratada)\n",
    "empresa5.to_csv(r'empresa5.csv', index = False)\n",
    "\n",
    "#LIMPAR MEMORIA\n",
    "del empresa5\n",
    "import gc\n",
    "gc.collect()"
   ]
  },
  {
   "cell_type": "code",
   "execution_count": null,
   "id": "4d2359c1",
   "metadata": {},
   "outputs": [],
   "source": [
    "#IMPORTAR TABELA EMPRESAS #06 \n",
    "os.chdir(caminho)\n",
    "empresa5 = pd.read_csv('K3241.K03200Y6.D20312.EMPRECSV.CSV', sep=';', encoding='ISO-8859-1')\n",
    "empresa5.columns = ['CNPJ BASICO', 'RAZÃO SOCIAL','NATJU','QUALIF','CAP_SOCIAL','PORTE','ENTE_FED']\n",
    "\n",
    "#EXPORTAR TABELA EMPRESA_6\n",
    "os.chdir(tratada)\n",
    "empresa5.to_csv(r'empresa6.csv', index = False)\n",
    "\n",
    "#LIMPAR MEMORIA\n",
    "del empresa5\n",
    "import gc\n",
    "gc.collect()"
   ]
  },
  {
   "cell_type": "code",
   "execution_count": null,
   "id": "312cb84e",
   "metadata": {},
   "outputs": [],
   "source": [
    "#IMPORTAR TABELA EMPRESAS #07 \n",
    "os.chdir(caminho)\n",
    "empresa5 = pd.read_csv('K3241.K03200Y7.D20312.EMPRECSV.CSV', sep=';', encoding='ISO-8859-1')\n",
    "empresa5.columns = ['CNPJ BASICO', 'RAZÃO SOCIAL','NATJU','QUALIF','CAP_SOCIAL','PORTE','ENTE_FED']\n",
    "\n",
    "#EXPORTAR TABELA EMPRESA_7\n",
    "os.chdir(tratada)\n",
    "empresa5.to_csv(r'empresa7.csv', index = False)\n",
    "\n",
    "#LIMPAR MEMORIA\n",
    "del empresa5\n",
    "import gc\n",
    "gc.collect()"
   ]
  },
  {
   "cell_type": "code",
   "execution_count": null,
   "id": "9a7d3f5f",
   "metadata": {},
   "outputs": [],
   "source": [
    "#IMPORTAR TABELA EMPRESAS #08 \n",
    "os.chdir(caminho)\n",
    "empresa8 = pd.read_csv('K3241.K03200Y8.D20312.EMPRECSV.CSV', sep=';', encoding='ISO-8859-1')\n",
    "empresa8.columns = ['CNPJ BASICO', 'RAZÃO SOCIAL','NATJU','QUALIF','CAP_SOCIAL','PORTE','ENTE_FED']\n",
    "\n",
    "#EXPORTAR TABELA EMPRESA_8\n",
    "os.chdir(tratada)\n",
    "empresa8.to_csv(r'empresa8.csv', index = False)\n",
    "\n",
    "#LIMPAR MEMORIA\n",
    "del empresa8\n",
    "import gc\n",
    "gc.collect()"
   ]
  },
  {
   "cell_type": "code",
   "execution_count": null,
   "id": "ca5fc016",
   "metadata": {},
   "outputs": [],
   "source": [
    "#IMPORTAR TABELA EMPRESAS #09 \n",
    "os.chdir(caminho)\n",
    "empresa9 = pd.read_csv('K3241.K03200Y9.D20312.EMPRECSV.CSV', sep=';', encoding='ISO-8859-1')\n",
    "empresa9.columns = ['CNPJ BASICO', 'RAZÃO SOCIAL','NATJU','QUALIF','CAP_SOCIAL','PORTE','ENTE_FED']\n",
    "\n",
    "#EXPORTAR TABELA EMPRESA_9\n",
    "os.chdir(tratada)\n",
    "empresa9.to_csv(r'empresa9.csv', index = False)\n",
    "\n",
    "#LIMPAR MEMORIA\n",
    "del empresa9\n",
    "import gc\n",
    "gc.collect()"
   ]
  },
  {
   "cell_type": "code",
   "execution_count": null,
   "id": "c089a83a",
   "metadata": {},
   "outputs": [],
   "source": [
    "os.chdir(tratada)\n",
    "\n",
    "#IMPORTAR DATAFRAME EMPRESA (COLUNAS SELECIONADAS)\n",
    "empresa0 = pd.read_csv('empresa0.csv', sep=',', encoding='UTF-8')\n",
    "empresa1 = pd.read_csv('empresa1.csv', sep=',', encoding='UTF-8')\n",
    "empresa2 = pd.read_csv('empresa2.csv', sep=',', encoding='UTF-8')\n",
    "empresa3 = pd.read_csv('empresa3.csv', sep=',', encoding='UTF-8')\n",
    "empresa4 = pd.read_csv('empresa4.csv', sep=',', encoding='UTF-8')\n",
    "empresa5 = pd.read_csv('empresa5.csv', sep=',', encoding='UTF-8')\n",
    "empresa6 = pd.read_csv('empresa6.csv', sep=',', encoding='UTF-8')\n",
    "empresa7 = pd.read_csv('empresa7.csv', sep=',', encoding='UTF-8')\n",
    "empresa8 = pd.read_csv('empresa8.csv', sep=',', encoding='UTF-8')\n",
    "empresa9 = pd.read_csv('empresa9.csv', sep=',', encoding='UTF-8')"
   ]
  },
  {
   "cell_type": "code",
   "execution_count": null,
   "id": "94dcc1e7",
   "metadata": {},
   "outputs": [],
   "source": [
    "# JUNTAR DATAFRAME EMPRESA\n",
    "\n",
    "empresaTratada = empresa0.append(empresa1)\n",
    "empresaTratada = empresaTratada.append(empresa2)\n",
    "empresaTratada = empresaTratada.append(empresa3)\n",
    "empresaTratada = empresaTratada.append(empresa4)\n",
    "empresaTratada = empresaTratada.append(empresa5)\n",
    "empresaTratada = empresaTratada.append(empresa6)\n",
    "empresaTratada = empresaTratada.append(empresa7)\n",
    "empresaTratada = empresaTratada.append(empresa8)\n",
    "empresaTratada = empresaTratada.append(empresa9)"
   ]
  },
  {
   "cell_type": "code",
   "execution_count": null,
   "id": "ec06dc62",
   "metadata": {},
   "outputs": [],
   "source": [
    "#EXPORTAR TABELA EMPRESA TOTAL (empresa)\n",
    "empresaTratada.to_csv(r'empresaTratada.csv', index = False)"
   ]
  },
  {
   "cell_type": "code",
   "execution_count": null,
   "id": "d6f6b8c6",
   "metadata": {},
   "outputs": [],
   "source": [
    "#VALIDAR REGISTROS DE EMPRESAS TOTAL\n",
    "print('Empresa 0 contem ', empresa0.shape, ' registros')\n",
    "print('Empresa 1 contem ', empresa1.shape, ' registros')\n",
    "print('Empresa 2 contem ', empresa2.shape, ' registros')\n",
    "print('Empresa 3 contem ', empresa3.shape, ' registros')\n",
    "print('Empresa 4 contem ', empresa4.shape, ' registros')\n",
    "print('Empresa 5 contem ', empresa5.shape, ' registros')\n",
    "print('Empresa 6 contem ', empresa6.shape, ' registros')\n",
    "print('Empresa 7 contem ', empresa7.shape, ' registros')\n",
    "print('Empresa 8 contem ', empresa8.shape, ' registros')\n",
    "print('Empresa 9 contem ', empresa9.shape, ' registros')\n",
    "print('Total de registros = ', empresa0.shape[0] + empresa1.shape[0] + empresa2.shape[0] + empresa3.shape[0] + empresa4.shape[0] + empresa5.shape[0] + empresa6.shape[0] +empresa7.shape[0] + empresa8.shape[0] + empresa9.shape[0])\n",
    "print('Empresas Total contem ', empresaTratada.shape, ' registros')"
   ]
  },
  {
   "cell_type": "code",
   "execution_count": null,
   "id": "7d4195b3",
   "metadata": {},
   "outputs": [],
   "source": [
    "empresa0.head()\n"
   ]
  },
  {
   "cell_type": "code",
   "execution_count": null,
   "id": "a113a725",
   "metadata": {},
   "outputs": [],
   "source": [
    "empresa1.head()"
   ]
  },
  {
   "cell_type": "code",
   "execution_count": null,
   "id": "34f0191b",
   "metadata": {},
   "outputs": [],
   "source": [
    "empresa2.head()"
   ]
  },
  {
   "cell_type": "code",
   "execution_count": null,
   "id": "e0c0f8fb",
   "metadata": {},
   "outputs": [],
   "source": [
    "empresa3.head()"
   ]
  },
  {
   "cell_type": "code",
   "execution_count": null,
   "id": "e709f5b8",
   "metadata": {},
   "outputs": [],
   "source": [
    "empresa4.head()"
   ]
  },
  {
   "cell_type": "code",
   "execution_count": null,
   "id": "7541cefa",
   "metadata": {},
   "outputs": [],
   "source": [
    "empresa5.head()"
   ]
  },
  {
   "cell_type": "code",
   "execution_count": null,
   "id": "ce8708d5",
   "metadata": {},
   "outputs": [],
   "source": [
    "empresa6.head()"
   ]
  },
  {
   "cell_type": "code",
   "execution_count": null,
   "id": "04823b23",
   "metadata": {},
   "outputs": [],
   "source": [
    "empresa7.head()"
   ]
  },
  {
   "cell_type": "code",
   "execution_count": null,
   "id": "703f6a7b",
   "metadata": {},
   "outputs": [],
   "source": [
    "empresa8.head()"
   ]
  },
  {
   "cell_type": "code",
   "execution_count": null,
   "id": "e5f99440",
   "metadata": {},
   "outputs": [],
   "source": [
    "empresa9.head()"
   ]
  },
  {
   "cell_type": "code",
   "execution_count": null,
   "id": "ecbe6a3f",
   "metadata": {},
   "outputs": [],
   "source": [
    "#VERIFICAR DADOS FALTANTES\n",
    "print(pd.isnull(empresaTratada).sum())"
   ]
  },
  {
   "cell_type": "code",
   "execution_count": null,
   "id": "f27b17a6",
   "metadata": {},
   "outputs": [],
   "source": [
    "#TESTANTO INTEGRIDADE DO ARQUIVO EMPRESAS\n",
    "os.chdir(tratada)\n",
    "empresaTratada = pd.read_csv('empresaTratada.csv', sep=',', encoding='UTF-8', usecols = ['CNPJ BASICO','NATJU','CAP_SOCIAL','QUALIF','PORTE'])"
   ]
  },
  {
   "cell_type": "code",
   "execution_count": null,
   "id": "6145a1c9",
   "metadata": {},
   "outputs": [],
   "source": [
    "empresaTratada.shape"
   ]
  },
  {
   "cell_type": "code",
   "execution_count": null,
   "id": "11e5f91b",
   "metadata": {},
   "outputs": [],
   "source": [
    "#LIMPAR MEMORIA\n",
    "del empresaTratada\n",
    "import gc\n",
    "gc.collect()"
   ]
  },
  {
   "cell_type": "markdown",
   "id": "f74ae7b0",
   "metadata": {},
   "source": [
    "TRATAMENTO DE DADOS INICIAL ARQUIVOS ESTABELECIMENTO DA BASE RFB  K3241.K03200Y0.D20312.ESTABELE.CSV A K3241.K03200Y10.D20312.ESTABELE.CSV"
   ]
  },
  {
   "cell_type": "code",
   "execution_count": null,
   "id": "1647af3b",
   "metadata": {},
   "outputs": [],
   "source": [
    "#IMPORTAR TABELA ESTABELECIMENTOS #0\n",
    "os.chdir(caminho)\n",
    "estab0 = pd.read_csv('K3241.K03200Y0.D20312.ESTABELE.CSV', sep=';', encoding='ISO-8859-1')\n",
    "estab0.columns = ['CNPJ_BASICO','CNPJ_ORDEM','CNPJ_DV','IDE_MAT_FIL','NOME_FANT','SIT_CADASTRAL','DATA_SIT_CADAS','MOT_SIT_CADAS','NOME_DA_CID','PAIS','DATA_INI_ATV','CNAE_FISCAL','CNAE_FISCAL_SEC','TIPO_DE_LOG','LOGRADOURO','NUMERO','COMPL','BAIRRO','CEP','UF','MUNICIPIO','DDD_1','TELEFONE_1','DDD_2','TELEFONE_2','DDD_DO_FAX','FAX','CORREIO_ELET','SITUACAO_ESPECIAL','DATA_DA_SIT']\n",
    "\n",
    "#EXPORTAR TABELA ESTAB 0 \n",
    "os.chdir(tratada)\n",
    "estab0.to_csv(r'estab0.csv', index = False)\n",
    "\n",
    "#LIMPAR MEMORIA\n",
    "del estab0\n",
    "import gc\n",
    "gc.collect()"
   ]
  },
  {
   "cell_type": "code",
   "execution_count": null,
   "id": "ed2115cc",
   "metadata": {},
   "outputs": [],
   "source": [
    "#IMPORTAR TABELA ESTABELECIMENTOS #1\n",
    "os.chdir(caminho)\n",
    "estab1 = pd.read_csv('K3241.K03200Y1.D20312.ESTABELE.CSV', sep=';', encoding='ISO-8859-1')\n",
    "estab1.columns = ['CNPJ_BASICO','CNPJ_ORDEM','CNPJ_DV','IDE_MAT_FIL','NOME_FANT','SIT_CADASTRAL','DATA_SIT_CADAS','MOT_SIT_CADAS','NOME_DA_CID','PAIS','DATA_INI_ATV','CNAE_FISCAL','CNAE_FISCAL_SEC','TIPO_DE_LOG','LOGRADOURO','NUMERO','COMPL','BAIRRO','CEP','UF','MUNICIPIO','DDD_1','TELEFONE_1','DDD_2','TELEFONE_2','DDD_DO_FAX','FAX','CORREIO_ELET','SITUACAO_ESPECIAL','DATA_DA_SIT']\n",
    "\n",
    "#EXPORTAR TABELA ESTAB 1 \n",
    "os.chdir(tratada)\n",
    "estab1.to_csv(r'estab1.csv', index = False)\n",
    "\n",
    "#LIMPAR MEMORIA\n",
    "del estab1\n",
    "import gc\n",
    "gc.collect()"
   ]
  },
  {
   "cell_type": "code",
   "execution_count": null,
   "id": "48c44899",
   "metadata": {},
   "outputs": [],
   "source": [
    "#IMPORTAR TABELA ESTABELECIMENTOS #2\n",
    "os.chdir(caminho)\n",
    "estab2 = pd.read_csv('K3241.K03200Y2.D20312.ESTABELE.csv', sep=';', encoding='ISO-8859-1')\n",
    "estab2.columns = ['CNPJ_BASICO','CNPJ_ORDEM','CNPJ_DV','IDE_MAT_FIL','NOME_FANT','SIT_CADASTRAL','DATA_SIT_CADAS','MOT_SIT_CADAS','NOME_DA_CID','PAIS','DATA_INI_ATV','CNAE_FISCAL','CNAE_FISCAL_SEC','TIPO_DE_LOG','LOGRADOURO','NUMERO','COMPL','BAIRRO','CEP','UF','MUNICIPIO','DDD_1','TELEFONE_1','DDD_2','TELEFONE_2','DDD_DO_FAX','FAX','CORREIO_ELET','SITUACAO_ESPECIAL','DATA_DA_SIT']\n",
    "\n",
    "#EXPORTAR TABELA ESTAB 2 \n",
    "os.chdir(tratada)\n",
    "estab2.to_csv(r'estab2.csv', index = False)\n",
    "\n",
    "#LIMPAR MEMORIA\n",
    "del estab2\n",
    "import gc\n",
    "gc.collect()\n"
   ]
  },
  {
   "cell_type": "code",
   "execution_count": null,
   "id": "67797b50",
   "metadata": {},
   "outputs": [],
   "source": [
    "#IMPORTAR TABELA ESTABELECIMENTOS #3\n",
    "os.chdir(caminho)\n",
    "estab3 = pd.read_csv('K3241.K03200Y3.D20312.ESTABELE.csv', sep=';', encoding='ISO-8859-1')\n",
    "estab3.columns = ['CNPJ_BASICO','CNPJ_ORDEM','CNPJ_DV','IDE_MAT_FIL','NOME_FANT','SIT_CADASTRAL','DATA_SIT_CADAS','MOT_SIT_CADAS','NOME_DA_CID','PAIS','DATA_INI_ATV','CNAE_FISCAL','CNAE_FISCAL_SEC','TIPO_DE_LOG','LOGRADOURO','NUMERO','COMPL','BAIRRO','CEP','UF','MUNICIPIO','DDD_1','TELEFONE_1','DDD_2','TELEFONE_2','DDD_DO_FAX','FAX','CORREIO_ELET','SITUACAO_ESPECIAL','DATA_DA_SIT']\n",
    "\n",
    "#EXPORTAR TABELA ESTAB 3 \n",
    "os.chdir(tratada)\n",
    "estab3.to_csv(r'estab3.csv', index = False)\n",
    "\n",
    "#LIMPAR MEMORIA\n",
    "del estab3\n",
    "import gc\n",
    "gc.collect()"
   ]
  },
  {
   "cell_type": "code",
   "execution_count": null,
   "id": "7a29397f",
   "metadata": {},
   "outputs": [],
   "source": [
    "#IMPORTAR TABELA ESTABELECIMENTOS #4\n",
    "os.chdir(caminho)\n",
    "estab4 = pd.read_csv('K3241.K03200Y4.D20312.ESTABELE.csv', sep=';', encoding='ISO-8859-1')\n",
    "estab4.columns = ['CNPJ_BASICO','CNPJ_ORDEM','CNPJ_DV','IDE_MAT_FIL','NOME_FANT','SIT_CADASTRAL','DATA_SIT_CADAS','MOT_SIT_CADAS','NOME_DA_CID','PAIS','DATA_INI_ATV','CNAE_FISCAL','CNAE_FISCAL_SEC','TIPO_DE_LOG','LOGRADOURO','NUMERO','COMPL','BAIRRO','CEP','UF','MUNICIPIO','DDD_1','TELEFONE_1','DDD_2','TELEFONE_2','DDD_DO_FAX','FAX','CORREIO_ELET','SITUACAO_ESPECIAL','DATA_DA_SIT']\n",
    "\n",
    "#EXPORTAR TABELA ESTAB 4 \n",
    "os.chdir(tratada)\n",
    "estab4.to_csv(r'estab4.csv', index = False)\n",
    "\n",
    "#LIMPAR MEMORIA\n",
    "del estab4\n",
    "import gc\n",
    "gc.collect()"
   ]
  },
  {
   "cell_type": "code",
   "execution_count": null,
   "id": "671ee183",
   "metadata": {},
   "outputs": [],
   "source": [
    "#IMPORTAR TABELA ESTABELECIMENTOS #5\n",
    "os.chdir(caminho)\n",
    "estab5 = pd.read_csv('K3241.K03200Y5.D20312.ESTABELE.csv', sep=';', encoding='ISO-8859-1')\n",
    "estab5.columns = ['CNPJ_BASICO','CNPJ_ORDEM','CNPJ_DV','IDE_MAT_FIL','NOME_FANT','SIT_CADASTRAL','DATA_SIT_CADAS','MOT_SIT_CADAS','NOME_DA_CID','PAIS','DATA_INI_ATV','CNAE_FISCAL','CNAE_FISCAL_SEC','TIPO_DE_LOG','LOGRADOURO','NUMERO','COMPL','BAIRRO','CEP','UF','MUNICIPIO','DDD_1','TELEFONE_1','DDD_2','TELEFONE_2','DDD_DO_FAX','FAX','CORREIO_ELET','SITUACAO_ESPECIAL','DATA_DA_SIT']\n",
    "\n",
    "#EXPORTAR TABELA ESTAB 5 \n",
    "os.chdir(tratada)\n",
    "estab5.to_csv(r'estab5.csv', index = False)\n",
    "\n",
    "#LIMPAR MEMORIA\n",
    "del estab5\n",
    "import gc\n",
    "gc.collect()\n"
   ]
  },
  {
   "cell_type": "code",
   "execution_count": null,
   "id": "9469db28",
   "metadata": {},
   "outputs": [],
   "source": [
    "#IMPORTAR TABELA ESTABELECIMENTOS #6\n",
    "os.chdir(caminho)\n",
    "estab6 = pd.read_csv('K3241.K03200Y6.D20312.ESTABELE.csv', sep=';', encoding='ISO-8859-1')\n",
    "estab6.columns = ['CNPJ_BASICO','CNPJ_ORDEM','CNPJ_DV','IDE_MAT_FIL','NOME_FANT','SIT_CADASTRAL','DATA_SIT_CADAS','MOT_SIT_CADAS','NOME_DA_CID','PAIS','DATA_INI_ATV','CNAE_FISCAL','CNAE_FISCAL_SEC','TIPO_DE_LOG','LOGRADOURO','NUMERO','COMPL','BAIRRO','CEP','UF','MUNICIPIO','DDD_1','TELEFONE_1','DDD_2','TELEFONE_2','DDD_DO_FAX','FAX','CORREIO_ELET','SITUACAO_ESPECIAL','DATA_DA_SIT']\n",
    "\n",
    "#EXPORTAR TABELA ESTAB 6\n",
    "os.chdir(tratada)\n",
    "estab6.to_csv(r'estab6.csv', index = False)\n",
    "\n",
    "#LIMPAR MEMORIA\n",
    "del estab6\n",
    "import gc\n",
    "gc.collect()\n"
   ]
  },
  {
   "cell_type": "code",
   "execution_count": null,
   "id": "28e5ef82",
   "metadata": {},
   "outputs": [],
   "source": [
    "#IMPORTAR TABELA ESTABELECIMENTOS #7\n",
    "os.chdir(caminho)\n",
    "estab7 = pd.read_csv('K3241.K03200Y7.D20312.ESTABELE.csv', sep=';', encoding='ISO-8859-1')\n",
    "estab7.columns = ['CNPJ_BASICO','CNPJ_ORDEM','CNPJ_DV','IDE_MAT_FIL','NOME_FANT','SIT_CADASTRAL','DATA_SIT_CADAS','MOT_SIT_CADAS','NOME_DA_CID','PAIS','DATA_INI_ATV','CNAE_FISCAL','CNAE_FISCAL_SEC','TIPO_DE_LOG','LOGRADOURO','NUMERO','COMPL','BAIRRO','CEP','UF','MUNICIPIO','DDD_1','TELEFONE_1','DDD_2','TELEFONE_2','DDD_DO_FAX','FAX','CORREIO_ELET','SITUACAO_ESPECIAL','DATA_DA_SIT']\n",
    "\n",
    "#EXPORTAR TABELA ESTAB 7\n",
    "os.chdir(tratada)\n",
    "estab7.to_csv(r'estab7.csv', index = False)\n",
    "\n",
    "#LIMPAR MEMORIA\n",
    "del estab7\n",
    "import gc\n",
    "gc.collect()"
   ]
  },
  {
   "cell_type": "code",
   "execution_count": null,
   "id": "079aa3f9",
   "metadata": {},
   "outputs": [],
   "source": [
    "#IMPORTAR TABELA ESTABELECIMENTOS #8\n",
    "os.chdir(caminho)\n",
    "estab8 = pd.read_csv('K3241.K03200Y8.D20312.ESTABELE.csv', sep=';', encoding='ISO-8859-1')\n",
    "estab8.columns = ['CNPJ_BASICO','CNPJ_ORDEM','CNPJ_DV','IDE_MAT_FIL','NOME_FANT','SIT_CADASTRAL','DATA_SIT_CADAS','MOT_SIT_CADAS','NOME_DA_CID','PAIS','DATA_INI_ATV','CNAE_FISCAL','CNAE_FISCAL_SEC','TIPO_DE_LOG','LOGRADOURO','NUMERO','COMPL','BAIRRO','CEP','UF','MUNICIPIO','DDD_1','TELEFONE_1','DDD_2','TELEFONE_2','DDD_DO_FAX','FAX','CORREIO_ELET','SITUACAO_ESPECIAL','DATA_DA_SIT']\n",
    "\n",
    "#EXPORTAR TABELA ESTAB 8\n",
    "os.chdir(tratada)\n",
    "estab8.to_csv(r'estab8.csv', index = False)\n",
    "\n",
    "#LIMPAR MEMORIA\n",
    "del estab8\n",
    "import gc\n",
    "gc.collect()"
   ]
  },
  {
   "cell_type": "code",
   "execution_count": null,
   "id": "89932bf8",
   "metadata": {},
   "outputs": [],
   "source": [
    "#IMPORTAR TABELA ESTABELECIMENTOS #9\n",
    "os.chdir(caminho)\n",
    "estab9 = pd.read_csv('K3241.K03200Y9.D20312.ESTABELE.CSV', sep=';', encoding='ISO-8859-1')\n",
    "estab9.columns = ['CNPJ_BASICO','CNPJ_ORDEM','CNPJ_DV','IDE_MAT_FIL','NOME_FANT','SIT_CADASTRAL','DATA_SIT_CADAS','MOT_SIT_CADAS','NOME_DA_CID','PAIS','DATA_INI_ATV','CNAE_FISCAL','CNAE_FISCAL_SEC','TIPO_DE_LOG','LOGRADOURO','NUMERO','COMPL','BAIRRO','CEP','UF','MUNICIPIO','DDD_1','TELEFONE_1','DDD_2','TELEFONE_2','DDD_DO_FAX','FAX','CORREIO_ELET','SITUACAO_ESPECIAL','DATA_DA_SIT']\n",
    "\n",
    "#EXPORTAR TABELA ESTAB 9\n",
    "os.chdir(tratada)\n",
    "estab9.to_csv(r'estab9.csv', index = False)\n",
    "\n",
    "#LIMPAR MEMORIA\n",
    "del estab9\n",
    "import gc\n",
    "gc.collect()"
   ]
  },
  {
   "cell_type": "code",
   "execution_count": null,
   "id": "04d19a8d",
   "metadata": {},
   "outputs": [],
   "source": [
    "\n",
    "os.chdir(tratada)\n",
    "#IMPORTAR ESTABELECIMENTO \n",
    "estab0 = pd.read_csv('estab0.csv', sep=',', encoding='UTF-8', usecols= ['CNPJ_BASICO','CNPJ_ORDEM','CNPJ_DV','IDE_MAT_FIL','SIT_CADASTRAL','DATA_SIT_CADAS','MOT_SIT_CADAS','DATA_INI_ATV','CNAE_FISCAL','CNAE_FISCAL_SEC','UF','MUNICIPIO'])\n",
    "estab1 = pd.read_csv('estab1.csv', sep=',', encoding='UTF-8', usecols= ['CNPJ_BASICO','CNPJ_ORDEM','CNPJ_DV','IDE_MAT_FIL','SIT_CADASTRAL','DATA_SIT_CADAS','MOT_SIT_CADAS','DATA_INI_ATV','CNAE_FISCAL','CNAE_FISCAL_SEC','UF','MUNICIPIO'])\n",
    "estab2 = pd.read_csv('estab2.csv', sep=',', encoding='UTF-8', usecols= ['CNPJ_BASICO','CNPJ_ORDEM','CNPJ_DV','IDE_MAT_FIL','SIT_CADASTRAL','DATA_SIT_CADAS','MOT_SIT_CADAS','DATA_INI_ATV','CNAE_FISCAL','CNAE_FISCAL_SEC','UF','MUNICIPIO'])\n",
    "estab3 = pd.read_csv('estab3.csv', sep=',', encoding='UTF-8', usecols= ['CNPJ_BASICO','CNPJ_ORDEM','CNPJ_DV','IDE_MAT_FIL','SIT_CADASTRAL','DATA_SIT_CADAS','MOT_SIT_CADAS','DATA_INI_ATV','CNAE_FISCAL','CNAE_FISCAL_SEC','UF','MUNICIPIO'])\n",
    "estab4 = pd.read_csv('estab4.csv', sep=',', encoding='UTF-8', usecols= ['CNPJ_BASICO','CNPJ_ORDEM','CNPJ_DV','IDE_MAT_FIL','SIT_CADASTRAL','DATA_SIT_CADAS','MOT_SIT_CADAS','DATA_INI_ATV','CNAE_FISCAL','CNAE_FISCAL_SEC','UF','MUNICIPIO'])\n",
    "estab5 = pd.read_csv('estab5.csv', sep=',', encoding='UTF-8', usecols= ['CNPJ_BASICO','CNPJ_ORDEM','CNPJ_DV','IDE_MAT_FIL','SIT_CADASTRAL','DATA_SIT_CADAS','MOT_SIT_CADAS','DATA_INI_ATV','CNAE_FISCAL','CNAE_FISCAL_SEC','UF','MUNICIPIO'])\n",
    "estab6 = pd.read_csv('estab6.csv', sep=',', encoding='UTF-8', usecols= ['CNPJ_BASICO','CNPJ_ORDEM','CNPJ_DV','IDE_MAT_FIL','SIT_CADASTRAL','DATA_SIT_CADAS','MOT_SIT_CADAS','DATA_INI_ATV','CNAE_FISCAL','CNAE_FISCAL_SEC','UF','MUNICIPIO'])\n",
    "estab7 = pd.read_csv('estab7.csv', sep=',', encoding='UTF-8', usecols= ['CNPJ_BASICO','CNPJ_ORDEM','CNPJ_DV','IDE_MAT_FIL','SIT_CADASTRAL','DATA_SIT_CADAS','MOT_SIT_CADAS','DATA_INI_ATV','CNAE_FISCAL','CNAE_FISCAL_SEC','UF','MUNICIPIO'])\n",
    "estab8 = pd.read_csv('estab8.csv', sep=',', encoding='UTF-8', usecols= ['CNPJ_BASICO','CNPJ_ORDEM','CNPJ_DV','IDE_MAT_FIL','SIT_CADASTRAL','DATA_SIT_CADAS','MOT_SIT_CADAS','DATA_INI_ATV','CNAE_FISCAL','CNAE_FISCAL_SEC','UF','MUNICIPIO'])\n",
    "estab9 = pd.read_csv('estab9.csv', sep=',', encoding='UTF-8', usecols= ['CNPJ_BASICO','CNPJ_ORDEM','CNPJ_DV','IDE_MAT_FIL','SIT_CADASTRAL','DATA_SIT_CADAS','MOT_SIT_CADAS','DATA_INI_ATV','CNAE_FISCAL','CNAE_FISCAL_SEC','UF','MUNICIPIO'])\n",
    "\n"
   ]
  },
  {
   "cell_type": "code",
   "execution_count": null,
   "id": "efae96bf",
   "metadata": {},
   "outputs": [],
   "source": [
    "# JUNTAR DATAFRAME ESTABELECIMENTO\n",
    "\n",
    "estabTratada = estab0.append(estab1)\n",
    "estabTratada = estabTratada.append(estab2)\n",
    "estabTratada = estabTratada.append(estab3)\n",
    "estabTratada = estabTratada.append(estab4)\n",
    "estabTratada = estabTratada.append(estab5)\n",
    "estabTratada = estabTratada.append(estab6)\n",
    "estabTratada = estabTratada.append(estab7)\n",
    "estabTratada = estabTratada.append(estab8)\n",
    "estabTratada = estabTratada.append(estab9)"
   ]
  },
  {
   "cell_type": "code",
   "execution_count": null,
   "id": "0d6379f2",
   "metadata": {},
   "outputs": [],
   "source": [
    "# VERIFICAR INTEGRIDADE DE REGISTROS DE ESTABELECIMENTO\n",
    "print('Estab 0 contem ', estab0.shape, ' registros')\n",
    "print('Estab 1 contem ', estab1.shape, ' registros')\n",
    "print('Estab 2 contem ', estab2.shape, ' registros')\n",
    "print('Estab 3 contem ', estab3.shape, ' registros')\n",
    "print('Estab 4 contem ', estab4.shape, ' registros')\n",
    "print('Estab 5 contem ', estab5.shape, ' registros')\n",
    "print('Estab 5 contem ', estab6.shape, ' registros')\n",
    "print('Estab 5 contem ', estab7.shape, ' registros')\n",
    "print('Estab 8 contem ', estab8.shape, ' registros')\n",
    "print('Estab 9 contem ', estab9.shape, ' registros')\n",
    "print('Total de registros = ', estab0.shape[0] + estab1.shape[0] + estab2.shape[0] + estab3.shape[0] + estab4.shape[0] + estab5.shape[0] + estab6.shape[0] + estab7.shape[0] + estab8.shape[0] + estab9.shape[0])\n",
    "print('Estabs Total contem ', estabTratada.shape, ' registros')"
   ]
  },
  {
   "cell_type": "code",
   "execution_count": null,
   "id": "65f28bca",
   "metadata": {},
   "outputs": [],
   "source": [
    "estab0.head()"
   ]
  },
  {
   "cell_type": "code",
   "execution_count": null,
   "id": "92a921ba",
   "metadata": {},
   "outputs": [],
   "source": [
    "estab1.head()"
   ]
  },
  {
   "cell_type": "code",
   "execution_count": null,
   "id": "de168bd9",
   "metadata": {},
   "outputs": [],
   "source": [
    "estab2.head()"
   ]
  },
  {
   "cell_type": "code",
   "execution_count": null,
   "id": "73496f8f",
   "metadata": {},
   "outputs": [],
   "source": [
    "estab3.head()"
   ]
  },
  {
   "cell_type": "code",
   "execution_count": null,
   "id": "25a68b69",
   "metadata": {},
   "outputs": [],
   "source": [
    "estab4.head()"
   ]
  },
  {
   "cell_type": "code",
   "execution_count": null,
   "id": "8630733e",
   "metadata": {},
   "outputs": [],
   "source": [
    "estab5.head()"
   ]
  },
  {
   "cell_type": "code",
   "execution_count": null,
   "id": "fcc1dc24",
   "metadata": {},
   "outputs": [],
   "source": [
    "estab6.head()"
   ]
  },
  {
   "cell_type": "code",
   "execution_count": null,
   "id": "6e1ad2f4",
   "metadata": {},
   "outputs": [],
   "source": [
    "estab7.head()"
   ]
  },
  {
   "cell_type": "code",
   "execution_count": null,
   "id": "6594cfc8",
   "metadata": {},
   "outputs": [],
   "source": [
    "estab8.head()"
   ]
  },
  {
   "cell_type": "code",
   "execution_count": null,
   "id": "eeba2686",
   "metadata": {},
   "outputs": [],
   "source": [
    "estab9.head()"
   ]
  },
  {
   "cell_type": "code",
   "execution_count": null,
   "id": "ac364548",
   "metadata": {},
   "outputs": [],
   "source": [
    "# verifica se existe qualquer variável com dados faltantes\n",
    "print(pd.isnull(estabTratada).sum())"
   ]
  },
  {
   "cell_type": "code",
   "execution_count": null,
   "id": "95c791e8",
   "metadata": {},
   "outputs": [],
   "source": [
    "estabTratada['SIT_CADASTRAL'].value_counts()"
   ]
  },
  {
   "cell_type": "code",
   "execution_count": null,
   "id": "39f5482c",
   "metadata": {},
   "outputs": [],
   "source": [
    "pd.crosstab(estabTratada['UF'],estabTratada['SIT_CADASTRAL'])"
   ]
  },
  {
   "cell_type": "code",
   "execution_count": null,
   "id": "747f5894",
   "metadata": {},
   "outputs": [],
   "source": [
    "#EXPORTAR TABELA EMPRESA TOTAL (empresa)\n",
    "estabTratada.to_csv(r'estabTratada.csv', index = False)"
   ]
  },
  {
   "cell_type": "code",
   "execution_count": null,
   "id": "a5605dc1",
   "metadata": {},
   "outputs": [],
   "source": [
    "#LIMPAR MEMORIA\n",
    "del estabTratada\n",
    "del estab0\n",
    "del estab1\n",
    "del estab2\n",
    "del estab3\n",
    "del estab4\n",
    "del estab5\n",
    "del estab6\n",
    "del estab7\n",
    "del estab8\n",
    "del estab9\n",
    "del empresa0\n",
    "del empresa1\n",
    "del empresa2\n",
    "del empresa3\n",
    "del empresa4\n",
    "del empresa5\n",
    "del empresa6\n",
    "del empresa7\n",
    "del empresa8\n",
    "del empresa9\n",
    "import gc\n",
    "gc.collect()"
   ]
  },
  {
   "cell_type": "code",
   "execution_count": null,
   "id": "4a946d89",
   "metadata": {},
   "outputs": [],
   "source": []
  }
 ],
 "metadata": {
  "kernelspec": {
   "display_name": "Python 3 (ipykernel)",
   "language": "python",
   "name": "python3"
  },
  "language_info": {
   "codemirror_mode": {
    "name": "ipython",
    "version": 3
   },
   "file_extension": ".py",
   "mimetype": "text/x-python",
   "name": "python",
   "nbconvert_exporter": "python",
   "pygments_lexer": "ipython3",
   "version": "3.9.7"
  },
  "toc-showtags": false
 },
 "nbformat": 4,
 "nbformat_minor": 5
}

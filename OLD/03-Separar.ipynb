{
 "cells": [
  {
   "cell_type": "markdown",
   "id": "30b82e5d-fc2b-4e86-9ddf-f3ace8693b44",
   "metadata": {
    "id": "30b82e5d-fc2b-4e86-9ddf-f3ace8693b44"
   },
   "source": [
    "Análise Exploratória da base de dados empresasBrasil (EMPRESAS+ESTABELECIMENTOS+SIMPLES)"
   ]
  },
  {
   "cell_type": "code",
   "execution_count": 100,
   "id": "8LFeMx3don69",
   "metadata": {
    "colab": {
     "base_uri": "https://localhost:8080/"
    },
    "id": "8LFeMx3don69",
    "outputId": "53fb6d3e-469c-4d3e-e7c3-2b8dd37065c4"
   },
   "outputs": [],
   "source": [
    "#from google.colab import drive\n",
    "#drive.mount('/content/drive')"
   ]
  },
  {
   "cell_type": "markdown",
   "id": "UFaPcjhbPCdE",
   "metadata": {
    "id": "UFaPcjhbPCdE"
   },
   "source": [
    "# Carregando Bibliotecas"
   ]
  },
  {
   "cell_type": "code",
   "execution_count": 45,
   "id": "f27b17a6",
   "metadata": {
    "id": "f27b17a6",
    "tags": []
   },
   "outputs": [],
   "source": [
    "# bibliotecas para análise de dados\n",
    "import numpy as np\n",
    "import pandas as pd\n",
    "import xlrd"
   ]
  },
  {
   "cell_type": "code",
   "execution_count": 4,
   "id": "07a47ac0-8da8-47b2-aeb4-40b1f5823021",
   "metadata": {
    "id": "07a47ac0-8da8-47b2-aeb4-40b1f5823021"
   },
   "outputs": [],
   "source": [
    "# bibliotecas para visualização\n",
    "import matplotlib.pyplot as plt\n",
    "import seaborn as sns\n",
    "%matplotlib inline"
   ]
  },
  {
   "cell_type": "code",
   "execution_count": 15,
   "id": "3c74bb08-3d7e-452e-8e6a-f407ff342638",
   "metadata": {
    "id": "3c74bb08-3d7e-452e-8e6a-f407ff342638"
   },
   "outputs": [],
   "source": [
    "# configurando variáveis do ambiente\n",
    "import warnings\n",
    "warnings.filterwarnings('ignore')\n",
    "pd.options.display.max_columns = None\n",
    "pd.options.display.max_rows = None\n",
    "pd.options.display.float_format = '{:.4f}'.format"
   ]
  },
  {
   "cell_type": "markdown",
   "id": "d696b46e-1543-401a-b36e-0c5041119a6d",
   "metadata": {
    "id": "d696b46e-1543-401a-b36e-0c5041119a6d"
   },
   "source": [
    "# VISUALIZAÇÃO E TRATAMENTO DATASET EMPRESAS (EMPRESAS+ESTABELECIMENTOS+SIMPLES)"
   ]
  },
  {
   "cell_type": "code",
   "execution_count": 5,
   "id": "317e142a",
   "metadata": {
    "id": "317e142a"
   },
   "outputs": [],
   "source": [
    "# IMPORTACAO DA TABELA EMPRESAS BRASIL (EMPRESAS+ESTABELECIMENTOS+SIMPLES) POR UF\n",
    "#empresasBrasil = pd.read_csv('/content/drive/MyDrive/FURG-TCC/TCC - DADOS E ANALISE/empresasBrasil.csv', sep=',', encoding='UTF-8')\n",
    "empresasBrasil = pd.read_csv('D:\\#PROJETOS\\FURG\\ECD-CIENCIA DE DADOS\\#TCC-FURG\\BASE-RFB-12-03-2022\\TRATADA\\empresasBrasil02.csv', sep=',', encoding='UTF-8')"
   ]
  },
  {
   "cell_type": "code",
   "execution_count": 6,
   "id": "5b6089c7",
   "metadata": {
    "id": "5b6089c7",
    "tags": []
   },
   "outputs": [
    {
     "name": "stdout",
     "output_type": "stream",
     "text": [
      "<class 'pandas.core.frame.DataFrame'>\n",
      "RangeIndex: 51860364 entries, 0 to 51860363\n",
      "Data columns (total 16 columns):\n",
      " #   Column          Dtype  \n",
      "---  ------          -----  \n",
      " 0   CNPJ_BASICO     int64  \n",
      " 1   NATJU           float64\n",
      " 2   CAP_SOCIAL      float64\n",
      " 3   PORTE           float64\n",
      " 4   CNPJ_ORDEM      float64\n",
      " 5   CNPJ_DV         float64\n",
      " 6   IDE_MAT_FIL     float64\n",
      " 7   SIT_CADASTRAL   float64\n",
      " 8   DATA_SIT_CADAS  float64\n",
      " 9   MOT_SIT_CADAS   float64\n",
      " 10  DATA_INI_ATV    float64\n",
      " 11  CNAE_FISCAL     float64\n",
      " 12  UF              object \n",
      " 13  MUNICIPIO       float64\n",
      " 14  OP_SIMPLES      object \n",
      " 15  MEI             object \n",
      "dtypes: float64(12), int64(1), object(3)\n",
      "memory usage: 6.2+ GB\n"
     ]
    }
   ],
   "source": [
    "empresasBrasil.info()"
   ]
  },
  {
   "cell_type": "code",
   "execution_count": 7,
   "id": "88b02995",
   "metadata": {},
   "outputs": [
    {
     "data": {
      "text/html": [
       "<div>\n",
       "<style scoped>\n",
       "    .dataframe tbody tr th:only-of-type {\n",
       "        vertical-align: middle;\n",
       "    }\n",
       "\n",
       "    .dataframe tbody tr th {\n",
       "        vertical-align: top;\n",
       "    }\n",
       "\n",
       "    .dataframe thead th {\n",
       "        text-align: right;\n",
       "    }\n",
       "</style>\n",
       "<table border=\"1\" class=\"dataframe\">\n",
       "  <thead>\n",
       "    <tr style=\"text-align: right;\">\n",
       "      <th></th>\n",
       "      <th>CNPJ_BASICO</th>\n",
       "      <th>NATJU</th>\n",
       "      <th>CAP_SOCIAL</th>\n",
       "      <th>PORTE</th>\n",
       "      <th>CNPJ_ORDEM</th>\n",
       "      <th>CNPJ_DV</th>\n",
       "      <th>IDE_MAT_FIL</th>\n",
       "      <th>SIT_CADASTRAL</th>\n",
       "      <th>DATA_SIT_CADAS</th>\n",
       "      <th>MOT_SIT_CADAS</th>\n",
       "      <th>DATA_INI_ATV</th>\n",
       "      <th>CNAE_FISCAL</th>\n",
       "      <th>UF</th>\n",
       "      <th>MUNICIPIO</th>\n",
       "      <th>OP_SIMPLES</th>\n",
       "      <th>MEI</th>\n",
       "    </tr>\n",
       "  </thead>\n",
       "  <tbody>\n",
       "    <tr>\n",
       "      <th>0</th>\n",
       "      <td>41273603</td>\n",
       "      <td>2062.0</td>\n",
       "      <td>10000.0</td>\n",
       "      <td>1.0</td>\n",
       "      <td>1.0</td>\n",
       "      <td>44.0</td>\n",
       "      <td>1.0</td>\n",
       "      <td>2.0</td>\n",
       "      <td>20210318.0</td>\n",
       "      <td>0.0</td>\n",
       "      <td>20210318.0</td>\n",
       "      <td>4789099.0</td>\n",
       "      <td>PR</td>\n",
       "      <td>7535.0</td>\n",
       "      <td>S</td>\n",
       "      <td>N</td>\n",
       "    </tr>\n",
       "    <tr>\n",
       "      <th>1</th>\n",
       "      <td>41273604</td>\n",
       "      <td>2062.0</td>\n",
       "      <td>10000.0</td>\n",
       "      <td>1.0</td>\n",
       "      <td>1.0</td>\n",
       "      <td>99.0</td>\n",
       "      <td>1.0</td>\n",
       "      <td>2.0</td>\n",
       "      <td>20210318.0</td>\n",
       "      <td>0.0</td>\n",
       "      <td>20210318.0</td>\n",
       "      <td>8592901.0</td>\n",
       "      <td>RS</td>\n",
       "      <td>8625.0</td>\n",
       "      <td>S</td>\n",
       "      <td>N</td>\n",
       "    </tr>\n",
       "  </tbody>\n",
       "</table>\n",
       "</div>"
      ],
      "text/plain": [
       "   CNPJ_BASICO   NATJU  CAP_SOCIAL  PORTE  CNPJ_ORDEM  CNPJ_DV  IDE_MAT_FIL  \\\n",
       "0     41273603  2062.0     10000.0    1.0         1.0     44.0          1.0   \n",
       "1     41273604  2062.0     10000.0    1.0         1.0     99.0          1.0   \n",
       "\n",
       "   SIT_CADASTRAL  DATA_SIT_CADAS  MOT_SIT_CADAS  DATA_INI_ATV  CNAE_FISCAL  \\\n",
       "0            2.0      20210318.0            0.0    20210318.0    4789099.0   \n",
       "1            2.0      20210318.0            0.0    20210318.0    8592901.0   \n",
       "\n",
       "   UF  MUNICIPIO OP_SIMPLES MEI  \n",
       "0  PR     7535.0          S   N  \n",
       "1  RS     8625.0          S   N  "
      ]
     },
     "execution_count": 7,
     "metadata": {},
     "output_type": "execute_result"
    }
   ],
   "source": [
    "empresasBrasil.head(2)"
   ]
  },
  {
   "cell_type": "code",
   "execution_count": 20,
   "id": "777db0bb",
   "metadata": {},
   "outputs": [
    {
     "data": {
      "text/plain": [
       "SP    14877363\n",
       "MG     5676236\n",
       "RJ     4485142\n",
       "RS     3719569\n",
       "PR     3472460\n",
       "BA     2646160\n",
       "SC     2335487\n",
       "GO     1788008\n",
       "PE     1582849\n",
       "CE     1475782\n",
       "ES     1080110\n",
       "PA     1055973\n",
       "MT      948671\n",
       "DF      875488\n",
       "MA      798692\n",
       "MS      697221\n",
       "PB      662235\n",
       "RN      605673\n",
       "AM      545222\n",
       "AL      503223\n",
       "PI      462160\n",
       "RO      370239\n",
       "TO      350235\n",
       "SE      347310\n",
       "EX      153114\n",
       "AC      125117\n",
       "AP      120291\n",
       "RR      100314\n",
       "BR           1\n",
       "Name: UF, dtype: int64"
      ]
     },
     "execution_count": 20,
     "metadata": {},
     "output_type": "execute_result"
    }
   ],
   "source": [
    "empresasBrasil[\"UF\"].value_counts()"
   ]
  },
  {
   "cell_type": "code",
   "execution_count": 131,
   "id": "0a649b6b",
   "metadata": {},
   "outputs": [],
   "source": [
    "#SEPARAR EMPRESAS DE PERNAMBUCO\n",
    "def listaPib(dataframe, valores):\n",
    "    return dataframe.loc[dataframe['UF'].isin(valores)]\n",
    "lista = ['PE']\n",
    "empresasPE = listaPib(empresasBrasil, lista)"
   ]
  },
  {
   "cell_type": "code",
   "execution_count": 132,
   "id": "94974dee",
   "metadata": {},
   "outputs": [
    {
     "data": {
      "text/html": [
       "<div>\n",
       "<style scoped>\n",
       "    .dataframe tbody tr th:only-of-type {\n",
       "        vertical-align: middle;\n",
       "    }\n",
       "\n",
       "    .dataframe tbody tr th {\n",
       "        vertical-align: top;\n",
       "    }\n",
       "\n",
       "    .dataframe thead th {\n",
       "        text-align: right;\n",
       "    }\n",
       "</style>\n",
       "<table border=\"1\" class=\"dataframe\">\n",
       "  <thead>\n",
       "    <tr style=\"text-align: right;\">\n",
       "      <th></th>\n",
       "      <th>CNPJ_BASICO</th>\n",
       "      <th>NATJU</th>\n",
       "      <th>CAP_SOCIAL</th>\n",
       "      <th>PORTE</th>\n",
       "      <th>CNPJ_ORDEM</th>\n",
       "      <th>CNPJ_DV</th>\n",
       "      <th>IDE_MAT_FIL</th>\n",
       "      <th>SIT_CADASTRAL</th>\n",
       "      <th>DATA_SIT_CADAS</th>\n",
       "      <th>MOT_SIT_CADAS</th>\n",
       "      <th>DATA_INI_ATV</th>\n",
       "      <th>CNAE_FISCAL</th>\n",
       "      <th>UF</th>\n",
       "      <th>MUNICIPIO</th>\n",
       "      <th>OP_SIMPLES</th>\n",
       "      <th>MEI</th>\n",
       "    </tr>\n",
       "  </thead>\n",
       "  <tbody>\n",
       "    <tr>\n",
       "      <th>16</th>\n",
       "      <td>41273619</td>\n",
       "      <td>2135.0</td>\n",
       "      <td>10000.0</td>\n",
       "      <td>1.0</td>\n",
       "      <td>1.0</td>\n",
       "      <td>57.0</td>\n",
       "      <td>1.0</td>\n",
       "      <td>2.0</td>\n",
       "      <td>20210318.0</td>\n",
       "      <td>0.0</td>\n",
       "      <td>20210318.0</td>\n",
       "      <td>1091102.0</td>\n",
       "      <td>PE</td>\n",
       "      <td>2491.0</td>\n",
       "      <td>S</td>\n",
       "      <td>S</td>\n",
       "    </tr>\n",
       "    <tr>\n",
       "      <th>43</th>\n",
       "      <td>41273645</td>\n",
       "      <td>2135.0</td>\n",
       "      <td>2500.0</td>\n",
       "      <td>1.0</td>\n",
       "      <td>1.0</td>\n",
       "      <td>85.0</td>\n",
       "      <td>1.0</td>\n",
       "      <td>2.0</td>\n",
       "      <td>20210318.0</td>\n",
       "      <td>0.0</td>\n",
       "      <td>20210318.0</td>\n",
       "      <td>4781400.0</td>\n",
       "      <td>PE</td>\n",
       "      <td>2457.0</td>\n",
       "      <td>S</td>\n",
       "      <td>S</td>\n",
       "    </tr>\n",
       "    <tr>\n",
       "      <th>47</th>\n",
       "      <td>41273649</td>\n",
       "      <td>2135.0</td>\n",
       "      <td>300.0</td>\n",
       "      <td>1.0</td>\n",
       "      <td>1.0</td>\n",
       "      <td>63.0</td>\n",
       "      <td>1.0</td>\n",
       "      <td>2.0</td>\n",
       "      <td>20210318.0</td>\n",
       "      <td>0.0</td>\n",
       "      <td>20210318.0</td>\n",
       "      <td>5620104.0</td>\n",
       "      <td>PE</td>\n",
       "      <td>2467.0</td>\n",
       "      <td>S</td>\n",
       "      <td>S</td>\n",
       "    </tr>\n",
       "    <tr>\n",
       "      <th>57</th>\n",
       "      <td>41273659</td>\n",
       "      <td>2135.0</td>\n",
       "      <td>5000.0</td>\n",
       "      <td>1.0</td>\n",
       "      <td>1.0</td>\n",
       "      <td>7.0</td>\n",
       "      <td>1.0</td>\n",
       "      <td>2.0</td>\n",
       "      <td>20210318.0</td>\n",
       "      <td>0.0</td>\n",
       "      <td>20210318.0</td>\n",
       "      <td>4763601.0</td>\n",
       "      <td>PE</td>\n",
       "      <td>2457.0</td>\n",
       "      <td>S</td>\n",
       "      <td>S</td>\n",
       "    </tr>\n",
       "    <tr>\n",
       "      <th>67</th>\n",
       "      <td>41273669</td>\n",
       "      <td>2135.0</td>\n",
       "      <td>2500.0</td>\n",
       "      <td>1.0</td>\n",
       "      <td>1.0</td>\n",
       "      <td>34.0</td>\n",
       "      <td>1.0</td>\n",
       "      <td>2.0</td>\n",
       "      <td>20210318.0</td>\n",
       "      <td>0.0</td>\n",
       "      <td>20210318.0</td>\n",
       "      <td>8219999.0</td>\n",
       "      <td>PE</td>\n",
       "      <td>2531.0</td>\n",
       "      <td>S</td>\n",
       "      <td>S</td>\n",
       "    </tr>\n",
       "    <tr>\n",
       "      <th>...</th>\n",
       "      <td>...</td>\n",
       "      <td>...</td>\n",
       "      <td>...</td>\n",
       "      <td>...</td>\n",
       "      <td>...</td>\n",
       "      <td>...</td>\n",
       "      <td>...</td>\n",
       "      <td>...</td>\n",
       "      <td>...</td>\n",
       "      <td>...</td>\n",
       "      <td>...</td>\n",
       "      <td>...</td>\n",
       "      <td>...</td>\n",
       "      <td>...</td>\n",
       "      <td>...</td>\n",
       "      <td>...</td>\n",
       "    </tr>\n",
       "    <tr>\n",
       "      <th>51860292</th>\n",
       "      <td>0</td>\n",
       "      <td>NaN</td>\n",
       "      <td>NaN</td>\n",
       "      <td>NaN</td>\n",
       "      <td>5379.0</td>\n",
       "      <td>18.0</td>\n",
       "      <td>2.0</td>\n",
       "      <td>2.0</td>\n",
       "      <td>20051103.0</td>\n",
       "      <td>0.0</td>\n",
       "      <td>20030924.0</td>\n",
       "      <td>6422100.0</td>\n",
       "      <td>PE</td>\n",
       "      <td>2531.0</td>\n",
       "      <td>N</td>\n",
       "      <td>N</td>\n",
       "    </tr>\n",
       "    <tr>\n",
       "      <th>51860318</th>\n",
       "      <td>0</td>\n",
       "      <td>NaN</td>\n",
       "      <td>NaN</td>\n",
       "      <td>NaN</td>\n",
       "      <td>2910.0</td>\n",
       "      <td>64.0</td>\n",
       "      <td>2.0</td>\n",
       "      <td>8.0</td>\n",
       "      <td>19910524.0</td>\n",
       "      <td>1.0</td>\n",
       "      <td>19830901.0</td>\n",
       "      <td>6421200.0</td>\n",
       "      <td>PE</td>\n",
       "      <td>2329.0</td>\n",
       "      <td>N</td>\n",
       "      <td>N</td>\n",
       "    </tr>\n",
       "    <tr>\n",
       "      <th>51860320</th>\n",
       "      <td>0</td>\n",
       "      <td>NaN</td>\n",
       "      <td>NaN</td>\n",
       "      <td>NaN</td>\n",
       "      <td>115.0</td>\n",
       "      <td>50.0</td>\n",
       "      <td>2.0</td>\n",
       "      <td>2.0</td>\n",
       "      <td>20051103.0</td>\n",
       "      <td>0.0</td>\n",
       "      <td>19660801.0</td>\n",
       "      <td>6422100.0</td>\n",
       "      <td>PE</td>\n",
       "      <td>2499.0</td>\n",
       "      <td>N</td>\n",
       "      <td>N</td>\n",
       "    </tr>\n",
       "    <tr>\n",
       "      <th>51860328</th>\n",
       "      <td>0</td>\n",
       "      <td>NaN</td>\n",
       "      <td>NaN</td>\n",
       "      <td>NaN</td>\n",
       "      <td>2919.0</td>\n",
       "      <td>0.0</td>\n",
       "      <td>2.0</td>\n",
       "      <td>2.0</td>\n",
       "      <td>20051103.0</td>\n",
       "      <td>0.0</td>\n",
       "      <td>19830901.0</td>\n",
       "      <td>6422100.0</td>\n",
       "      <td>PE</td>\n",
       "      <td>2391.0</td>\n",
       "      <td>N</td>\n",
       "      <td>N</td>\n",
       "    </tr>\n",
       "    <tr>\n",
       "      <th>51860349</th>\n",
       "      <td>4631962</td>\n",
       "      <td>NaN</td>\n",
       "      <td>NaN</td>\n",
       "      <td>NaN</td>\n",
       "      <td>1.0</td>\n",
       "      <td>8.0</td>\n",
       "      <td>1.0</td>\n",
       "      <td>8.0</td>\n",
       "      <td>20040503.0</td>\n",
       "      <td>1.0</td>\n",
       "      <td>20010828.0</td>\n",
       "      <td>8630503.0</td>\n",
       "      <td>PE</td>\n",
       "      <td>2589.0</td>\n",
       "      <td>NaN</td>\n",
       "      <td>NaN</td>\n",
       "    </tr>\n",
       "  </tbody>\n",
       "</table>\n",
       "<p>1582849 rows × 16 columns</p>\n",
       "</div>"
      ],
      "text/plain": [
       "          CNPJ_BASICO   NATJU  CAP_SOCIAL  PORTE  CNPJ_ORDEM  CNPJ_DV  \\\n",
       "16           41273619  2135.0     10000.0    1.0         1.0     57.0   \n",
       "43           41273645  2135.0      2500.0    1.0         1.0     85.0   \n",
       "47           41273649  2135.0       300.0    1.0         1.0     63.0   \n",
       "57           41273659  2135.0      5000.0    1.0         1.0      7.0   \n",
       "67           41273669  2135.0      2500.0    1.0         1.0     34.0   \n",
       "...               ...     ...         ...    ...         ...      ...   \n",
       "51860292            0     NaN         NaN    NaN      5379.0     18.0   \n",
       "51860318            0     NaN         NaN    NaN      2910.0     64.0   \n",
       "51860320            0     NaN         NaN    NaN       115.0     50.0   \n",
       "51860328            0     NaN         NaN    NaN      2919.0      0.0   \n",
       "51860349      4631962     NaN         NaN    NaN         1.0      8.0   \n",
       "\n",
       "          IDE_MAT_FIL  SIT_CADASTRAL  DATA_SIT_CADAS  MOT_SIT_CADAS  \\\n",
       "16                1.0            2.0      20210318.0            0.0   \n",
       "43                1.0            2.0      20210318.0            0.0   \n",
       "47                1.0            2.0      20210318.0            0.0   \n",
       "57                1.0            2.0      20210318.0            0.0   \n",
       "67                1.0            2.0      20210318.0            0.0   \n",
       "...               ...            ...             ...            ...   \n",
       "51860292          2.0            2.0      20051103.0            0.0   \n",
       "51860318          2.0            8.0      19910524.0            1.0   \n",
       "51860320          2.0            2.0      20051103.0            0.0   \n",
       "51860328          2.0            2.0      20051103.0            0.0   \n",
       "51860349          1.0            8.0      20040503.0            1.0   \n",
       "\n",
       "          DATA_INI_ATV  CNAE_FISCAL  UF  MUNICIPIO OP_SIMPLES  MEI  \n",
       "16          20210318.0    1091102.0  PE     2491.0          S    S  \n",
       "43          20210318.0    4781400.0  PE     2457.0          S    S  \n",
       "47          20210318.0    5620104.0  PE     2467.0          S    S  \n",
       "57          20210318.0    4763601.0  PE     2457.0          S    S  \n",
       "67          20210318.0    8219999.0  PE     2531.0          S    S  \n",
       "...                ...          ...  ..        ...        ...  ...  \n",
       "51860292    20030924.0    6422100.0  PE     2531.0          N    N  \n",
       "51860318    19830901.0    6421200.0  PE     2329.0          N    N  \n",
       "51860320    19660801.0    6422100.0  PE     2499.0          N    N  \n",
       "51860328    19830901.0    6422100.0  PE     2391.0          N    N  \n",
       "51860349    20010828.0    8630503.0  PE     2589.0        NaN  NaN  \n",
       "\n",
       "[1582849 rows x 16 columns]"
      ]
     },
     "execution_count": 132,
     "metadata": {},
     "output_type": "execute_result"
    }
   ],
   "source": [
    "empresasPE\n"
   ]
  },
  {
   "cell_type": "code",
   "execution_count": 151,
   "id": "ef618818",
   "metadata": {
    "id": "ef618818",
    "tags": []
   },
   "outputs": [],
   "source": [
    "#EXPORTAR TABELA DE EMPRESAS DE PE\n",
    "empresasPE.to_csv(r'D:\\#PROJETOS\\FURG\\ECD-CIENCIA DE DADOS\\#TCC-FURG\\BASE-RFB-12-03-2022\\TRATADA\\empresasPE.csv', index = False)"
   ]
  },
  {
   "cell_type": "code",
   "execution_count": 134,
   "id": "42b414e0",
   "metadata": {},
   "outputs": [
    {
     "name": "stdout",
     "output_type": "stream",
     "text": [
      "CNPJ_BASICO            0\n",
      "NATJU                280\n",
      "CAP_SOCIAL           280\n",
      "PORTE                281\n",
      "CNPJ_ORDEM             0\n",
      "CNPJ_DV                0\n",
      "IDE_MAT_FIL            0\n",
      "SIT_CADASTRAL          0\n",
      "DATA_SIT_CADAS         0\n",
      "MOT_SIT_CADAS          0\n",
      "DATA_INI_ATV           0\n",
      "CNAE_FISCAL            0\n",
      "UF                     0\n",
      "MUNICIPIO              0\n",
      "OP_SIMPLES        616805\n",
      "MEI               616805\n",
      "dtype: int64\n"
     ]
    }
   ],
   "source": [
    "#VERIFICAR VALORES FALTANTES\n",
    "print(pd.isnull(empresasPE).sum())"
   ]
  },
  {
   "cell_type": "code",
   "execution_count": 135,
   "id": "71372565",
   "metadata": {},
   "outputs": [
    {
     "name": "stdout",
     "output_type": "stream",
     "text": [
      "Empty DataFrame\n",
      "Columns: [CNPJ_BASICO, NATJU, CAP_SOCIAL, PORTE, CNPJ_ORDEM, CNPJ_DV, IDE_MAT_FIL, SIT_CADASTRAL, DATA_SIT_CADAS, MOT_SIT_CADAS, DATA_INI_ATV, CNAE_FISCAL, UF, MUNICIPIO, OP_SIMPLES, MEI]\n",
      "Index: []\n"
     ]
    }
   ],
   "source": [
    "# VERIFICAR DADOS DUPLICADOS\n",
    "duplicados = empresasPE[empresasPE.duplicated(keep='first')]\n",
    "print(duplicados)"
   ]
  },
  {
   "cell_type": "code",
   "execution_count": 136,
   "id": "1562701b",
   "metadata": {},
   "outputs": [
    {
     "data": {
      "text/html": [
       "<div>\n",
       "<style scoped>\n",
       "    .dataframe tbody tr th:only-of-type {\n",
       "        vertical-align: middle;\n",
       "    }\n",
       "\n",
       "    .dataframe tbody tr th {\n",
       "        vertical-align: top;\n",
       "    }\n",
       "\n",
       "    .dataframe thead th {\n",
       "        text-align: right;\n",
       "    }\n",
       "</style>\n",
       "<table border=\"1\" class=\"dataframe\">\n",
       "  <thead>\n",
       "    <tr style=\"text-align: right;\">\n",
       "      <th></th>\n",
       "      <th>CNPJ_BASICO</th>\n",
       "      <th>NATJU</th>\n",
       "      <th>CAP_SOCIAL</th>\n",
       "      <th>PORTE</th>\n",
       "      <th>CNPJ_ORDEM</th>\n",
       "      <th>CNPJ_DV</th>\n",
       "      <th>IDE_MAT_FIL</th>\n",
       "      <th>SIT_CADASTRAL</th>\n",
       "      <th>DATA_SIT_CADAS</th>\n",
       "      <th>MOT_SIT_CADAS</th>\n",
       "      <th>DATA_INI_ATV</th>\n",
       "      <th>CNAE_FISCAL</th>\n",
       "      <th>UF</th>\n",
       "      <th>MUNICIPIO</th>\n",
       "      <th>OP_SIMPLES</th>\n",
       "      <th>MEI</th>\n",
       "    </tr>\n",
       "  </thead>\n",
       "  <tbody>\n",
       "  </tbody>\n",
       "</table>\n",
       "</div>"
      ],
      "text/plain": [
       "Empty DataFrame\n",
       "Columns: [CNPJ_BASICO, NATJU, CAP_SOCIAL, PORTE, CNPJ_ORDEM, CNPJ_DV, IDE_MAT_FIL, SIT_CADASTRAL, DATA_SIT_CADAS, MOT_SIT_CADAS, DATA_INI_ATV, CNAE_FISCAL, UF, MUNICIPIO, OP_SIMPLES, MEI]\n",
       "Index: []"
      ]
     },
     "execution_count": 136,
     "metadata": {},
     "output_type": "execute_result"
    }
   ],
   "source": [
    "duplicados.head()"
   ]
  },
  {
   "cell_type": "code",
   "execution_count": 152,
   "id": "b2cd78a3-ecd6-41ea-93ea-ba6533a36022",
   "metadata": {
    "id": "b2cd78a3-ecd6-41ea-93ea-ba6533a36022",
    "tags": []
   },
   "outputs": [
    {
     "data": {
      "text/plain": [
       "2531    461499\n",
       "2457    127205\n",
       "2491     91010\n",
       "2381     79382\n",
       "2521     69564\n",
       "         ...  \n",
       "2541       516\n",
       "2447       484\n",
       "2637       473\n",
       "2441       445\n",
       "2587       436\n",
       "Name: MUNICIPIO, Length: 185, dtype: int64"
      ]
     },
     "execution_count": 152,
     "metadata": {},
     "output_type": "execute_result"
    }
   ],
   "source": [
    "# VERIFICAR QTD EMPRESAS POR UF\n",
    "empresasPE['MUNICIPIO'].value_counts()"
   ]
  },
  {
   "cell_type": "code",
   "execution_count": 141,
   "id": "699593ec",
   "metadata": {},
   "outputs": [
    {
     "name": "stderr",
     "output_type": "stream",
     "text": [
      "C:\\Users\\ELISAN~1\\AppData\\Local\\Temp/ipykernel_14260/3547639462.py:2: SettingWithCopyWarning: \n",
      "A value is trying to be set on a copy of a slice from a DataFrame.\n",
      "Try using .loc[row_indexer,col_indexer] = value instead\n",
      "\n",
      "See the caveats in the documentation: https://pandas.pydata.org/pandas-docs/stable/user_guide/indexing.html#returning-a-view-versus-a-copy\n",
      "  empresasPE['MUNICIPIO'] = empresasPE['MUNICIPIO'].astype('int')\n"
     ]
    },
    {
     "data": {
      "text/plain": [
       "dtype('int32')"
      ]
     },
     "execution_count": 141,
     "metadata": {},
     "output_type": "execute_result"
    }
   ],
   "source": [
    "# FORMATAR NUMERO DO MUNICIPIO PARA INTEIRO \n",
    "empresasPE['MUNICIPIO'] = empresasPE['MUNICIPIO'].astype('int')\n",
    "empresasPE['MUNICIPIO'].dtypes"
   ]
  },
  {
   "cell_type": "code",
   "execution_count": 143,
   "id": "82a87a99",
   "metadata": {},
   "outputs": [
    {
     "data": {
      "text/html": [
       "<div>\n",
       "<style scoped>\n",
       "    .dataframe tbody tr th:only-of-type {\n",
       "        vertical-align: middle;\n",
       "    }\n",
       "\n",
       "    .dataframe tbody tr th {\n",
       "        vertical-align: top;\n",
       "    }\n",
       "\n",
       "    .dataframe thead th {\n",
       "        text-align: right;\n",
       "    }\n",
       "</style>\n",
       "<table border=\"1\" class=\"dataframe\">\n",
       "  <thead>\n",
       "    <tr style=\"text-align: right;\">\n",
       "      <th></th>\n",
       "      <th>CNPJ_BASICO</th>\n",
       "      <th>NATJU</th>\n",
       "      <th>CAP_SOCIAL</th>\n",
       "      <th>PORTE</th>\n",
       "      <th>CNPJ_ORDEM</th>\n",
       "      <th>CNPJ_DV</th>\n",
       "      <th>IDE_MAT_FIL</th>\n",
       "      <th>SIT_CADASTRAL</th>\n",
       "      <th>DATA_SIT_CADAS</th>\n",
       "      <th>MOT_SIT_CADAS</th>\n",
       "      <th>DATA_INI_ATV</th>\n",
       "      <th>CNAE_FISCAL</th>\n",
       "      <th>UF</th>\n",
       "      <th>MUNICIPIO</th>\n",
       "      <th>OP_SIMPLES</th>\n",
       "      <th>MEI</th>\n",
       "    </tr>\n",
       "  </thead>\n",
       "  <tbody>\n",
       "    <tr>\n",
       "      <th>16</th>\n",
       "      <td>41273619</td>\n",
       "      <td>2135.0</td>\n",
       "      <td>10000.0</td>\n",
       "      <td>1.0</td>\n",
       "      <td>1.0</td>\n",
       "      <td>57.0</td>\n",
       "      <td>1.0</td>\n",
       "      <td>2.0</td>\n",
       "      <td>20210318.0</td>\n",
       "      <td>0.0</td>\n",
       "      <td>20210318.0</td>\n",
       "      <td>1091102.0</td>\n",
       "      <td>PE</td>\n",
       "      <td>2491</td>\n",
       "      <td>S</td>\n",
       "      <td>S</td>\n",
       "    </tr>\n",
       "    <tr>\n",
       "      <th>43</th>\n",
       "      <td>41273645</td>\n",
       "      <td>2135.0</td>\n",
       "      <td>2500.0</td>\n",
       "      <td>1.0</td>\n",
       "      <td>1.0</td>\n",
       "      <td>85.0</td>\n",
       "      <td>1.0</td>\n",
       "      <td>2.0</td>\n",
       "      <td>20210318.0</td>\n",
       "      <td>0.0</td>\n",
       "      <td>20210318.0</td>\n",
       "      <td>4781400.0</td>\n",
       "      <td>PE</td>\n",
       "      <td>2457</td>\n",
       "      <td>S</td>\n",
       "      <td>S</td>\n",
       "    </tr>\n",
       "    <tr>\n",
       "      <th>47</th>\n",
       "      <td>41273649</td>\n",
       "      <td>2135.0</td>\n",
       "      <td>300.0</td>\n",
       "      <td>1.0</td>\n",
       "      <td>1.0</td>\n",
       "      <td>63.0</td>\n",
       "      <td>1.0</td>\n",
       "      <td>2.0</td>\n",
       "      <td>20210318.0</td>\n",
       "      <td>0.0</td>\n",
       "      <td>20210318.0</td>\n",
       "      <td>5620104.0</td>\n",
       "      <td>PE</td>\n",
       "      <td>2467</td>\n",
       "      <td>S</td>\n",
       "      <td>S</td>\n",
       "    </tr>\n",
       "    <tr>\n",
       "      <th>57</th>\n",
       "      <td>41273659</td>\n",
       "      <td>2135.0</td>\n",
       "      <td>5000.0</td>\n",
       "      <td>1.0</td>\n",
       "      <td>1.0</td>\n",
       "      <td>7.0</td>\n",
       "      <td>1.0</td>\n",
       "      <td>2.0</td>\n",
       "      <td>20210318.0</td>\n",
       "      <td>0.0</td>\n",
       "      <td>20210318.0</td>\n",
       "      <td>4763601.0</td>\n",
       "      <td>PE</td>\n",
       "      <td>2457</td>\n",
       "      <td>S</td>\n",
       "      <td>S</td>\n",
       "    </tr>\n",
       "    <tr>\n",
       "      <th>67</th>\n",
       "      <td>41273669</td>\n",
       "      <td>2135.0</td>\n",
       "      <td>2500.0</td>\n",
       "      <td>1.0</td>\n",
       "      <td>1.0</td>\n",
       "      <td>34.0</td>\n",
       "      <td>1.0</td>\n",
       "      <td>2.0</td>\n",
       "      <td>20210318.0</td>\n",
       "      <td>0.0</td>\n",
       "      <td>20210318.0</td>\n",
       "      <td>8219999.0</td>\n",
       "      <td>PE</td>\n",
       "      <td>2531</td>\n",
       "      <td>S</td>\n",
       "      <td>S</td>\n",
       "    </tr>\n",
       "  </tbody>\n",
       "</table>\n",
       "</div>"
      ],
      "text/plain": [
       "    CNPJ_BASICO   NATJU  CAP_SOCIAL  PORTE  CNPJ_ORDEM  CNPJ_DV  IDE_MAT_FIL  \\\n",
       "16     41273619  2135.0     10000.0    1.0         1.0     57.0          1.0   \n",
       "43     41273645  2135.0      2500.0    1.0         1.0     85.0          1.0   \n",
       "47     41273649  2135.0       300.0    1.0         1.0     63.0          1.0   \n",
       "57     41273659  2135.0      5000.0    1.0         1.0      7.0          1.0   \n",
       "67     41273669  2135.0      2500.0    1.0         1.0     34.0          1.0   \n",
       "\n",
       "    SIT_CADASTRAL  DATA_SIT_CADAS  MOT_SIT_CADAS  DATA_INI_ATV  CNAE_FISCAL  \\\n",
       "16            2.0      20210318.0            0.0    20210318.0    1091102.0   \n",
       "43            2.0      20210318.0            0.0    20210318.0    4781400.0   \n",
       "47            2.0      20210318.0            0.0    20210318.0    5620104.0   \n",
       "57            2.0      20210318.0            0.0    20210318.0    4763601.0   \n",
       "67            2.0      20210318.0            0.0    20210318.0    8219999.0   \n",
       "\n",
       "    UF  MUNICIPIO OP_SIMPLES MEI  \n",
       "16  PE       2491          S   S  \n",
       "43  PE       2457          S   S  \n",
       "47  PE       2467          S   S  \n",
       "57  PE       2457          S   S  \n",
       "67  PE       2531          S   S  "
      ]
     },
     "execution_count": 143,
     "metadata": {},
     "output_type": "execute_result"
    }
   ],
   "source": [
    "#VISUALIZAR DATASET\n",
    "empresasPE.head()"
   ]
  },
  {
   "cell_type": "code",
   "execution_count": 150,
   "id": "da8fdca3",
   "metadata": {},
   "outputs": [
    {
     "data": {
      "text/html": [
       "<div>\n",
       "<style scoped>\n",
       "    .dataframe tbody tr th:only-of-type {\n",
       "        vertical-align: middle;\n",
       "    }\n",
       "\n",
       "    .dataframe tbody tr th {\n",
       "        vertical-align: top;\n",
       "    }\n",
       "\n",
       "    .dataframe thead th {\n",
       "        text-align: right;\n",
       "    }\n",
       "</style>\n",
       "<table border=\"1\" class=\"dataframe\">\n",
       "  <thead>\n",
       "    <tr style=\"text-align: right;\">\n",
       "      <th></th>\n",
       "      <th>N_MUNIC</th>\n",
       "      <th>DESC_MUNIC</th>\n",
       "    </tr>\n",
       "  </thead>\n",
       "  <tbody>\n",
       "    <tr>\n",
       "      <th>0</th>\n",
       "      <td>1</td>\n",
       "      <td>GUAJARA-MIRIM</td>\n",
       "    </tr>\n",
       "    <tr>\n",
       "      <th>1</th>\n",
       "      <td>2</td>\n",
       "      <td>ALTO ALEGRE DOS PARECIS</td>\n",
       "    </tr>\n",
       "    <tr>\n",
       "      <th>2</th>\n",
       "      <td>3</td>\n",
       "      <td>PORTO VELHO</td>\n",
       "    </tr>\n",
       "    <tr>\n",
       "      <th>3</th>\n",
       "      <td>4</td>\n",
       "      <td>BURITIS</td>\n",
       "    </tr>\n",
       "    <tr>\n",
       "      <th>4</th>\n",
       "      <td>5</td>\n",
       "      <td>JI-PARANA</td>\n",
       "    </tr>\n",
       "    <tr>\n",
       "      <th>...</th>\n",
       "      <td>...</td>\n",
       "      <td>...</td>\n",
       "    </tr>\n",
       "    <tr>\n",
       "      <th>5566</th>\n",
       "      <td>9989</td>\n",
       "      <td>SERRA ALTA</td>\n",
       "    </tr>\n",
       "    <tr>\n",
       "      <th>5567</th>\n",
       "      <td>9991</td>\n",
       "      <td>TUNAPOLIS</td>\n",
       "    </tr>\n",
       "    <tr>\n",
       "      <th>5568</th>\n",
       "      <td>9993</td>\n",
       "      <td>GUARINOS</td>\n",
       "    </tr>\n",
       "    <tr>\n",
       "      <th>5569</th>\n",
       "      <td>9995</td>\n",
       "      <td>RIO QUENTE</td>\n",
       "    </tr>\n",
       "    <tr>\n",
       "      <th>5570</th>\n",
       "      <td>9997</td>\n",
       "      <td>CORONEL SAPUCAIA</td>\n",
       "    </tr>\n",
       "  </tbody>\n",
       "</table>\n",
       "<p>5571 rows × 2 columns</p>\n",
       "</div>"
      ],
      "text/plain": [
       "      N_MUNIC               DESC_MUNIC\n",
       "0           1            GUAJARA-MIRIM\n",
       "1           2  ALTO ALEGRE DOS PARECIS\n",
       "2           3              PORTO VELHO\n",
       "3           4                  BURITIS\n",
       "4           5                JI-PARANA\n",
       "...       ...                      ...\n",
       "5566     9989               SERRA ALTA\n",
       "5567     9991                TUNAPOLIS\n",
       "5568     9993                 GUARINOS\n",
       "5569     9995               RIO QUENTE\n",
       "5570     9997         CORONEL SAPUCAIA\n",
       "\n",
       "[5571 rows x 2 columns]"
      ]
     },
     "execution_count": 150,
     "metadata": {},
     "output_type": "execute_result"
    }
   ],
   "source": [
    "# IMPORTAR TABELA AUXILIAR MUNICIPIO DO IBGE\n",
    "MunicipioIBGE = pd.read_csv('D:\\#PROJETOS\\FURG\\ECD-CIENCIA DE DADOS\\#TCC-FURG\\BASE-RFB-12-03-2022\\TRATADA\\municipio.csv', sep=',', encoding='UTF-8')\n",
    "MunicipioIBGE"
   ]
  },
  {
   "cell_type": "code",
   "execution_count": 153,
   "id": "7055bda0",
   "metadata": {},
   "outputs": [
    {
     "data": {
      "text/html": [
       "<div>\n",
       "<style scoped>\n",
       "    .dataframe tbody tr th:only-of-type {\n",
       "        vertical-align: middle;\n",
       "    }\n",
       "\n",
       "    .dataframe tbody tr th {\n",
       "        vertical-align: top;\n",
       "    }\n",
       "\n",
       "    .dataframe thead th {\n",
       "        text-align: right;\n",
       "    }\n",
       "</style>\n",
       "<table border=\"1\" class=\"dataframe\">\n",
       "  <thead>\n",
       "    <tr style=\"text-align: right;\">\n",
       "      <th></th>\n",
       "      <th>MUNICIPIO</th>\n",
       "      <th>DESC_MUNIC</th>\n",
       "    </tr>\n",
       "  </thead>\n",
       "  <tbody>\n",
       "    <tr>\n",
       "      <th>0</th>\n",
       "      <td>1</td>\n",
       "      <td>GUAJARA-MIRIM</td>\n",
       "    </tr>\n",
       "    <tr>\n",
       "      <th>1</th>\n",
       "      <td>2</td>\n",
       "      <td>ALTO ALEGRE DOS PARECIS</td>\n",
       "    </tr>\n",
       "    <tr>\n",
       "      <th>2</th>\n",
       "      <td>3</td>\n",
       "      <td>PORTO VELHO</td>\n",
       "    </tr>\n",
       "    <tr>\n",
       "      <th>3</th>\n",
       "      <td>4</td>\n",
       "      <td>BURITIS</td>\n",
       "    </tr>\n",
       "    <tr>\n",
       "      <th>4</th>\n",
       "      <td>5</td>\n",
       "      <td>JI-PARANA</td>\n",
       "    </tr>\n",
       "  </tbody>\n",
       "</table>\n",
       "</div>"
      ],
      "text/plain": [
       "   MUNICIPIO               DESC_MUNIC\n",
       "0          1            GUAJARA-MIRIM\n",
       "1          2  ALTO ALEGRE DOS PARECIS\n",
       "2          3              PORTO VELHO\n",
       "3          4                  BURITIS\n",
       "4          5                JI-PARANA"
      ]
     },
     "execution_count": 153,
     "metadata": {},
     "output_type": "execute_result"
    }
   ],
   "source": [
    "# FORMATAR TABELA MUNICIPIO IBGE PARA MERGE\n",
    "MunicipioIBGE.dtypes\n",
    "MunicipioIBGE = MunicipioIBGE.rename(columns={'N_MUNIC': 'MUNICIPIO'})\n",
    "MunicipioIBGE.head()"
   ]
  },
  {
   "cell_type": "markdown",
   "id": "334dd47f",
   "metadata": {},
   "source": [
    "# VISUALIZAÇÃO E TRATAMENTO DATASET PIB POR MUNICIPIO"
   ]
  },
  {
   "cell_type": "code",
   "execution_count": 154,
   "id": "1deJXKWdt7_a",
   "metadata": {
    "id": "1deJXKWdt7_a"
   },
   "outputs": [],
   "source": [
    "# IMPORTACAO DA TABELA PIB POR MUNICIPIO (IBGE)\n",
    "import xlrd\n",
    "PIB_Municipios = pd.read_excel('D:\\#PROJETOS\\FURG\\ECD-CIENCIA DE DADOS\\#TCC-FURG\\BASE-RFB-12-03-2022\\DADOS IBGE\\PIB_Municípios.xls')"
   ]
  },
  {
   "cell_type": "code",
   "execution_count": 155,
   "id": "SQEhrAHlt69s",
   "metadata": {
    "colab": {
     "base_uri": "https://localhost:8080/"
    },
    "id": "SQEhrAHlt69s",
    "outputId": "1ba15f69-12dd-4770-be83-dd88586ef8c4"
   },
   "outputs": [
    {
     "data": {
      "text/plain": [
       "Index(['Ano', 'Código da Grande Região', 'Nome da Grande Região',\n",
       "       'Código da Unidade da Federação', 'Sigla da Unidade da Federação',\n",
       "       'Nome da Unidade da Federação', 'Código do Município',\n",
       "       'Nome do Município', 'Região Metropolitana', 'Código da Mesorregião',\n",
       "       'Nome da Mesorregião', 'Código da Microrregião', 'Nome da Microrregião',\n",
       "       'Código da Região Geográfica Imediata',\n",
       "       'Nome da Região Geográfica Imediata',\n",
       "       'Município da Região Geográfica Imediata',\n",
       "       'Código da Região Geográfica Intermediária',\n",
       "       'Nome da Região Geográfica Intermediária',\n",
       "       'Município da Região Geográfica Intermediária',\n",
       "       'Código Concentração Urbana', 'Nome Concentração Urbana',\n",
       "       'Tipo Concentração Urbana', 'Código Arranjo Populacional',\n",
       "       'Nome Arranjo Populacional', 'Hierarquia Urbana',\n",
       "       'Hierarquia Urbana (principais categorias)', 'Código da Região Rural',\n",
       "       'Nome da Região Rural',\n",
       "       'Região rural (segundo classificação do núcleo)', 'Amazônia Legal',\n",
       "       'Semiárido', 'Cidade-Região de São Paulo',\n",
       "       'Valor adicionado bruto da Agropecuária, \\na preços correntes\\n(R$ 1.000)',\n",
       "       'Valor adicionado bruto da Indústria,\\na preços correntes\\n(R$ 1.000)',\n",
       "       'Valor adicionado bruto dos Serviços,\\na preços correntes \\n- exceto Administração, defesa, educação e saúde públicas e seguridade social\\n(R$ 1.000)',\n",
       "       'Valor adicionado bruto da Administração, defesa, educação e saúde públicas e seguridade social, \\na preços correntes\\n(R$ 1.000)',\n",
       "       'Valor adicionado bruto total, \\na preços correntes\\n(R$ 1.000)',\n",
       "       'Impostos, líquidos de subsídios, sobre produtos, \\na preços correntes\\n(R$ 1.000)',\n",
       "       'Produto Interno Bruto, \\na preços correntes\\n(R$ 1.000)',\n",
       "       'Produto Interno Bruto per capita, \\na preços correntes\\n(R$ 1,00)',\n",
       "       'Atividade com maior valor adicionado bruto',\n",
       "       'Atividade com segundo maior valor adicionado bruto',\n",
       "       'Atividade com terceiro maior valor adicionado bruto'],\n",
       "      dtype='object')"
      ]
     },
     "execution_count": 155,
     "metadata": {},
     "output_type": "execute_result"
    }
   ],
   "source": [
    "# VERIFICANDO COLUNAS\n",
    "PIB_Municipios.columns"
   ]
  },
  {
   "cell_type": "code",
   "execution_count": 156,
   "id": "414eda48",
   "metadata": {},
   "outputs": [],
   "source": [
    "#SELECIONAR COLUNAS DO PIB \n",
    "colunasSelecionadas = ['Ano','Sigla da Unidade da Federação',\n",
    "       'Nome da Unidade da Federação', 'Código do Município',\n",
    "       'Nome do Município','Produto Interno Bruto, \\na preços correntes\\n(R$ 1.000)','Atividade com maior valor adicionado bruto']"
   ]
  },
  {
   "cell_type": "code",
   "execution_count": 157,
   "id": "f3dbd7c2",
   "metadata": {},
   "outputs": [],
   "source": [
    "#SEPARAR PIB DO ANO 2019\n",
    "def listaPib(dataframe, valores):\n",
    "    return dataframe.loc[dataframe['Ano'].isin(valores)]\n",
    "lista = [2019]\n",
    "PibBrasil2019 = listaPib(PIB_Municipios, lista)"
   ]
  },
  {
   "cell_type": "code",
   "execution_count": 158,
   "id": "14cc0bcd",
   "metadata": {},
   "outputs": [],
   "source": [
    "#SEPARAR PIB POR COLUNAS SELECIONADAS\n",
    "Pib_selecionado = PibBrasil2019.filter(items=colunasSelecionadas)"
   ]
  },
  {
   "cell_type": "code",
   "execution_count": 159,
   "id": "qEVk0Cqur6f2",
   "metadata": {
    "id": "qEVk0Cqur6f2"
   },
   "outputs": [
    {
     "data": {
      "text/html": [
       "<div>\n",
       "<style scoped>\n",
       "    .dataframe tbody tr th:only-of-type {\n",
       "        vertical-align: middle;\n",
       "    }\n",
       "\n",
       "    .dataframe tbody tr th {\n",
       "        vertical-align: top;\n",
       "    }\n",
       "\n",
       "    .dataframe thead th {\n",
       "        text-align: right;\n",
       "    }\n",
       "</style>\n",
       "<table border=\"1\" class=\"dataframe\">\n",
       "  <thead>\n",
       "    <tr style=\"text-align: right;\">\n",
       "      <th></th>\n",
       "      <th>Ano</th>\n",
       "      <th>UF</th>\n",
       "      <th>ESTADO</th>\n",
       "      <th>COD_MUN</th>\n",
       "      <th>MUNICIPIO</th>\n",
       "      <th>PIB</th>\n",
       "      <th>MAIOR_ATIV</th>\n",
       "    </tr>\n",
       "  </thead>\n",
       "  <tbody>\n",
       "    <tr>\n",
       "      <th>50115</th>\n",
       "      <td>2019</td>\n",
       "      <td>RO</td>\n",
       "      <td>Rondônia</td>\n",
       "      <td>1100015</td>\n",
       "      <td>Alta Floresta D'Oeste</td>\n",
       "      <td>495628.767</td>\n",
       "      <td>Administração, defesa, educação e saúde públic...</td>\n",
       "    </tr>\n",
       "    <tr>\n",
       "      <th>50116</th>\n",
       "      <td>2019</td>\n",
       "      <td>RO</td>\n",
       "      <td>Rondônia</td>\n",
       "      <td>1100023</td>\n",
       "      <td>Ariquemes</td>\n",
       "      <td>2578829.725</td>\n",
       "      <td>Demais serviços</td>\n",
       "    </tr>\n",
       "    <tr>\n",
       "      <th>50117</th>\n",
       "      <td>2019</td>\n",
       "      <td>RO</td>\n",
       "      <td>Rondônia</td>\n",
       "      <td>1100031</td>\n",
       "      <td>Cabixi</td>\n",
       "      <td>139959.390</td>\n",
       "      <td>Administração, defesa, educação e saúde públic...</td>\n",
       "    </tr>\n",
       "    <tr>\n",
       "      <th>50118</th>\n",
       "      <td>2019</td>\n",
       "      <td>RO</td>\n",
       "      <td>Rondônia</td>\n",
       "      <td>1100049</td>\n",
       "      <td>Cacoal</td>\n",
       "      <td>2260643.565</td>\n",
       "      <td>Demais serviços</td>\n",
       "    </tr>\n",
       "    <tr>\n",
       "      <th>50119</th>\n",
       "      <td>2019</td>\n",
       "      <td>RO</td>\n",
       "      <td>Rondônia</td>\n",
       "      <td>1100056</td>\n",
       "      <td>Cerejeiras</td>\n",
       "      <td>506854.457</td>\n",
       "      <td>Comércio e reparação de veículos automotores e...</td>\n",
       "    </tr>\n",
       "  </tbody>\n",
       "</table>\n",
       "</div>"
      ],
      "text/plain": [
       "        Ano  UF    ESTADO  COD_MUN              MUNICIPIO          PIB  \\\n",
       "50115  2019  RO  Rondônia  1100015  Alta Floresta D'Oeste   495628.767   \n",
       "50116  2019  RO  Rondônia  1100023              Ariquemes  2578829.725   \n",
       "50117  2019  RO  Rondônia  1100031                 Cabixi   139959.390   \n",
       "50118  2019  RO  Rondônia  1100049                 Cacoal  2260643.565   \n",
       "50119  2019  RO  Rondônia  1100056             Cerejeiras   506854.457   \n",
       "\n",
       "                                              MAIOR_ATIV  \n",
       "50115  Administração, defesa, educação e saúde públic...  \n",
       "50116                                    Demais serviços  \n",
       "50117  Administração, defesa, educação e saúde públic...  \n",
       "50118                                    Demais serviços  \n",
       "50119  Comércio e reparação de veículos automotores e...  "
      ]
     },
     "execution_count": 159,
     "metadata": {},
     "output_type": "execute_result"
    }
   ],
   "source": [
    "# RENOMEAR COLUNAS DO DATASET\n",
    "Pib_selecionado = Pib_selecionado.rename(columns={'Sigla da Unidade da Federação': 'UF', 'Produto Interno Bruto, \\na preços correntes\\n(R$ 1.000)' : 'PIB'})\n",
    "Pib_selecionado = Pib_selecionado.rename(columns={'Nome da Unidade da Federação': 'ESTADO', 'Código do Município' : 'COD_MUN'})\n",
    "Pib_selecionado = Pib_selecionado.rename(columns={'Nome do Município': 'MUNICIPIO', 'Atividade com maior valor adicionado bruto' : 'MAIOR_ATIV'})\n",
    "Pib_selecionado.head()"
   ]
  },
  {
   "cell_type": "code",
   "execution_count": 161,
   "id": "44c35756",
   "metadata": {},
   "outputs": [],
   "source": [
    "PibBrasil2019 = Pib_selecionado\n",
    "#SEPARAR PIB 2019 DE PE\n",
    "def listaPib(dataframe, valores):\n",
    "    return dataframe.loc[dataframe['UF'].isin(valores)]\n",
    "lista = ['PE']\n",
    "PibPE2019 = listaPib(PibBrasil2019, lista)\n",
    "PibPE2019.to_csv(r'D:\\#PROJETOS\\FURG\\ECD-CIENCIA DE DADOS\\#TCC-FURG\\BASE-RFB-12-03-2022\\TRATADA\\PibPE2019.csv', index = False)\n"
   ]
  },
  {
   "cell_type": "markdown",
   "id": "7337bc31",
   "metadata": {},
   "source": [
    "# VISUALIZAÇÃO E TRATAMENTO DATASET ARRECADAÇÃO POR MUNICIPIO"
   ]
  },
  {
   "cell_type": "code",
   "execution_count": 9,
   "id": "f9a9652e",
   "metadata": {},
   "outputs": [],
   "source": [
    "#RETORNAR AQUI\n",
    "# IMPORTAR TABELA ARRECADAÇÃO\n",
    "import pandas as pd\n",
    "import xlrd\n",
    "os.chdir('D:\\#PROJETOS\\FURG\\ECD-CIENCIA DE DADOS\\#TCC-FURG\\BASE-RFB-12-03-2022\\DADOS_IBGE')\n",
    "arrecadacaoBrasil = pd.read_excel('arrecadacao_municipio-2019.xls')\n"
   ]
  },
  {
   "cell_type": "code",
   "execution_count": 16,
   "id": "752f994f",
   "metadata": {},
   "outputs": [
    {
     "data": {
      "text/html": [
       "<div>\n",
       "<style scoped>\n",
       "    .dataframe tbody tr th:only-of-type {\n",
       "        vertical-align: middle;\n",
       "    }\n",
       "\n",
       "    .dataframe tbody tr th {\n",
       "        vertical-align: top;\n",
       "    }\n",
       "\n",
       "    .dataframe thead th {\n",
       "        text-align: right;\n",
       "    }\n",
       "</style>\n",
       "<table border=\"1\" class=\"dataframe\">\n",
       "  <thead>\n",
       "    <tr style=\"text-align: right;\">\n",
       "      <th></th>\n",
       "      <th>MUNICIPIO</th>\n",
       "      <th>UF</th>\n",
       "      <th>ARRECADACAO</th>\n",
       "    </tr>\n",
       "  </thead>\n",
       "  <tbody>\n",
       "    <tr>\n",
       "      <th>0</th>\n",
       "      <td>ABADIA DE GOIAS</td>\n",
       "      <td>GO</td>\n",
       "      <td>16042035.6700</td>\n",
       "    </tr>\n",
       "    <tr>\n",
       "      <th>1</th>\n",
       "      <td>ABADIA DOS DOURADOS</td>\n",
       "      <td>MG</td>\n",
       "      <td>9364074.0000</td>\n",
       "    </tr>\n",
       "    <tr>\n",
       "      <th>2</th>\n",
       "      <td>ABADIANIA</td>\n",
       "      <td>GO</td>\n",
       "      <td>17694247.4300</td>\n",
       "    </tr>\n",
       "    <tr>\n",
       "      <th>3</th>\n",
       "      <td>ABAETE</td>\n",
       "      <td>MG</td>\n",
       "      <td>31971554.6400</td>\n",
       "    </tr>\n",
       "    <tr>\n",
       "      <th>4</th>\n",
       "      <td>ABAETETUBA</td>\n",
       "      <td>PA</td>\n",
       "      <td>53802049.7400</td>\n",
       "    </tr>\n",
       "  </tbody>\n",
       "</table>\n",
       "</div>"
      ],
      "text/plain": [
       "             MUNICIPIO  UF   ARRECADACAO\n",
       "0      ABADIA DE GOIAS  GO 16042035.6700\n",
       "1  ABADIA DOS DOURADOS  MG  9364074.0000\n",
       "2            ABADIANIA  GO 17694247.4300\n",
       "3               ABAETE  MG 31971554.6400\n",
       "4           ABAETETUBA  PA 53802049.7400"
      ]
     },
     "execution_count": 16,
     "metadata": {},
     "output_type": "execute_result"
    }
   ],
   "source": [
    "#VISUALIZAR TABELA ARRECADAÇÃO\n",
    "arrecadacaoBrasil.head()"
   ]
  },
  {
   "cell_type": "code",
   "execution_count": 11,
   "id": "3348a3ad",
   "metadata": {},
   "outputs": [],
   "source": [
    "arrecadacaoBrasil = arrecadacaoBrasil.rename(columns={'MUNICÍPIOS': 'MUNICIPIO', 'ARRECADAÇÃO' : 'ARRECADACAO'})"
   ]
  },
  {
   "cell_type": "markdown",
   "id": "1fdc8f9a-f0a8-482e-a894-10e4baca1c97",
   "metadata": {
    "id": "1fdc8f9a-f0a8-482e-a894-10e4baca1c97"
   },
   "source": []
  },
  {
   "cell_type": "code",
   "execution_count": 166,
   "id": "70adb6be",
   "metadata": {
    "id": "70adb6be"
   },
   "outputs": [
    {
     "data": {
      "text/plain": [
       "14"
      ]
     },
     "execution_count": 166,
     "metadata": {},
     "output_type": "execute_result"
    }
   ],
   "source": [
    "#LIMPAR MEMORIA\n",
    "import gc\n",
    "del empresasBrasil\n",
    "del duplicados\n",
    "del empresasPE\n",
    "del empresas\n",
    "del PIB_Municipios\n",
    "del Pib_selecionado\n",
    "del PibPE2019\n",
    "del MunicipioIBGE\n",
    "del PibBrasil2019\n",
    "del lista\n",
    "del i\n",
    "del colunasSelecionadas\n",
    "del count\n",
    "del estados\n",
    "\n",
    "gc.collect()"
   ]
  },
  {
   "cell_type": "code",
   "execution_count": null,
   "id": "dbe2b1e6-b359-4658-85c4-cb895172112f",
   "metadata": {
    "id": "dbe2b1e6-b359-4658-85c4-cb895172112f"
   },
   "outputs": [],
   "source": []
  }
 ],
 "metadata": {
  "accelerator": "GPU",
  "colab": {
   "collapsed_sections": [],
   "name": "analisar_empBrasil_25fev2022.ipynb",
   "provenance": []
  },
  "interpreter": {
   "hash": "5b073687c297e03367fa52381c71b11bcc7ddb3e10a4ef36cadf7b6c05927296"
  },
  "kernelspec": {
   "display_name": "Python 3.9.7 ('base')",
   "language": "python",
   "name": "python3"
  },
  "language_info": {
   "codemirror_mode": {
    "name": "ipython",
    "version": 3
   },
   "file_extension": ".py",
   "mimetype": "text/x-python",
   "name": "python",
   "nbconvert_exporter": "python",
   "pygments_lexer": "ipython3",
   "version": "3.9.7"
  },
  "toc-showtags": false
 },
 "nbformat": 4,
 "nbformat_minor": 5
}

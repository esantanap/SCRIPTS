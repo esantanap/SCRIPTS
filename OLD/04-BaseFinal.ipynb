{
 "cells": [
  {
   "cell_type": "code",
   "execution_count": 1,
   "metadata": {},
   "outputs": [],
   "source": [
    "import numpy as np\n",
    "import pandas as pd\n",
    "import xlrd"
   ]
  },
  {
   "cell_type": "code",
   "execution_count": null,
   "metadata": {
    "executionInfo": {
     "elapsed": 599,
     "status": "ok",
     "timestamp": 1651340879209,
     "user": {
      "displayName": "Elisangela Furg",
      "userId": "10599246134434945793"
     },
     "user_tz": 180
    },
    "id": "3k4JzTuAJd4s"
   },
   "outputs": [],
   "source": [
    "# IMPORTAR EMPRESAS DE PE\n",
    "empresasPE = pd.read_csv('D:\\#PROJETOS\\FURG\\ECD-CIENCIA DE DADOS\\#TCC-FURG\\BASE-RFB-12-03-2022\\TRATADA\\empresasPE.csv', sep=',',encoding='UTF-8')"
   ]
  },
  {
   "cell_type": "code",
   "execution_count": null,
   "metadata": {
    "colab": {
     "base_uri": "https://localhost:8080/"
    },
    "executionInfo": {
     "elapsed": 35,
     "status": "ok",
     "timestamp": 1651340879211,
     "user": {
      "displayName": "Elisangela Furg",
      "userId": "10599246134434945793"
     },
     "user_tz": 180
    },
    "id": "JF1qnEiSWHNy",
    "outputId": "191b13a5-028d-4f18-e953-0eb003b77fe3"
   },
   "outputs": [],
   "source": [
    "empresasPE.shape"
   ]
  },
  {
   "cell_type": "code",
   "execution_count": null,
   "metadata": {
    "colab": {
     "base_uri": "https://localhost:8080/"
    },
    "executionInfo": {
     "elapsed": 32,
     "status": "ok",
     "timestamp": 1651340879212,
     "user": {
      "displayName": "Elisangela Furg",
      "userId": "10599246134434945793"
     },
     "user_tz": 180
    },
    "id": "-V2nIpqpWKzq",
    "outputId": "b75b0761-ead4-4630-f7aa-70c355667db1"
   },
   "outputs": [],
   "source": [
    "empresasPE.info()"
   ]
  },
  {
   "cell_type": "code",
   "execution_count": null,
   "metadata": {
    "colab": {
     "base_uri": "https://localhost:8080/",
     "height": 214
    },
    "executionInfo": {
     "elapsed": 27,
     "status": "ok",
     "timestamp": 1651340879214,
     "user": {
      "displayName": "Elisangela Furg",
      "userId": "10599246134434945793"
     },
     "user_tz": 180
    },
    "id": "ZaNBhhhTnx8l",
    "outputId": "5692cdb7-4f3d-4530-e0fc-e393659049e0"
   },
   "outputs": [],
   "source": [
    "#VERIFICAR VALORES FALTANTES\n",
    "print(pd.isnull(empresasPE).sum())\n"
   ]
  },
  {
   "cell_type": "code",
   "execution_count": null,
   "metadata": {},
   "outputs": [],
   "source": [
    "# EXCLUIR MEI\n",
    "empresasPEsemMei = empresasPE[empresasPE['MEI']!='S']"
   ]
  },
  {
   "cell_type": "code",
   "execution_count": null,
   "metadata": {},
   "outputs": [],
   "source": [
    "print(\"sem MEI = \", empresasPEsemMei.shape)\n",
    "print(\"com MEI = \", empresasPE.shape)\n",
    "print(\"Total de MEI =\", empresasPE.shape[0] - empresasPEsemMei.shape[0])\n"
   ]
  },
  {
   "cell_type": "code",
   "execution_count": null,
   "metadata": {},
   "outputs": [],
   "source": [
    "#VERIFICAR CNAES FISCAIS - AGREGAR AO DATASET EMPRESAS\n",
    "empresasPEsemMei['CNAE_FISCAL'].value_counts().head()"
   ]
  },
  {
   "cell_type": "code",
   "execution_count": null,
   "metadata": {},
   "outputs": [],
   "source": [
    "cnae = pd.read_csv('D:\\#PROJETOS\\FURG\\ECD-CIENCIA DE DADOS\\#TCC-FURG\\BASE-RFB-12-03-2022\\TRATADA\\cnae.csv', sep=',',encoding='UTF-8')"
   ]
  },
  {
   "cell_type": "code",
   "execution_count": null,
   "metadata": {},
   "outputs": [],
   "source": [
    "cnae.head()"
   ]
  },
  {
   "cell_type": "code",
   "execution_count": null,
   "metadata": {},
   "outputs": [],
   "source": [
    "cnae = cnae.rename(columns={'N_CNAE': 'CNAE_FISCAL'})"
   ]
  },
  {
   "cell_type": "code",
   "execution_count": null,
   "metadata": {},
   "outputs": [],
   "source": [
    "empresasPEsemMei = pd.merge(empresasPEsemMei,cnae, on='CNAE_FISCAL')"
   ]
  },
  {
   "cell_type": "code",
   "execution_count": null,
   "metadata": {},
   "outputs": [],
   "source": [
    "empresasPEsemMei.info()"
   ]
  },
  {
   "cell_type": "code",
   "execution_count": null,
   "metadata": {},
   "outputs": [],
   "source": [
    "#ANALISAR CNAES DAS EMPRESAS DE PE\n",
    "empresasPEsemMei[\"DESC_CNAE\"].value_counts().head()"
   ]
  },
  {
   "cell_type": "code",
   "execution_count": null,
   "metadata": {},
   "outputs": [],
   "source": [
    "# EXCLUIR CNAE ['Atividades de organizações políticas', 'Atividade Econônica não informada']\n",
    "empresasPEsemMei = empresasPEsemMei[empresasPEsemMei[\"DESC_CNAE\"]!= \"Atividades de organizações políticas\"]\n",
    "empresasPEsemMei = empresasPEsemMei[empresasPEsemMei[\"DESC_CNAE\"]!=\"Atividade Econônica não informada\"]\n",
    "empresasPEsemMei[\"DESC_CNAE\"].value_counts().head()"
   ]
  },
  {
   "cell_type": "code",
   "execution_count": null,
   "metadata": {},
   "outputs": [],
   "source": [
    "#ANALISAR AS NATUREZAS JURIDICAS \n",
    "empresasPEsemMei[\"NATJU\"].value_counts().head()"
   ]
  },
  {
   "cell_type": "code",
   "execution_count": null,
   "metadata": {},
   "outputs": [],
   "source": [
    "#IMPORTAR E AGREGAR NATUREZA JURIDICA AO DATASET\n",
    "import os\n",
    "os.chdir(\"D:\\#PROJETOS\\FURG\\ECD-CIENCIA DE DADOS\\#TCC-FURG\\BASE-RFB-12-03-2022\\TRATADA\")\n",
    "natju = pd.read_csv('natju.csv', sep=\",\", encoding=\"UTF-8\")"
   ]
  },
  {
   "cell_type": "code",
   "execution_count": null,
   "metadata": {},
   "outputs": [],
   "source": [
    "natju.head()"
   ]
  },
  {
   "cell_type": "code",
   "execution_count": null,
   "metadata": {},
   "outputs": [],
   "source": [
    "natju = natju.rename(columns={'N_NATJU': 'NATJU'})"
   ]
  },
  {
   "cell_type": "code",
   "execution_count": null,
   "metadata": {},
   "outputs": [],
   "source": [
    "empresasPEsemMei = pd.merge(empresasPEsemMei,natju, on='NATJU')"
   ]
  },
  {
   "cell_type": "code",
   "execution_count": null,
   "metadata": {},
   "outputs": [],
   "source": [
    "# naturezas juridicas para Excluir\n",
    "\n",
    "empresasPEsemMei = empresasPEsemMei[empresasPEsemMei[\"DESC_NATJU\"]!='Organização Religiosa']\n",
    "empresasPEsemMei = empresasPEsemMei[empresasPEsemMei[\"DESC_NATJU\"]!='Órgão Público do Poder Executivo Estadual ou do Distrito Federal']\n",
    "empresasPEsemMei = empresasPEsemMei[empresasPEsemMei[\"DESC_NATJU\"]!='Fundo Público da Administração Direta Municipal']\n",
    "empresasPEsemMei = empresasPEsemMei[empresasPEsemMei[\"DESC_NATJU\"]!='Empresa Pública']\n",
    "empresasPEsemMei = empresasPEsemMei[empresasPEsemMei[\"DESC_NATJU\"]!='Órgão Público do Poder Executivo Municipal']\n",
    "empresasPEsemMei = empresasPEsemMei[empresasPEsemMei[\"DESC_NATJU\"]!='Fundação Pública de Direito Público Estadual ou do Distrito Federal']\n",
    "empresasPEsemMei = empresasPEsemMei[empresasPEsemMei[\"DESC_NATJU\"]!='Município']\n",
    "empresasPEsemMei = empresasPEsemMei[empresasPEsemMei[\"DESC_NATJU\"]!='Autarquia Federal']\n",
    "empresasPEsemMei = empresasPEsemMei[empresasPEsemMei[\"DESC_NATJU\"]!='Órgão Público do Poder Executivo Federal']\n",
    "empresasPEsemMei = empresasPEsemMei[empresasPEsemMei[\"DESC_NATJU\"]!='Órgão Público do Poder Legislativo Municipal']\n",
    "empresasPEsemMei = empresasPEsemMei[empresasPEsemMei[\"DESC_NATJU\"]!='Autarquia Municipal']\n",
    "empresasPEsemMei = empresasPEsemMei[empresasPEsemMei[\"DESC_NATJU\"]!='Autarquia Estadual ou do Distrito Federal']\n",
    "empresasPEsemMei = empresasPEsemMei[empresasPEsemMei[\"DESC_NATJU\"]!='Fundação Pública de Direito Público Municipal']\n",
    "empresasPEsemMei = empresasPEsemMei[empresasPEsemMei[\"DESC_NATJU\"]!='Fundação Pública de Direito Público Federal']\n",
    "empresasPEsemMei = empresasPEsemMei[empresasPEsemMei[\"DESC_NATJU\"]!='Organização Social (OS)']\n",
    "empresasPEsemMei = empresasPEsemMei[empresasPEsemMei[\"DESC_NATJU\"]!='Consórcio Público de Direito Público (Associação Pública)']\n",
    "empresasPEsemMei = empresasPEsemMei[empresasPEsemMei[\"DESC_NATJU\"]!='Órgão Público Autônomo Municipal']\n",
    "empresasPEsemMei = empresasPEsemMei[empresasPEsemMei[\"DESC_NATJU\"]!='Fundo Público da Administração Direta Estadual ou do Distrito Federal']\n",
    "empresasPEsemMei = empresasPEsemMei[empresasPEsemMei[\"DESC_NATJU\"]!='Órgão de Direção Local de Partido Político']\n",
    "empresasPEsemMei = empresasPEsemMei[empresasPEsemMei[\"DESC_NATJU\"]!='Estabelecimento, no Brasil, de Fundação ou Associação Estrangeiras']\n",
    "empresasPEsemMei = empresasPEsemMei[empresasPEsemMei[\"DESC_NATJU\"]!='Representação Diplomática Estrangeira']\n",
    "empresasPEsemMei = empresasPEsemMei[empresasPEsemMei[\"DESC_NATJU\"]!='Órgão Público do Poder Judiciário Federal']\n",
    "empresasPEsemMei = empresasPEsemMei[empresasPEsemMei[\"DESC_NATJU\"]!='Estado ou Distrito Federal']\n",
    "empresasPEsemMei = empresasPEsemMei[empresasPEsemMei[\"DESC_NATJU\"]!='Órgão Público do Poder Judiciário Estadual']\n",
    "empresasPEsemMei = empresasPEsemMei[empresasPEsemMei[\"DESC_NATJU\"]!='Órgão Público Autônomo Federal']\n",
    "empresasPEsemMei = empresasPEsemMei[empresasPEsemMei[\"DESC_NATJU\"]!='Fundo Público da Administração Direta Federal']\n",
    "empresasPEsemMei = empresasPEsemMei[empresasPEsemMei[\"DESC_NATJU\"]!='Órgão Público do Poder Legislativo Estadual ou do Distrito Federal']\n",
    "empresasPEsemMei = empresasPEsemMei[empresasPEsemMei[\"DESC_NATJU\"]!='Consórcio Público de Direito Privado']\n",
    "empresasPEsemMei = empresasPEsemMei[empresasPEsemMei[\"DESC_NATJU\"]!='Fundo Público da Administração Indireta Municipal']\n",
    "empresasPEsemMei = empresasPEsemMei[empresasPEsemMei[\"DESC_NATJU\"]!='Órgão de Direção Regional de Partido Político']\n",
    "empresasPEsemMei = empresasPEsemMei[empresasPEsemMei[\"DESC_NATJU\"]!='Órgão Público Autônomo Estadual ou do Distrito Federal']\n",
    "empresasPEsemMei = empresasPEsemMei[empresasPEsemMei[\"DESC_NATJU\"]!='Órgão Público do Poder Legislativo Federal']\n",
    "empresasPEsemMei = empresasPEsemMei[empresasPEsemMei[\"DESC_NATJU\"]!='Comunidade Indígena']\n",
    "empresasPEsemMei = empresasPEsemMei[empresasPEsemMei[\"DESC_NATJU\"]!='Fundação Pública de Direito Privado Federal']\n",
    "empresasPEsemMei = empresasPEsemMei[empresasPEsemMei[\"DESC_NATJU\"]!='Fundo Público da Administração Indireta Estadual ou do Distrito Federal']\n",
    "empresasPEsemMei = empresasPEsemMei[empresasPEsemMei[\"DESC_NATJU\"]!='Fundação Pública de Direito Privado Municipal']\n",
    "empresasPEsemMei = empresasPEsemMei[empresasPEsemMei[\"DESC_NATJU\"]!='Outras Instituições Extraterritoriais']\n",
    "empresasPEsemMei = empresasPEsemMei[empresasPEsemMei[\"DESC_NATJU\"]!='Entidade Sindical']\n",
    "empresasPEsemMei[\"DESC_NATJU\"].value_counts().head()"
   ]
  },
  {
   "cell_type": "code",
   "execution_count": null,
   "metadata": {},
   "outputs": [],
   "source": [
    "empresasPEsemMei.shape"
   ]
  },
  {
   "cell_type": "code",
   "execution_count": null,
   "metadata": {},
   "outputs": [],
   "source": [
    "empresasPEsemMei[\"DESC_CNAE\"].value_counts().head()"
   ]
  },
  {
   "cell_type": "code",
   "execution_count": null,
   "metadata": {},
   "outputs": [],
   "source": [
    "#AGREGAR MUNICIPIOS A TABELA DE EMPRESAS \n",
    "municipios_rfb = pd.read_csv('mun_rfb.csv',sep=\";\", encoding=\"UTF-8\")"
   ]
  },
  {
   "cell_type": "code",
   "execution_count": null,
   "metadata": {},
   "outputs": [],
   "source": [
    "municipios_rfb.head()"
   ]
  },
  {
   "cell_type": "code",
   "execution_count": null,
   "metadata": {},
   "outputs": [],
   "source": [
    "empresasPEsemMei = empresasPEsemMei.rename(columns={'MUNICIPIO': 'N_MUNIC'})"
   ]
  },
  {
   "cell_type": "code",
   "execution_count": null,
   "metadata": {},
   "outputs": [],
   "source": [
    "#MESCLAR TABELA MUNICIPIO RFB E EMPRESAS\n",
    "empresasPEsemMei = pd.merge(empresasPEsemMei,municipios_rfb, on='N_MUNIC')"
   ]
  },
  {
   "cell_type": "code",
   "execution_count": null,
   "metadata": {},
   "outputs": [],
   "source": [
    "empresasPEsemMei.head(1)"
   ]
  },
  {
   "cell_type": "code",
   "execution_count": null,
   "metadata": {},
   "outputs": [],
   "source": [
    "municipios_ibge.head(1)"
   ]
  },
  {
   "cell_type": "code",
   "execution_count": null,
   "metadata": {},
   "outputs": [],
   "source": [
    "# EXCLUIR ACENTUAÇÃO DO ConcatUF+Mun DA TABELA MUNICIPIOS IBGE\n",
    "municipios_ibge['ConcatUF+Mun_1'] = 0\n",
    "import unidecode \n",
    "i = 0\n",
    "for i in range (0,len(municipios_ibge['ConcatUF+Mun'])):\n",
    "  string = municipios_ibge['ConcatUF+Mun'][i]\n",
    "  outputString = unidecode.unidecode(string)\n",
    "  #print(outputString)\n",
    "  municipios_ibge['ConcatUF+Mun_1'].loc[i] = outputString\n",
    "  i = i + 1\n",
    "\n",
    "municipios_ibge['ConcatUF+Mun_1'].head()"
   ]
  },
  {
   "cell_type": "code",
   "execution_count": null,
   "metadata": {},
   "outputs": [],
   "source": [
    "#MESCLAR TABELA MUNICIPIO IBGE E EMPRESAS\n",
    "empresasPEsemMei = pd.merge(empresasPEsemMei,municipios_ibge, on='ConcatUF+Mun')"
   ]
  },
  {
   "cell_type": "code",
   "execution_count": null,
   "metadata": {},
   "outputs": [],
   "source": [
    "empresasPEsemMei.info()"
   ]
  },
  {
   "cell_type": "code",
   "execution_count": null,
   "metadata": {},
   "outputs": [],
   "source": [
    "empresasPEsemMei.head(1)"
   ]
  },
  {
   "cell_type": "code",
   "execution_count": null,
   "metadata": {
    "colab": {
     "base_uri": "https://localhost:8080/",
     "height": 197
    },
    "executionInfo": {
     "elapsed": 303,
     "status": "ok",
     "timestamp": 1651342221328,
     "user": {
      "displayName": "Elisangela Furg",
      "userId": "10599246134434945793"
     },
     "user_tz": 180
    },
    "id": "yvEVD1nwg6w9",
    "outputId": "3c386c72-bf26-462a-8a24-6e789ecc4c53"
   },
   "outputs": [],
   "source": [
    "#EXPORTAR TABELA empresasPEsemMei\n",
    "empresasPEsemMei.to_csv('empresasPEsemMei', index=False)\n"
   ]
  },
  {
   "cell_type": "code",
   "execution_count": null,
   "metadata": {
    "colab": {
     "base_uri": "https://localhost:8080/",
     "height": 197
    },
    "executionInfo": {
     "elapsed": 332,
     "status": "ok",
     "timestamp": 1651342406312,
     "user": {
      "displayName": "Elisangela Furg",
      "userId": "10599246134434945793"
     },
     "user_tz": 180
    },
    "id": "ic2DQAkag60U",
    "outputId": "5544efbe-f561-4a13-bef4-5021a8363957"
   },
   "outputs": [],
   "source": [
    "Pib2019PE = pd.read_csv('PibPE2019.csv', sep=\",\", encoding=\"UTF-8\")"
   ]
  },
  {
   "cell_type": "code",
   "execution_count": null,
   "metadata": {},
   "outputs": [],
   "source": [
    "Pib2019PE.head()"
   ]
  },
  {
   "cell_type": "code",
   "execution_count": null,
   "metadata": {},
   "outputs": [],
   "source": [
    "Pib2019PE = Pib2019PE.rename(columns={'COD_MUN': 'IBGE7'})\n"
   ]
  },
  {
   "cell_type": "code",
   "execution_count": null,
   "metadata": {
    "executionInfo": {
     "elapsed": 303,
     "status": "ok",
     "timestamp": 1651342437105,
     "user": {
      "displayName": "Elisangela Furg",
      "userId": "10599246134434945793"
     },
     "user_tz": 180
    },
    "id": "0yo7ewMprbKp"
   },
   "outputs": [],
   "source": [
    "#MESCLAR TABELA EMPRESAS E PIB\n",
    "empresasPEsemMei = pd.merge(empresasPEsemMei,Pib2019PE, on='IBGE7')"
   ]
  },
  {
   "cell_type": "code",
   "execution_count": null,
   "metadata": {
    "colab": {
     "base_uri": "https://localhost:8080/"
    },
    "executionInfo": {
     "elapsed": 716,
     "status": "ok",
     "timestamp": 1651342467024,
     "user": {
      "displayName": "Elisangela Furg",
      "userId": "10599246134434945793"
     },
     "user_tz": 180
    },
    "id": "8lCTbdfIrbXp",
    "outputId": "07d015a8-c397-4857-9c5e-8a7b43f23a6d"
   },
   "outputs": [],
   "source": [
    "empresasPEsemMei.info()"
   ]
  },
  {
   "cell_type": "code",
   "execution_count": null,
   "metadata": {
    "executionInfo": {
     "elapsed": 283,
     "status": "ok",
     "timestamp": 1651342477308,
     "user": {
      "displayName": "Elisangela Furg",
      "userId": "10599246134434945793"
     },
     "user_tz": 180
    },
    "id": "qPN3f6Rtg63M"
   },
   "outputs": [],
   "source": [
    "arrecadacaoPE9 = pd.read_csv('arrecadacaoPE',sep=',',encoding='UTF-8')"
   ]
  },
  {
   "cell_type": "code",
   "execution_count": null,
   "metadata": {
    "colab": {
     "base_uri": "https://localhost:8080/"
    },
    "executionInfo": {
     "elapsed": 324,
     "status": "ok",
     "timestamp": 1651342487176,
     "user": {
      "displayName": "Elisangela Furg",
      "userId": "10599246134434945793"
     },
     "user_tz": 180
    },
    "id": "ndGeKSUug66e",
    "outputId": "521bec98-de31-4657-88d2-fcf7a5638f9d"
   },
   "outputs": [],
   "source": [
    "arrecadacaoPE9.info()"
   ]
  },
  {
   "cell_type": "code",
   "execution_count": null,
   "metadata": {},
   "outputs": [],
   "source": [
    "arrecadacaoPE9.head(1)"
   ]
  },
  {
   "cell_type": "code",
   "execution_count": null,
   "metadata": {
    "executionInfo": {
     "elapsed": 291,
     "status": "ok",
     "timestamp": 1651342514237,
     "user": {
      "displayName": "Elisangela Furg",
      "userId": "10599246134434945793"
     },
     "user_tz": 180
    },
    "id": "SESVlUuNjPQe"
   },
   "outputs": [],
   "source": [
    "#MESCLAR TABELA EMPRESAS E ARRECADAÇAO\n",
    "empresasPEsemMei = pd.merge(empresasPEsemMei,arrecadacaoPE9, on='IBGE7')"
   ]
  },
  {
   "cell_type": "code",
   "execution_count": null,
   "metadata": {
    "colab": {
     "base_uri": "https://localhost:8080/"
    },
    "executionInfo": {
     "elapsed": 1617,
     "status": "ok",
     "timestamp": 1651342533076,
     "user": {
      "displayName": "Elisangela Furg",
      "userId": "10599246134434945793"
     },
     "user_tz": 180
    },
    "id": "p3d6VWlzjPc0",
    "outputId": "58abc8d0-f074-45e4-a226-92df8be62f33"
   },
   "outputs": [],
   "source": [
    "empresasPEsemMei.info()"
   ]
  },
  {
   "cell_type": "code",
   "execution_count": null,
   "metadata": {
    "executionInfo": {
     "elapsed": 2812,
     "status": "ok",
     "timestamp": 1651354725005,
     "user": {
      "displayName": "Elisangela Furg",
      "userId": "10599246134434945793"
     },
     "user_tz": 180
    },
    "id": "lUMFfVxkjPnZ"
   },
   "outputs": [],
   "source": [
    "IDHBrasil = pd.read_excel('data.xlsx')"
   ]
  },
  {
   "cell_type": "code",
   "execution_count": null,
   "metadata": {
    "colab": {
     "base_uri": "https://localhost:8080/"
    },
    "executionInfo": {
     "elapsed": 700,
     "status": "ok",
     "timestamp": 1651354727893,
     "user": {
      "displayName": "Elisangela Furg",
      "userId": "10599246134434945793"
     },
     "user_tz": 180
    },
    "id": "0fBGcM6QVt9L",
    "outputId": "85b12b00-0043-4481-ef1e-16c0f0427c33"
   },
   "outputs": [],
   "source": [
    "IDHBrasil.head()"
   ]
  },
  {
   "cell_type": "code",
   "execution_count": null,
   "metadata": {
    "executionInfo": {
     "elapsed": 289,
     "status": "ok",
     "timestamp": 1651354904649,
     "user": {
      "displayName": "Elisangela Furg",
      "userId": "10599246134434945793"
     },
     "user_tz": 180
    },
    "id": "agEDrG4Vz_Cm"
   },
   "outputs": [],
   "source": [
    "#SEPARAR IDH DOS MUNICIPIOS DE PE\n",
    "def listaPE(dataframe, valores):\n",
    "    return dataframe.loc[dataframe['Estado'].isin(valores)]\n",
    "lista = ['PE']\n",
    "IDHBrasilPE = listaPE(IDHBrasil, lista)"
   ]
  },
  {
   "cell_type": "code",
   "execution_count": null,
   "metadata": {
    "colab": {
     "base_uri": "https://localhost:8080/"
    },
    "executionInfo": {
     "elapsed": 285,
     "status": "ok",
     "timestamp": 1651354913429,
     "user": {
      "displayName": "Elisangela Furg",
      "userId": "10599246134434945793"
     },
     "user_tz": 180
    },
    "id": "bvCI_d4J4U_F",
    "outputId": "c22822fa-6204-46d9-a65a-9edc28e4bb41"
   },
   "outputs": [],
   "source": [
    "IDHBrasilPE.head()"
   ]
  },
  {
   "cell_type": "code",
   "execution_count": null,
   "metadata": {},
   "outputs": [],
   "source": [
    "IDHBrasilPE['ConcatUF+Mun'] = IDHBrasilPE['ConcatUF+Mun'].str.upper()\n",
    "  "
   ]
  },
  {
   "cell_type": "code",
   "execution_count": null,
   "metadata": {},
   "outputs": [],
   "source": [
    "IDHBrasilPE['ConcatUF+Mun'].head()"
   ]
  },
  {
   "cell_type": "code",
   "execution_count": null,
   "metadata": {},
   "outputs": [],
   "source": [
    "municipios_ibge['ConcatUF+Mun'].head()"
   ]
  },
  {
   "cell_type": "code",
   "execution_count": null,
   "metadata": {},
   "outputs": [],
   "source": [
    "#SEPARAR IDH DOS MUNICIPIOS DE PE\n",
    "def listaPE(dataframe, valores):\n",
    "    return dataframe.loc[dataframe['UF'].isin(valores)]\n",
    "lista = ['PE']\n",
    "municipios_ibgepe = listaPE(municipios_ibge, lista)"
   ]
  },
  {
   "cell_type": "code",
   "execution_count": null,
   "metadata": {},
   "outputs": [],
   "source": [
    "municipios_ibgepe['ConcatUF+Mun'].head()"
   ]
  },
  {
   "cell_type": "code",
   "execution_count": null,
   "metadata": {},
   "outputs": [],
   "source": []
  },
  {
   "cell_type": "code",
   "execution_count": null,
   "metadata": {},
   "outputs": [],
   "source": [
    "IDHBrasilPE"
   ]
  },
  {
   "cell_type": "code",
   "execution_count": null,
   "metadata": {},
   "outputs": [],
   "source": [
    "#EXPORTAR TABELAS PREPARADAS\n",
    "empresasPEsemMei.to_csv('empresasPEsemMei', index=False)\n",
    "IDHBrasilPE.to_csv('IDHBrasilPE', index=False)\n",
    "municipios_ibgepe.to_csv('municipios_ibgepe', index=False)\n",
    "arrecadacaoPE9.to_csv('arrecadacaoPE', index=False)\n",
    "Pib2019PE.to_csv('Pib2019PE', index=False)"
   ]
  },
  {
   "cell_type": "code",
   "execution_count": 4,
   "metadata": {},
   "outputs": [
    {
     "name": "stdout",
     "output_type": "stream",
     "text": [
      "Collecting chdir\n",
      "  Downloading chdir-1.0.0-py3-none-any.whl (3.2 kB)\n",
      "Installing collected packages: chdir\n",
      "Successfully installed chdir-1.0.0\n"
     ]
    }
   ],
   "source": [
    "!pip install chdir"
   ]
  },
  {
   "cell_type": "code",
   "execution_count": 6,
   "metadata": {},
   "outputs": [],
   "source": [
    "import os\n",
    "os.chdir('D:\\#PROJETOS\\FURG\\ECD-CIENCIA DE DADOS\\#TCC-FURG\\BASE-RFB-12-03-2022\\TRATADA')\n"
   ]
  },
  {
   "cell_type": "code",
   "execution_count": 10,
   "metadata": {},
   "outputs": [
    {
     "data": {
      "text/plain": [
       "'D:\\\\#PROJETOS\\\\FURG\\\\ECD-CIENCIA DE DADOS\\\\#TCC-FURG\\\\BASE-RFB-12-03-2022\\\\TRATADA'"
      ]
     },
     "execution_count": 10,
     "metadata": {},
     "output_type": "execute_result"
    }
   ],
   "source": [
    "os.getcwd()"
   ]
  },
  {
   "cell_type": "code",
   "execution_count": 12,
   "metadata": {},
   "outputs": [
    {
     "name": "stderr",
     "output_type": "stream",
     "text": [
      "C:\\Users\\Elisangela\\anaconda3\\lib\\site-packages\\IPython\\core\\interactiveshell.py:3444: DtypeWarning: Columns (20) have mixed types.Specify dtype option on import or set low_memory=False.\n",
      "  exec(code_obj, self.user_global_ns, self.user_ns)\n"
     ]
    }
   ],
   "source": [
    "empresasPEFinal = pd.read_csv('empresasPEsemMei.csv',sep=',',encoding='UTF-8')"
   ]
  },
  {
   "cell_type": "code",
   "execution_count": 13,
   "metadata": {},
   "outputs": [
    {
     "data": {
      "text/html": [
       "<div>\n",
       "<style scoped>\n",
       "    .dataframe tbody tr th:only-of-type {\n",
       "        vertical-align: middle;\n",
       "    }\n",
       "\n",
       "    .dataframe tbody tr th {\n",
       "        vertical-align: top;\n",
       "    }\n",
       "\n",
       "    .dataframe thead th {\n",
       "        text-align: right;\n",
       "    }\n",
       "</style>\n",
       "<table border=\"1\" class=\"dataframe\">\n",
       "  <thead>\n",
       "    <tr style=\"text-align: right;\">\n",
       "      <th></th>\n",
       "      <th>CNPJ_BASICO</th>\n",
       "      <th>NATJU</th>\n",
       "      <th>CAP_SOCIAL</th>\n",
       "      <th>PORTE</th>\n",
       "      <th>CNPJ_ORDEM</th>\n",
       "      <th>CNPJ_DV</th>\n",
       "      <th>IDE_MAT_FIL</th>\n",
       "      <th>SIT_CADASTRAL</th>\n",
       "      <th>DATA_SIT_CADAS</th>\n",
       "      <th>MOT_SIT_CADAS</th>\n",
       "      <th>...</th>\n",
       "      <th>ESTADO</th>\n",
       "      <th>MUNICIPIO</th>\n",
       "      <th>PIB</th>\n",
       "      <th>MAIOR_ATIV</th>\n",
       "      <th>IBGE_y</th>\n",
       "      <th>Município_y</th>\n",
       "      <th>População 2010</th>\n",
       "      <th>Porte</th>\n",
       "      <th>ARRECADACAO</th>\n",
       "      <th>ConcatUF+Mun_1</th>\n",
       "    </tr>\n",
       "  </thead>\n",
       "  <tbody>\n",
       "    <tr>\n",
       "      <th>0</th>\n",
       "      <td>41274006</td>\n",
       "      <td>2135.0</td>\n",
       "      <td>10000.0</td>\n",
       "      <td>1.0</td>\n",
       "      <td>1.0</td>\n",
       "      <td>34.0</td>\n",
       "      <td>1.0</td>\n",
       "      <td>2.0</td>\n",
       "      <td>20210318.0</td>\n",
       "      <td>0.0</td>\n",
       "      <td>...</td>\n",
       "      <td>Pernambuco</td>\n",
       "      <td>Garanhuns</td>\n",
       "      <td>2603254.057</td>\n",
       "      <td>Demais serviços</td>\n",
       "      <td>260600</td>\n",
       "      <td>Garanhuns</td>\n",
       "      <td>129408.0</td>\n",
       "      <td>Grande</td>\n",
       "      <td>2.705249e+08</td>\n",
       "      <td>PEGARANHUNS</td>\n",
       "    </tr>\n",
       "    <tr>\n",
       "      <th>1</th>\n",
       "      <td>44866545</td>\n",
       "      <td>2135.0</td>\n",
       "      <td>100000.0</td>\n",
       "      <td>1.0</td>\n",
       "      <td>1.0</td>\n",
       "      <td>50.0</td>\n",
       "      <td>1.0</td>\n",
       "      <td>2.0</td>\n",
       "      <td>20220114.0</td>\n",
       "      <td>0.0</td>\n",
       "      <td>...</td>\n",
       "      <td>Pernambuco</td>\n",
       "      <td>Garanhuns</td>\n",
       "      <td>2603254.057</td>\n",
       "      <td>Demais serviços</td>\n",
       "      <td>260600</td>\n",
       "      <td>Garanhuns</td>\n",
       "      <td>129408.0</td>\n",
       "      <td>Grande</td>\n",
       "      <td>2.705249e+08</td>\n",
       "      <td>PEGARANHUNS</td>\n",
       "    </tr>\n",
       "    <tr>\n",
       "      <th>2</th>\n",
       "      <td>2384197</td>\n",
       "      <td>2135.0</td>\n",
       "      <td>50000.0</td>\n",
       "      <td>1.0</td>\n",
       "      <td>1.0</td>\n",
       "      <td>35.0</td>\n",
       "      <td>1.0</td>\n",
       "      <td>8.0</td>\n",
       "      <td>20171018.0</td>\n",
       "      <td>1.0</td>\n",
       "      <td>...</td>\n",
       "      <td>Pernambuco</td>\n",
       "      <td>Garanhuns</td>\n",
       "      <td>2603254.057</td>\n",
       "      <td>Demais serviços</td>\n",
       "      <td>260600</td>\n",
       "      <td>Garanhuns</td>\n",
       "      <td>129408.0</td>\n",
       "      <td>Grande</td>\n",
       "      <td>2.705249e+08</td>\n",
       "      <td>PEGARANHUNS</td>\n",
       "    </tr>\n",
       "    <tr>\n",
       "      <th>3</th>\n",
       "      <td>3061559</td>\n",
       "      <td>2135.0</td>\n",
       "      <td>0.0</td>\n",
       "      <td>1.0</td>\n",
       "      <td>1.0</td>\n",
       "      <td>10.0</td>\n",
       "      <td>1.0</td>\n",
       "      <td>8.0</td>\n",
       "      <td>20170814.0</td>\n",
       "      <td>1.0</td>\n",
       "      <td>...</td>\n",
       "      <td>Pernambuco</td>\n",
       "      <td>Garanhuns</td>\n",
       "      <td>2603254.057</td>\n",
       "      <td>Demais serviços</td>\n",
       "      <td>260600</td>\n",
       "      <td>Garanhuns</td>\n",
       "      <td>129408.0</td>\n",
       "      <td>Grande</td>\n",
       "      <td>2.705249e+08</td>\n",
       "      <td>PEGARANHUNS</td>\n",
       "    </tr>\n",
       "    <tr>\n",
       "      <th>4</th>\n",
       "      <td>4301831</td>\n",
       "      <td>2135.0</td>\n",
       "      <td>0.0</td>\n",
       "      <td>1.0</td>\n",
       "      <td>1.0</td>\n",
       "      <td>54.0</td>\n",
       "      <td>1.0</td>\n",
       "      <td>4.0</td>\n",
       "      <td>20190130.0</td>\n",
       "      <td>63.0</td>\n",
       "      <td>...</td>\n",
       "      <td>Pernambuco</td>\n",
       "      <td>Garanhuns</td>\n",
       "      <td>2603254.057</td>\n",
       "      <td>Demais serviços</td>\n",
       "      <td>260600</td>\n",
       "      <td>Garanhuns</td>\n",
       "      <td>129408.0</td>\n",
       "      <td>Grande</td>\n",
       "      <td>2.705249e+08</td>\n",
       "      <td>PEGARANHUNS</td>\n",
       "    </tr>\n",
       "  </tbody>\n",
       "</table>\n",
       "<p>5 rows × 38 columns</p>\n",
       "</div>"
      ],
      "text/plain": [
       "   CNPJ_BASICO   NATJU  CAP_SOCIAL  PORTE  CNPJ_ORDEM  CNPJ_DV  IDE_MAT_FIL  \\\n",
       "0     41274006  2135.0     10000.0    1.0         1.0     34.0          1.0   \n",
       "1     44866545  2135.0    100000.0    1.0         1.0     50.0          1.0   \n",
       "2      2384197  2135.0     50000.0    1.0         1.0     35.0          1.0   \n",
       "3      3061559  2135.0         0.0    1.0         1.0     10.0          1.0   \n",
       "4      4301831  2135.0         0.0    1.0         1.0     54.0          1.0   \n",
       "\n",
       "   SIT_CADASTRAL  DATA_SIT_CADAS  MOT_SIT_CADAS  ...      ESTADO  MUNICIPIO  \\\n",
       "0            2.0      20210318.0            0.0  ...  Pernambuco  Garanhuns   \n",
       "1            2.0      20220114.0            0.0  ...  Pernambuco  Garanhuns   \n",
       "2            8.0      20171018.0            1.0  ...  Pernambuco  Garanhuns   \n",
       "3            8.0      20170814.0            1.0  ...  Pernambuco  Garanhuns   \n",
       "4            4.0      20190130.0           63.0  ...  Pernambuco  Garanhuns   \n",
       "\n",
       "           PIB       MAIOR_ATIV  IBGE_y Município_y População 2010   Porte  \\\n",
       "0  2603254.057  Demais serviços  260600   Garanhuns       129408.0  Grande   \n",
       "1  2603254.057  Demais serviços  260600   Garanhuns       129408.0  Grande   \n",
       "2  2603254.057  Demais serviços  260600   Garanhuns       129408.0  Grande   \n",
       "3  2603254.057  Demais serviços  260600   Garanhuns       129408.0  Grande   \n",
       "4  2603254.057  Demais serviços  260600   Garanhuns       129408.0  Grande   \n",
       "\n",
       "    ARRECADACAO ConcatUF+Mun_1  \n",
       "0  2.705249e+08    PEGARANHUNS  \n",
       "1  2.705249e+08    PEGARANHUNS  \n",
       "2  2.705249e+08    PEGARANHUNS  \n",
       "3  2.705249e+08    PEGARANHUNS  \n",
       "4  2.705249e+08    PEGARANHUNS  \n",
       "\n",
       "[5 rows x 38 columns]"
      ]
     },
     "execution_count": 13,
     "metadata": {},
     "output_type": "execute_result"
    }
   ],
   "source": [
    "empresasPEFinal.head()"
   ]
  },
  {
   "cell_type": "code",
   "execution_count": 16,
   "metadata": {},
   "outputs": [
    {
     "data": {
      "text/plain": [
       "Index(['CNPJ_BASICO', 'NATJU', 'CAP_SOCIAL', 'PORTE', 'CNPJ_ORDEM', 'CNPJ_DV',\n",
       "       'IDE_MAT_FIL', 'SIT_CADASTRAL', 'DATA_SIT_CADAS', 'MOT_SIT_CADAS',\n",
       "       'DATA_INI_ATV', 'CNAE_FISCAL', 'UF_x', 'N_MUNIC', 'OP_SIMPLES', 'MEI',\n",
       "       'DESC_CNAE', 'DESC_NATJU', 'DESC_MUNIC', 'ConcatUF+Mun',\n",
       "       'ConcatUF+Mun_1_x', 'IBGE_x', 'IBGE7', 'Município_x', 'UF_y',\n",
       "       'ConcatUF+Mun_1_y', 'Ano', 'UF', 'ESTADO', 'MUNICIPIO', 'PIB',\n",
       "       'MAIOR_ATIV', 'IBGE_y', 'Município_y', 'População 2010', 'Porte',\n",
       "       'ARRECADACAO', 'ConcatUF+Mun_1'],\n",
       "      dtype='object')"
      ]
     },
     "execution_count": 16,
     "metadata": {},
     "output_type": "execute_result"
    }
   ],
   "source": [
    "empresasPEFinal.columns"
   ]
  },
  {
   "cell_type": "code",
   "execution_count": 100,
   "metadata": {},
   "outputs": [],
   "source": [
    "IDHBrasilPE = pd.read_csv('IDHBrasilPE.csv', sep=';',encoding='UTF-8',skipinitialspace = True )\n",
    "municipios_ibgepe = pd.read_csv('municipios_ibgepe.csv', sep=',',encoding='UTF-8',skipinitialspace = True )\n",
    "arrecadacaoPE = pd.read_csv('arrecadacaoPE.csv', sep=';',encoding='UTF-8',skipinitialspace = True )\n",
    "Pib2019PE = pd.read_csv('Pib2019PE.csv', sep=',',encoding='UTF-8',skipinitialspace = True )"
   ]
  },
  {
   "cell_type": "code",
   "execution_count": 101,
   "metadata": {},
   "outputs": [
    {
     "name": "stdout",
     "output_type": "stream",
     "text": [
      "<class 'pandas.core.frame.DataFrame'>\n",
      "RangeIndex: 185 entries, 0 to 184\n",
      "Data columns (total 11 columns):\n",
      " #   Column                    Non-Null Count  Dtype \n",
      "---  ------                    --------------  ----- \n",
      " 0   Territorialidade          185 non-null    object\n",
      " 1   Estado                    185 non-null    object\n",
      " 2   ConcatUF+Mun              185 non-null    object\n",
      " 3   Posição IDHM              185 non-null    int64 \n",
      " 4   IDHM                      185 non-null    int64 \n",
      " 5   Posição IDHM Renda        185 non-null    int64 \n",
      " 6   IDHM Renda                185 non-null    int64 \n",
      " 7   Posição IDHM Educação     185 non-null    int64 \n",
      " 8   IDHM Educação             185 non-null    int64 \n",
      " 9   Posição IDHM Longevidade  185 non-null    int64 \n",
      " 10  IDHM Longevidade          185 non-null    int64 \n",
      "dtypes: int64(8), object(3)\n",
      "memory usage: 16.0+ KB\n"
     ]
    }
   ],
   "source": [
    "IDHBrasilPE.info()"
   ]
  },
  {
   "cell_type": "code",
   "execution_count": 102,
   "metadata": {},
   "outputs": [
    {
     "name": "stdout",
     "output_type": "stream",
     "text": [
      "<class 'pandas.core.frame.DataFrame'>\n",
      "RangeIndex: 185 entries, 0 to 184\n",
      "Data columns (total 6 columns):\n",
      " #   Column          Non-Null Count  Dtype \n",
      "---  ------          --------------  ----- \n",
      " 0   ConcatUF+Mun    185 non-null    object\n",
      " 1   IBGE            185 non-null    int64 \n",
      " 2   IBGE7           185 non-null    int64 \n",
      " 3   MUNICIPIO       185 non-null    object\n",
      " 4   UF              185 non-null    object\n",
      " 5   ConcatUF+Mun_1  185 non-null    object\n",
      "dtypes: int64(2), object(4)\n",
      "memory usage: 8.8+ KB\n"
     ]
    }
   ],
   "source": [
    "municipios_ibgepe = municipios_ibgepe.rename(columns={'Município': 'MUNICIPIO'})\n",
    "municipios_ibgepe.info()"
   ]
  },
  {
   "cell_type": "code",
   "execution_count": 103,
   "metadata": {},
   "outputs": [
    {
     "name": "stdout",
     "output_type": "stream",
     "text": [
      "<class 'pandas.core.frame.DataFrame'>\n",
      "RangeIndex: 185 entries, 0 to 184\n",
      "Data columns (total 11 columns):\n",
      " #   Column                    Non-Null Count  Dtype \n",
      "---  ------                    --------------  ----- \n",
      " 0   MUNICIPIO                 185 non-null    object\n",
      " 1   Estado                    185 non-null    object\n",
      " 2   ConcatUF+Mun              185 non-null    object\n",
      " 3   Posição IDHM              185 non-null    int64 \n",
      " 4   IDHM                      185 non-null    int64 \n",
      " 5   Posição IDHM Renda        185 non-null    int64 \n",
      " 6   IDHM Renda                185 non-null    int64 \n",
      " 7   Posição IDHM Educação     185 non-null    int64 \n",
      " 8   IDHM Educação             185 non-null    int64 \n",
      " 9   Posição IDHM Longevidade  185 non-null    int64 \n",
      " 10  IDHM Longevidade          185 non-null    int64 \n",
      "dtypes: int64(8), object(3)\n",
      "memory usage: 16.0+ KB\n"
     ]
    }
   ],
   "source": [
    "IDHBrasilPE = IDHBrasilPE.rename(columns={'Territorialidade': 'MUNICIPIO'})\n",
    "IDHBrasilPE.info()"
   ]
  },
  {
   "cell_type": "code",
   "execution_count": 104,
   "metadata": {},
   "outputs": [
    {
     "data": {
      "text/html": [
       "<div>\n",
       "<style scoped>\n",
       "    .dataframe tbody tr th:only-of-type {\n",
       "        vertical-align: middle;\n",
       "    }\n",
       "\n",
       "    .dataframe tbody tr th {\n",
       "        vertical-align: top;\n",
       "    }\n",
       "\n",
       "    .dataframe thead th {\n",
       "        text-align: right;\n",
       "    }\n",
       "</style>\n",
       "<table border=\"1\" class=\"dataframe\">\n",
       "  <thead>\n",
       "    <tr style=\"text-align: right;\">\n",
       "      <th></th>\n",
       "      <th>MUNICIPIO</th>\n",
       "      <th>Estado</th>\n",
       "      <th>ConcatUF+Mun</th>\n",
       "      <th>Posição IDHM</th>\n",
       "      <th>IDHM</th>\n",
       "      <th>Posição IDHM Renda</th>\n",
       "      <th>IDHM Renda</th>\n",
       "      <th>Posição IDHM Educação</th>\n",
       "      <th>IDHM Educação</th>\n",
       "      <th>Posição IDHM Longevidade</th>\n",
       "      <th>IDHM Longevidade</th>\n",
       "    </tr>\n",
       "  </thead>\n",
       "  <tbody>\n",
       "    <tr>\n",
       "      <th>0</th>\n",
       "      <td>Abreu E Lima</td>\n",
       "      <td>PE</td>\n",
       "      <td>PEABREU E LIMA</td>\n",
       "      <td>146</td>\n",
       "      <td>679</td>\n",
       "      <td>104</td>\n",
       "      <td>791</td>\n",
       "      <td>145</td>\n",
       "      <td>632</td>\n",
       "      <td>213</td>\n",
       "      <td>625</td>\n",
       "    </tr>\n",
       "    <tr>\n",
       "      <th>1</th>\n",
       "      <td>Afogados da Ingazeira</td>\n",
       "      <td>PE</td>\n",
       "      <td>PEAFOGADOS DA INGAZEIRA</td>\n",
       "      <td>168</td>\n",
       "      <td>657</td>\n",
       "      <td>88</td>\n",
       "      <td>807</td>\n",
       "      <td>212</td>\n",
       "      <td>565</td>\n",
       "      <td>215</td>\n",
       "      <td>623</td>\n",
       "    </tr>\n",
       "    <tr>\n",
       "      <th>2</th>\n",
       "      <td>Afrânio</td>\n",
       "      <td>PE</td>\n",
       "      <td>PEAFRÂNIO</td>\n",
       "      <td>237</td>\n",
       "      <td>588</td>\n",
       "      <td>134</td>\n",
       "      <td>761</td>\n",
       "      <td>284</td>\n",
       "      <td>493</td>\n",
       "      <td>296</td>\n",
       "      <td>542</td>\n",
       "    </tr>\n",
       "    <tr>\n",
       "      <th>3</th>\n",
       "      <td>Agrestina</td>\n",
       "      <td>PE</td>\n",
       "      <td>PEAGRESTINA</td>\n",
       "      <td>233</td>\n",
       "      <td>592</td>\n",
       "      <td>135</td>\n",
       "      <td>76</td>\n",
       "      <td>307</td>\n",
       "      <td>47</td>\n",
       "      <td>257</td>\n",
       "      <td>581</td>\n",
       "    </tr>\n",
       "    <tr>\n",
       "      <th>4</th>\n",
       "      <td>Água Preta</td>\n",
       "      <td>PE</td>\n",
       "      <td>PEÁGUA PRETA</td>\n",
       "      <td>272</td>\n",
       "      <td>553</td>\n",
       "      <td>134</td>\n",
       "      <td>761</td>\n",
       "      <td>345</td>\n",
       "      <td>432</td>\n",
       "      <td>324</td>\n",
       "      <td>514</td>\n",
       "    </tr>\n",
       "  </tbody>\n",
       "</table>\n",
       "</div>"
      ],
      "text/plain": [
       "                MUNICIPIO Estado             ConcatUF+Mun  Posição IDHM  IDHM  \\\n",
       "0           Abreu E Lima      PE           PEABREU E LIMA           146   679   \n",
       "1  Afogados da Ingazeira      PE  PEAFOGADOS DA INGAZEIRA           168   657   \n",
       "2                Afrânio      PE                PEAFRÂNIO           237   588   \n",
       "3              Agrestina      PE              PEAGRESTINA           233   592   \n",
       "4             Água Preta      PE             PEÁGUA PRETA           272   553   \n",
       "\n",
       "   Posição IDHM Renda  IDHM Renda  Posição IDHM Educação  IDHM Educação  \\\n",
       "0                 104         791                    145            632   \n",
       "1                  88         807                    212            565   \n",
       "2                 134         761                    284            493   \n",
       "3                 135          76                    307             47   \n",
       "4                 134         761                    345            432   \n",
       "\n",
       "   Posição IDHM Longevidade  IDHM Longevidade  \n",
       "0                       213               625  \n",
       "1                       215               623  \n",
       "2                       296               542  \n",
       "3                       257               581  \n",
       "4                       324               514  "
      ]
     },
     "execution_count": 104,
     "metadata": {},
     "output_type": "execute_result"
    }
   ],
   "source": [
    "IDHBrasilPE.head()"
   ]
  },
  {
   "cell_type": "code",
   "execution_count": 105,
   "metadata": {},
   "outputs": [
    {
     "data": {
      "text/html": [
       "<div>\n",
       "<style scoped>\n",
       "    .dataframe tbody tr th:only-of-type {\n",
       "        vertical-align: middle;\n",
       "    }\n",
       "\n",
       "    .dataframe tbody tr th {\n",
       "        vertical-align: top;\n",
       "    }\n",
       "\n",
       "    .dataframe thead th {\n",
       "        text-align: right;\n",
       "    }\n",
       "</style>\n",
       "<table border=\"1\" class=\"dataframe\">\n",
       "  <thead>\n",
       "    <tr style=\"text-align: right;\">\n",
       "      <th></th>\n",
       "      <th>IBGE</th>\n",
       "      <th>IBGE7</th>\n",
       "      <th>MUNICIPIO</th>\n",
       "      <th>População 2010</th>\n",
       "      <th>Porte</th>\n",
       "      <th>ARRECADACAO</th>\n",
       "      <th>ConcatUF+Mun</th>\n",
       "    </tr>\n",
       "  </thead>\n",
       "  <tbody>\n",
       "    <tr>\n",
       "      <th>0</th>\n",
       "      <td>260005</td>\n",
       "      <td>2600054</td>\n",
       "      <td>Abreu e Lima</td>\n",
       "      <td>944290</td>\n",
       "      <td>Médio</td>\n",
       "      <td>R$ 134.509.358,51</td>\n",
       "      <td>PEABREU E LIMA</td>\n",
       "    </tr>\n",
       "    <tr>\n",
       "      <th>1</th>\n",
       "      <td>260010</td>\n",
       "      <td>2600104</td>\n",
       "      <td>Afogados da Ingazeira</td>\n",
       "      <td>350880</td>\n",
       "      <td>Pequeno II</td>\n",
       "      <td>R$ 23.230.466,75</td>\n",
       "      <td>PEAFOGADOS DA INGAZEIRA</td>\n",
       "    </tr>\n",
       "    <tr>\n",
       "      <th>2</th>\n",
       "      <td>260020</td>\n",
       "      <td>2600203</td>\n",
       "      <td>Afrânio</td>\n",
       "      <td>175860</td>\n",
       "      <td>Pequeno I</td>\n",
       "      <td>R$ 7.545.113,51</td>\n",
       "      <td>PEAFRANIO</td>\n",
       "    </tr>\n",
       "    <tr>\n",
       "      <th>3</th>\n",
       "      <td>260030</td>\n",
       "      <td>2600302</td>\n",
       "      <td>Agrestina</td>\n",
       "      <td>226790</td>\n",
       "      <td>Pequeno II</td>\n",
       "      <td>R$ 12.369.384,90</td>\n",
       "      <td>PEAGRESTINA</td>\n",
       "    </tr>\n",
       "    <tr>\n",
       "      <th>4</th>\n",
       "      <td>260040</td>\n",
       "      <td>2600401</td>\n",
       "      <td>Água Preta</td>\n",
       "      <td>330950</td>\n",
       "      <td>Pequeno II</td>\n",
       "      <td>R$ 6.682.769,04</td>\n",
       "      <td>PEAGUA PRETA</td>\n",
       "    </tr>\n",
       "  </tbody>\n",
       "</table>\n",
       "</div>"
      ],
      "text/plain": [
       "     IBGE    IBGE7              MUNICIPIO  População 2010       Porte  \\\n",
       "0  260005  2600054           Abreu e Lima          944290       Médio   \n",
       "1  260010  2600104  Afogados da Ingazeira          350880  Pequeno II   \n",
       "2  260020  2600203                Afrânio          175860   Pequeno I   \n",
       "3  260030  2600302              Agrestina          226790  Pequeno II   \n",
       "4  260040  2600401             Água Preta          330950  Pequeno II   \n",
       "\n",
       "         ARRECADACAO             ConcatUF+Mun  \n",
       "0  R$ 134.509.358,51           PEABREU E LIMA  \n",
       "1   R$ 23.230.466,75  PEAFOGADOS DA INGAZEIRA  \n",
       "2    R$ 7.545.113,51                PEAFRANIO  \n",
       "3   R$ 12.369.384,90              PEAGRESTINA  \n",
       "4    R$ 6.682.769,04             PEAGUA PRETA  "
      ]
     },
     "execution_count": 105,
     "metadata": {},
     "output_type": "execute_result"
    }
   ],
   "source": [
    "arrecadacaoPE = arrecadacaoPE.rename(columns={'Município':'MUNICIPIO'})\n",
    "arrecadacaoPE.head()"
   ]
  },
  {
   "cell_type": "code",
   "execution_count": 106,
   "metadata": {},
   "outputs": [
    {
     "name": "stdout",
     "output_type": "stream",
     "text": [
      "<class 'pandas.core.frame.DataFrame'>\n",
      "RangeIndex: 185 entries, 0 to 184\n",
      "Data columns (total 7 columns):\n",
      " #   Column      Non-Null Count  Dtype  \n",
      "---  ------      --------------  -----  \n",
      " 0   Ano         185 non-null    int64  \n",
      " 1   UF          185 non-null    object \n",
      " 2   ESTADO      185 non-null    object \n",
      " 3   IBGE7       185 non-null    int64  \n",
      " 4   MUNICIPIO   185 non-null    object \n",
      " 5   PIB         185 non-null    float64\n",
      " 6   MAIOR_ATIV  185 non-null    object \n",
      "dtypes: float64(1), int64(2), object(4)\n",
      "memory usage: 10.2+ KB\n"
     ]
    }
   ],
   "source": [
    "Pib2019PE.info()"
   ]
  },
  {
   "cell_type": "code",
   "execution_count": 107,
   "metadata": {
    "executionInfo": {
     "elapsed": 728,
     "status": "ok",
     "timestamp": 1651355079844,
     "user": {
      "displayName": "Elisangela Furg",
      "userId": "10599246134434945793"
     },
     "user_tz": 180
    },
    "id": "1xdB1TB8Sehd"
   },
   "outputs": [],
   "source": [
    "#MESCLAR TABELA MUNICIPIO RFB E EMPRESAS\n",
    "IDHBrasilPE2 = pd.merge(IDHBrasilPE,municipios_ibgepe, on='ConcatUF+Mun')"
   ]
  },
  {
   "cell_type": "code",
   "execution_count": 108,
   "metadata": {},
   "outputs": [
    {
     "data": {
      "text/html": [
       "<div>\n",
       "<style scoped>\n",
       "    .dataframe tbody tr th:only-of-type {\n",
       "        vertical-align: middle;\n",
       "    }\n",
       "\n",
       "    .dataframe tbody tr th {\n",
       "        vertical-align: top;\n",
       "    }\n",
       "\n",
       "    .dataframe thead th {\n",
       "        text-align: right;\n",
       "    }\n",
       "</style>\n",
       "<table border=\"1\" class=\"dataframe\">\n",
       "  <thead>\n",
       "    <tr style=\"text-align: right;\">\n",
       "      <th></th>\n",
       "      <th>MUNICIPIO_x</th>\n",
       "      <th>Estado</th>\n",
       "      <th>ConcatUF+Mun</th>\n",
       "      <th>Posição IDHM</th>\n",
       "      <th>IDHM</th>\n",
       "      <th>Posição IDHM Renda</th>\n",
       "      <th>IDHM Renda</th>\n",
       "      <th>Posição IDHM Educação</th>\n",
       "      <th>IDHM Educação</th>\n",
       "      <th>Posição IDHM Longevidade</th>\n",
       "      <th>IDHM Longevidade</th>\n",
       "      <th>IBGE</th>\n",
       "      <th>IBGE7</th>\n",
       "      <th>MUNICIPIO_y</th>\n",
       "      <th>UF</th>\n",
       "      <th>ConcatUF+Mun_1</th>\n",
       "    </tr>\n",
       "  </thead>\n",
       "  <tbody>\n",
       "    <tr>\n",
       "      <th>0</th>\n",
       "      <td>Abreu E Lima</td>\n",
       "      <td>PE</td>\n",
       "      <td>PEABREU E LIMA</td>\n",
       "      <td>146</td>\n",
       "      <td>679</td>\n",
       "      <td>104</td>\n",
       "      <td>791</td>\n",
       "      <td>145</td>\n",
       "      <td>632</td>\n",
       "      <td>213</td>\n",
       "      <td>625</td>\n",
       "      <td>260005</td>\n",
       "      <td>2600054</td>\n",
       "      <td>Abreu e Lima</td>\n",
       "      <td>PE</td>\n",
       "      <td>PEABREU E LIMA</td>\n",
       "    </tr>\n",
       "    <tr>\n",
       "      <th>1</th>\n",
       "      <td>Afogados da Ingazeira</td>\n",
       "      <td>PE</td>\n",
       "      <td>PEAFOGADOS DA INGAZEIRA</td>\n",
       "      <td>168</td>\n",
       "      <td>657</td>\n",
       "      <td>88</td>\n",
       "      <td>807</td>\n",
       "      <td>212</td>\n",
       "      <td>565</td>\n",
       "      <td>215</td>\n",
       "      <td>623</td>\n",
       "      <td>260010</td>\n",
       "      <td>2600104</td>\n",
       "      <td>Afogados da Ingazeira</td>\n",
       "      <td>PE</td>\n",
       "      <td>PEAFOGADOS DA INGAZEIRA</td>\n",
       "    </tr>\n",
       "    <tr>\n",
       "      <th>2</th>\n",
       "      <td>Afrânio</td>\n",
       "      <td>PE</td>\n",
       "      <td>PEAFRÂNIO</td>\n",
       "      <td>237</td>\n",
       "      <td>588</td>\n",
       "      <td>134</td>\n",
       "      <td>761</td>\n",
       "      <td>284</td>\n",
       "      <td>493</td>\n",
       "      <td>296</td>\n",
       "      <td>542</td>\n",
       "      <td>260020</td>\n",
       "      <td>2600203</td>\n",
       "      <td>Afrânio</td>\n",
       "      <td>PE</td>\n",
       "      <td>PEAFRANIO</td>\n",
       "    </tr>\n",
       "    <tr>\n",
       "      <th>3</th>\n",
       "      <td>Agrestina</td>\n",
       "      <td>PE</td>\n",
       "      <td>PEAGRESTINA</td>\n",
       "      <td>233</td>\n",
       "      <td>592</td>\n",
       "      <td>135</td>\n",
       "      <td>76</td>\n",
       "      <td>307</td>\n",
       "      <td>47</td>\n",
       "      <td>257</td>\n",
       "      <td>581</td>\n",
       "      <td>260030</td>\n",
       "      <td>2600302</td>\n",
       "      <td>Agrestina</td>\n",
       "      <td>PE</td>\n",
       "      <td>PEAGRESTINA</td>\n",
       "    </tr>\n",
       "    <tr>\n",
       "      <th>4</th>\n",
       "      <td>Água Preta</td>\n",
       "      <td>PE</td>\n",
       "      <td>PEÁGUA PRETA</td>\n",
       "      <td>272</td>\n",
       "      <td>553</td>\n",
       "      <td>134</td>\n",
       "      <td>761</td>\n",
       "      <td>345</td>\n",
       "      <td>432</td>\n",
       "      <td>324</td>\n",
       "      <td>514</td>\n",
       "      <td>260040</td>\n",
       "      <td>2600401</td>\n",
       "      <td>Água Preta</td>\n",
       "      <td>PE</td>\n",
       "      <td>PEAGUA PRETA</td>\n",
       "    </tr>\n",
       "    <tr>\n",
       "      <th>...</th>\n",
       "      <td>...</td>\n",
       "      <td>...</td>\n",
       "      <td>...</td>\n",
       "      <td>...</td>\n",
       "      <td>...</td>\n",
       "      <td>...</td>\n",
       "      <td>...</td>\n",
       "      <td>...</td>\n",
       "      <td>...</td>\n",
       "      <td>...</td>\n",
       "      <td>...</td>\n",
       "      <td>...</td>\n",
       "      <td>...</td>\n",
       "      <td>...</td>\n",
       "      <td>...</td>\n",
       "      <td>...</td>\n",
       "    </tr>\n",
       "    <tr>\n",
       "      <th>178</th>\n",
       "      <td>Vertente do Lério</td>\n",
       "      <td>PE</td>\n",
       "      <td>PEVERTENTE DO LÉRIO</td>\n",
       "      <td>262</td>\n",
       "      <td>563</td>\n",
       "      <td>169</td>\n",
       "      <td>726</td>\n",
       "      <td>316</td>\n",
       "      <td>461</td>\n",
       "      <td>306</td>\n",
       "      <td>532</td>\n",
       "      <td>261618</td>\n",
       "      <td>2616183</td>\n",
       "      <td>Vertente do Lério</td>\n",
       "      <td>PE</td>\n",
       "      <td>PEVERTENTE DO LERIO</td>\n",
       "    </tr>\n",
       "    <tr>\n",
       "      <th>179</th>\n",
       "      <td>Vertentes</td>\n",
       "      <td>PE</td>\n",
       "      <td>PEVERTENTES</td>\n",
       "      <td>243</td>\n",
       "      <td>582</td>\n",
       "      <td>167</td>\n",
       "      <td>728</td>\n",
       "      <td>327</td>\n",
       "      <td>45</td>\n",
       "      <td>236</td>\n",
       "      <td>602</td>\n",
       "      <td>261620</td>\n",
       "      <td>2616209</td>\n",
       "      <td>Vertentes</td>\n",
       "      <td>PE</td>\n",
       "      <td>PEVERTENTES</td>\n",
       "    </tr>\n",
       "    <tr>\n",
       "      <th>180</th>\n",
       "      <td>Vicência</td>\n",
       "      <td>PE</td>\n",
       "      <td>PEVICÊNCIA</td>\n",
       "      <td>220</td>\n",
       "      <td>605</td>\n",
       "      <td>141</td>\n",
       "      <td>754</td>\n",
       "      <td>243</td>\n",
       "      <td>534</td>\n",
       "      <td>287</td>\n",
       "      <td>551</td>\n",
       "      <td>261630</td>\n",
       "      <td>2616308</td>\n",
       "      <td>Vicência</td>\n",
       "      <td>PE</td>\n",
       "      <td>PEVICENCIA</td>\n",
       "    </tr>\n",
       "    <tr>\n",
       "      <th>181</th>\n",
       "      <td>Vitória de Santo Antão</td>\n",
       "      <td>PE</td>\n",
       "      <td>PEVITÓRIA DE SANTO ANTÃO</td>\n",
       "      <td>185</td>\n",
       "      <td>64</td>\n",
       "      <td>127</td>\n",
       "      <td>768</td>\n",
       "      <td>234</td>\n",
       "      <td>543</td>\n",
       "      <td>209</td>\n",
       "      <td>629</td>\n",
       "      <td>261640</td>\n",
       "      <td>2616407</td>\n",
       "      <td>Vitória de Santo Antão</td>\n",
       "      <td>PE</td>\n",
       "      <td>PEVITORIA DE SANTO ANTAO</td>\n",
       "    </tr>\n",
       "    <tr>\n",
       "      <th>182</th>\n",
       "      <td>Xexéu</td>\n",
       "      <td>PE</td>\n",
       "      <td>PEXEXÉU</td>\n",
       "      <td>273</td>\n",
       "      <td>552</td>\n",
       "      <td>192</td>\n",
       "      <td>703</td>\n",
       "      <td>341</td>\n",
       "      <td>436</td>\n",
       "      <td>289</td>\n",
       "      <td>549</td>\n",
       "      <td>261650</td>\n",
       "      <td>2616506</td>\n",
       "      <td>Xexéu</td>\n",
       "      <td>PE</td>\n",
       "      <td>PEXEXEU</td>\n",
       "    </tr>\n",
       "  </tbody>\n",
       "</table>\n",
       "<p>183 rows × 16 columns</p>\n",
       "</div>"
      ],
      "text/plain": [
       "                 MUNICIPIO_x Estado              ConcatUF+Mun  Posição IDHM  \\\n",
       "0              Abreu E Lima      PE            PEABREU E LIMA           146   \n",
       "1     Afogados da Ingazeira      PE   PEAFOGADOS DA INGAZEIRA           168   \n",
       "2                   Afrânio      PE                 PEAFRÂNIO           237   \n",
       "3                 Agrestina      PE               PEAGRESTINA           233   \n",
       "4                Água Preta      PE              PEÁGUA PRETA           272   \n",
       "..                       ...    ...                       ...           ...   \n",
       "178       Vertente do Lério      PE       PEVERTENTE DO LÉRIO           262   \n",
       "179               Vertentes      PE               PEVERTENTES           243   \n",
       "180                Vicência      PE                PEVICÊNCIA           220   \n",
       "181  Vitória de Santo Antão      PE  PEVITÓRIA DE SANTO ANTÃO           185   \n",
       "182                   Xexéu      PE                   PEXEXÉU           273   \n",
       "\n",
       "     IDHM  Posição IDHM Renda  IDHM Renda  Posição IDHM Educação  \\\n",
       "0     679                 104         791                    145   \n",
       "1     657                  88         807                    212   \n",
       "2     588                 134         761                    284   \n",
       "3     592                 135          76                    307   \n",
       "4     553                 134         761                    345   \n",
       "..    ...                 ...         ...                    ...   \n",
       "178   563                 169         726                    316   \n",
       "179   582                 167         728                    327   \n",
       "180   605                 141         754                    243   \n",
       "181    64                 127         768                    234   \n",
       "182   552                 192         703                    341   \n",
       "\n",
       "     IDHM Educação  Posição IDHM Longevidade  IDHM Longevidade    IBGE  \\\n",
       "0              632                       213               625  260005   \n",
       "1              565                       215               623  260010   \n",
       "2              493                       296               542  260020   \n",
       "3               47                       257               581  260030   \n",
       "4              432                       324               514  260040   \n",
       "..             ...                       ...               ...     ...   \n",
       "178            461                       306               532  261618   \n",
       "179             45                       236               602  261620   \n",
       "180            534                       287               551  261630   \n",
       "181            543                       209               629  261640   \n",
       "182            436                       289               549  261650   \n",
       "\n",
       "       IBGE7             MUNICIPIO_y  UF            ConcatUF+Mun_1  \n",
       "0    2600054            Abreu e Lima  PE            PEABREU E LIMA  \n",
       "1    2600104   Afogados da Ingazeira  PE   PEAFOGADOS DA INGAZEIRA  \n",
       "2    2600203                 Afrânio  PE                 PEAFRANIO  \n",
       "3    2600302               Agrestina  PE               PEAGRESTINA  \n",
       "4    2600401              Água Preta  PE              PEAGUA PRETA  \n",
       "..       ...                     ...  ..                       ...  \n",
       "178  2616183       Vertente do Lério  PE       PEVERTENTE DO LERIO  \n",
       "179  2616209               Vertentes  PE               PEVERTENTES  \n",
       "180  2616308                Vicência  PE                PEVICENCIA  \n",
       "181  2616407  Vitória de Santo Antão  PE  PEVITORIA DE SANTO ANTAO  \n",
       "182  2616506                   Xexéu  PE                   PEXEXEU  \n",
       "\n",
       "[183 rows x 16 columns]"
      ]
     },
     "execution_count": 108,
     "metadata": {},
     "output_type": "execute_result"
    }
   ],
   "source": [
    "IDHBrasilPE2"
   ]
  },
  {
   "cell_type": "code",
   "execution_count": 150,
   "metadata": {},
   "outputs": [
    {
     "name": "stderr",
     "output_type": "stream",
     "text": [
      "C:\\Users\\ELISAN~1\\AppData\\Local\\Temp/ipykernel_8000/1974334966.py:2: FutureWarning: Passing 'suffixes' which cause duplicate columns {'MUNICIPIO_y'} in the result is deprecated and will raise a MergeError in a future version.\n",
      "  empresasPEFinal = pd.merge(Pib2019PE,empresasPEFinal, on='IBGE7')\n"
     ]
    }
   ],
   "source": [
    "#empresasPEFinal = pd.merge(IDHBrasilPE2,empresasPEFinal, on='IBGE7')\n",
    "empresasPEFinal = pd.merge(Pib2019PE,empresasPEFinal, on='IBGE7')"
   ]
  },
  {
   "cell_type": "code",
   "execution_count": 151,
   "metadata": {},
   "outputs": [
    {
     "data": {
      "text/plain": [
       "Index(['Ano_x', 'UF', 'ESTADO_x', 'IBGE7', 'MUNICIPIO_x', 'PIB_x',\n",
       "       'MAIOR_ATIV_x', 'index', 'MUNICIPIO_x', 'Estado', 'ConcatUF+Mun_x',\n",
       "       'Posição IDHM', 'IDHM', 'Posição IDHM Renda', 'IDHM Renda',\n",
       "       'Posição IDHM Educação', 'IDHM Educação', 'Posição IDHM Longevidade',\n",
       "       'IDHM Longevidade', 'IBGE', 'MUNICIPIO_y', 'UF_x', 'ConcatUF+Mun_1_x',\n",
       "       'CNPJ_BASICO', 'NATJU', 'CAP_SOCIAL', 'PORTE', 'CNPJ_ORDEM', 'CNPJ_DV',\n",
       "       'IDE_MAT_FIL', 'SIT_CADASTRAL', 'DATA_SIT_CADAS', 'MOT_SIT_CADAS',\n",
       "       'DATA_INI_ATV', 'CNAE_FISCAL', 'UF_x', 'N_MUNIC', 'OP_SIMPLES', 'MEI',\n",
       "       'DESC_CNAE', 'DESC_NATJU', 'DESC_MUNIC', 'ConcatUF+Mun_y',\n",
       "       'ConcatUF+Mun_1_x', 'IBGE_x', 'Município_x', 'UF_y', 'ConcatUF+Mun_1_y',\n",
       "       'Ano_y', 'UF_y', 'ESTADO_y', 'MUNICIPIO_y', 'PIB_y', 'MAIOR_ATIV_y',\n",
       "       'IBGE_y', 'Município_y', 'População 2010', 'Porte', 'ARRECADACAO',\n",
       "       'ConcatUF+Mun_1_y'],\n",
       "      dtype='object')"
      ]
     },
     "execution_count": 151,
     "metadata": {},
     "output_type": "execute_result"
    }
   ],
   "source": [
    "empresasPEFinal.columns"
   ]
  },
  {
   "cell_type": "code",
   "execution_count": 159,
   "metadata": {},
   "outputs": [
    {
     "name": "stdout",
     "output_type": "stream",
     "text": [
      "<class 'pandas.core.frame.DataFrame'>\n",
      "Int64Index: 804032 entries, 0 to 804031\n",
      "Data columns (total 60 columns):\n",
      " #   Column                    Non-Null Count   Dtype  \n",
      "---  ------                    --------------   -----  \n",
      " 0   Ano_x                     804032 non-null  int64  \n",
      " 1   UF                        804032 non-null  object \n",
      " 2   ESTADO_x                  804032 non-null  object \n",
      " 3   IBGE7                     804032 non-null  int64  \n",
      " 4   MUNICIPIO_x               804032 non-null  object \n",
      " 5   PIB_x                     804032 non-null  float64\n",
      " 6   MAIOR_ATIV_x              804032 non-null  object \n",
      " 7   index                     804032 non-null  int64  \n",
      " 8   MUNICIPIO_x               804032 non-null  object \n",
      " 9   Estado                    804032 non-null  object \n",
      " 10  ConcatUF+Mun_x            804032 non-null  object \n",
      " 11  Posição IDHM              804032 non-null  int64  \n",
      " 12  IDHM                      804032 non-null  int64  \n",
      " 13  Posição IDHM Renda        804032 non-null  int64  \n",
      " 14  IDHM Renda                804032 non-null  int64  \n",
      " 15  Posição IDHM Educação     804032 non-null  int64  \n",
      " 16  IDHM Educação             804032 non-null  int64  \n",
      " 17  Posição IDHM Longevidade  804032 non-null  int64  \n",
      " 18  IDHM Longevidade          804032 non-null  int64  \n",
      " 19  IBGE                      804032 non-null  int64  \n",
      " 20  MUNICIPIO_y               804032 non-null  object \n",
      " 21  UF_x                      804032 non-null  object \n",
      " 22  ConcatUF+Mun_1_x          804032 non-null  object \n",
      " 23  CNPJ_BASICO               804032 non-null  int64  \n",
      " 24  NATJU                     804032 non-null  float64\n",
      " 25  CAP_SOCIAL                804032 non-null  float64\n",
      " 26  PORTE                     804032 non-null  float64\n",
      " 27  CNPJ_ORDEM                804032 non-null  float64\n",
      " 28  CNPJ_DV                   804032 non-null  float64\n",
      " 29  IDE_MAT_FIL               804032 non-null  float64\n",
      " 30  SIT_CADASTRAL             804032 non-null  float64\n",
      " 31  DATA_SIT_CADAS            804032 non-null  float64\n",
      " 32  MOT_SIT_CADAS             804032 non-null  float64\n",
      " 33  DATA_INI_ATV              804032 non-null  float64\n",
      " 34  CNAE_FISCAL               804032 non-null  float64\n",
      " 35  UF_x                      804032 non-null  object \n",
      " 36  N_MUNIC                   804032 non-null  int64  \n",
      " 37  OP_SIMPLES                437559 non-null  object \n",
      " 38  MEI                       437559 non-null  object \n",
      " 39  DESC_CNAE                 804032 non-null  object \n",
      " 40  DESC_NATJU                804032 non-null  object \n",
      " 41  DESC_MUNIC                804032 non-null  object \n",
      " 42  ConcatUF+Mun_y            804032 non-null  object \n",
      " 43  ConcatUF+Mun_1_x          804032 non-null  object \n",
      " 44  IBGE_x                    804032 non-null  int64  \n",
      " 45  Município_x               804032 non-null  object \n",
      " 46  UF_y                      804032 non-null  object \n",
      " 47  ConcatUF+Mun_1_y          804032 non-null  object \n",
      " 48  Ano_y                     804032 non-null  int64  \n",
      " 49  UF_y                      804032 non-null  object \n",
      " 50  ESTADO_y                  804032 non-null  object \n",
      " 51  MUNICIPIO_y               804032 non-null  object \n",
      " 52  PIB_y                     804032 non-null  float64\n",
      " 53  MAIOR_ATIV_y              804032 non-null  object \n",
      " 54  IBGE_y                    804032 non-null  int64  \n",
      " 55  Município_y               804032 non-null  object \n",
      " 56  População 2010            804032 non-null  float64\n",
      " 57  Porte                     804032 non-null  object \n",
      " 58  ARRECADACAO               804032 non-null  float64\n",
      " 59  ConcatUF+Mun_1_y          804032 non-null  object \n",
      "dtypes: float64(15), int64(17), object(28)\n",
      "memory usage: 374.2+ MB\n"
     ]
    }
   ],
   "source": [
    "empresasPEFinal.info()"
   ]
  },
  {
   "cell_type": "code",
   "execution_count": 157,
   "metadata": {},
   "outputs": [],
   "source": [
    "empresasPEFinal.to_csv('empresasPEFinal_tabelacheia.csv', index = False)"
   ]
  },
  {
   "cell_type": "code",
   "execution_count": 230,
   "metadata": {},
   "outputs": [],
   "source": [
    "#SEPARAR PIB POR COLUNAS SELECIONADAS\n",
    "BaseFinalSel = pd.read_csv('empresasPEFinal_tabelacheia.csv', sep=',', encoding='UTF-8', usecols= ['CNPJ_BASICO','CNPJ_ORDEM','DATA_SIT_CADAS','MOT_SIT_CADAS','Posição IDHM','IDHM','IDHM Renda','IDHM Educação','IDHM Longevidade','IBGE','IBGE7','NATJU','CAP_SOCIAL','PORTE','IDE_MAT_FIL','DATA_INI_ATV','CNAE_FISCAL','ARRECADACAO','PIB_y','População 2010','SIT_CADASTRAL'])"
   ]
  },
  {
   "cell_type": "code",
   "execution_count": 231,
   "metadata": {
    "scrolled": true
   },
   "outputs": [
    {
     "data": {
      "text/html": [
       "<div>\n",
       "<style scoped>\n",
       "    .dataframe tbody tr th:only-of-type {\n",
       "        vertical-align: middle;\n",
       "    }\n",
       "\n",
       "    .dataframe tbody tr th {\n",
       "        vertical-align: top;\n",
       "    }\n",
       "\n",
       "    .dataframe thead th {\n",
       "        text-align: right;\n",
       "    }\n",
       "</style>\n",
       "<table border=\"1\" class=\"dataframe\">\n",
       "  <thead>\n",
       "    <tr style=\"text-align: right;\">\n",
       "      <th></th>\n",
       "      <th>IBGE7</th>\n",
       "      <th>Posição IDHM</th>\n",
       "      <th>IDHM</th>\n",
       "      <th>IDHM Renda</th>\n",
       "      <th>IDHM Educação</th>\n",
       "      <th>IDHM Longevidade</th>\n",
       "      <th>IBGE</th>\n",
       "      <th>CNPJ_BASICO</th>\n",
       "      <th>NATJU</th>\n",
       "      <th>CAP_SOCIAL</th>\n",
       "      <th>PORTE</th>\n",
       "      <th>CNPJ_ORDEM</th>\n",
       "      <th>IDE_MAT_FIL</th>\n",
       "      <th>SIT_CADASTRAL</th>\n",
       "      <th>DATA_SIT_CADAS</th>\n",
       "      <th>MOT_SIT_CADAS</th>\n",
       "      <th>DATA_INI_ATV</th>\n",
       "      <th>CNAE_FISCAL</th>\n",
       "      <th>PIB_y</th>\n",
       "      <th>População 2010</th>\n",
       "      <th>ARRECADACAO</th>\n",
       "    </tr>\n",
       "  </thead>\n",
       "  <tbody>\n",
       "    <tr>\n",
       "      <th>0</th>\n",
       "      <td>2600054</td>\n",
       "      <td>146</td>\n",
       "      <td>679</td>\n",
       "      <td>791</td>\n",
       "      <td>632</td>\n",
       "      <td>625</td>\n",
       "      <td>260005</td>\n",
       "      <td>45298913</td>\n",
       "      <td>2135.0000</td>\n",
       "      <td>10000.0000</td>\n",
       "      <td>1.0000</td>\n",
       "      <td>1.0000</td>\n",
       "      <td>1.0000</td>\n",
       "      <td>2.0000</td>\n",
       "      <td>20220215.0000</td>\n",
       "      <td>0.0000</td>\n",
       "      <td>20220215.0000</td>\n",
       "      <td>4530705.0000</td>\n",
       "      <td>1775521.6620</td>\n",
       "      <td>94429.0000</td>\n",
       "      <td>134509358.5100</td>\n",
       "    </tr>\n",
       "    <tr>\n",
       "      <th>1</th>\n",
       "      <td>2600054</td>\n",
       "      <td>146</td>\n",
       "      <td>679</td>\n",
       "      <td>791</td>\n",
       "      <td>632</td>\n",
       "      <td>625</td>\n",
       "      <td>260005</td>\n",
       "      <td>69920775</td>\n",
       "      <td>2135.0000</td>\n",
       "      <td>0.0000</td>\n",
       "      <td>1.0000</td>\n",
       "      <td>1.0000</td>\n",
       "      <td>1.0000</td>\n",
       "      <td>2.0000</td>\n",
       "      <td>20051103.0000</td>\n",
       "      <td>0.0000</td>\n",
       "      <td>19930218.0000</td>\n",
       "      <td>4530705.0000</td>\n",
       "      <td>1775521.6620</td>\n",
       "      <td>94429.0000</td>\n",
       "      <td>134509358.5100</td>\n",
       "    </tr>\n",
       "    <tr>\n",
       "      <th>2</th>\n",
       "      <td>2600054</td>\n",
       "      <td>146</td>\n",
       "      <td>679</td>\n",
       "      <td>791</td>\n",
       "      <td>632</td>\n",
       "      <td>625</td>\n",
       "      <td>260005</td>\n",
       "      <td>4393610</td>\n",
       "      <td>2135.0000</td>\n",
       "      <td>0.0000</td>\n",
       "      <td>1.0000</td>\n",
       "      <td>1.0000</td>\n",
       "      <td>1.0000</td>\n",
       "      <td>8.0000</td>\n",
       "      <td>20180717.0000</td>\n",
       "      <td>1.0000</td>\n",
       "      <td>20010416.0000</td>\n",
       "      <td>4530705.0000</td>\n",
       "      <td>1775521.6620</td>\n",
       "      <td>94429.0000</td>\n",
       "      <td>134509358.5100</td>\n",
       "    </tr>\n",
       "    <tr>\n",
       "      <th>3</th>\n",
       "      <td>2600054</td>\n",
       "      <td>146</td>\n",
       "      <td>679</td>\n",
       "      <td>791</td>\n",
       "      <td>632</td>\n",
       "      <td>625</td>\n",
       "      <td>260005</td>\n",
       "      <td>7440052</td>\n",
       "      <td>2135.0000</td>\n",
       "      <td>0.0000</td>\n",
       "      <td>5.0000</td>\n",
       "      <td>1.0000</td>\n",
       "      <td>1.0000</td>\n",
       "      <td>8.0000</td>\n",
       "      <td>20150209.0000</td>\n",
       "      <td>73.0000</td>\n",
       "      <td>20050616.0000</td>\n",
       "      <td>4530705.0000</td>\n",
       "      <td>1775521.6620</td>\n",
       "      <td>94429.0000</td>\n",
       "      <td>134509358.5100</td>\n",
       "    </tr>\n",
       "    <tr>\n",
       "      <th>4</th>\n",
       "      <td>2600054</td>\n",
       "      <td>146</td>\n",
       "      <td>679</td>\n",
       "      <td>791</td>\n",
       "      <td>632</td>\n",
       "      <td>625</td>\n",
       "      <td>260005</td>\n",
       "      <td>35459387</td>\n",
       "      <td>2135.0000</td>\n",
       "      <td>20000.0000</td>\n",
       "      <td>5.0000</td>\n",
       "      <td>1.0000</td>\n",
       "      <td>1.0000</td>\n",
       "      <td>4.0000</td>\n",
       "      <td>20190116.0000</td>\n",
       "      <td>63.0000</td>\n",
       "      <td>19901017.0000</td>\n",
       "      <td>4530705.0000</td>\n",
       "      <td>1775521.6620</td>\n",
       "      <td>94429.0000</td>\n",
       "      <td>134509358.5100</td>\n",
       "    </tr>\n",
       "  </tbody>\n",
       "</table>\n",
       "</div>"
      ],
      "text/plain": [
       "     IBGE7  Posição IDHM  IDHM  IDHM Renda  IDHM Educação  IDHM Longevidade  \\\n",
       "0  2600054           146   679         791            632               625   \n",
       "1  2600054           146   679         791            632               625   \n",
       "2  2600054           146   679         791            632               625   \n",
       "3  2600054           146   679         791            632               625   \n",
       "4  2600054           146   679         791            632               625   \n",
       "\n",
       "     IBGE  CNPJ_BASICO     NATJU  CAP_SOCIAL  PORTE  CNPJ_ORDEM  IDE_MAT_FIL  \\\n",
       "0  260005     45298913 2135.0000  10000.0000 1.0000      1.0000       1.0000   \n",
       "1  260005     69920775 2135.0000      0.0000 1.0000      1.0000       1.0000   \n",
       "2  260005      4393610 2135.0000      0.0000 1.0000      1.0000       1.0000   \n",
       "3  260005      7440052 2135.0000      0.0000 5.0000      1.0000       1.0000   \n",
       "4  260005     35459387 2135.0000  20000.0000 5.0000      1.0000       1.0000   \n",
       "\n",
       "   SIT_CADASTRAL  DATA_SIT_CADAS  MOT_SIT_CADAS  DATA_INI_ATV  CNAE_FISCAL  \\\n",
       "0         2.0000   20220215.0000         0.0000 20220215.0000 4530705.0000   \n",
       "1         2.0000   20051103.0000         0.0000 19930218.0000 4530705.0000   \n",
       "2         8.0000   20180717.0000         1.0000 20010416.0000 4530705.0000   \n",
       "3         8.0000   20150209.0000        73.0000 20050616.0000 4530705.0000   \n",
       "4         4.0000   20190116.0000        63.0000 19901017.0000 4530705.0000   \n",
       "\n",
       "         PIB_y  População 2010    ARRECADACAO  \n",
       "0 1775521.6620      94429.0000 134509358.5100  \n",
       "1 1775521.6620      94429.0000 134509358.5100  \n",
       "2 1775521.6620      94429.0000 134509358.5100  \n",
       "3 1775521.6620      94429.0000 134509358.5100  \n",
       "4 1775521.6620      94429.0000 134509358.5100  "
      ]
     },
     "execution_count": 231,
     "metadata": {},
     "output_type": "execute_result"
    }
   ],
   "source": [
    "BaseFinalSel.head()"
   ]
  },
  {
   "cell_type": "code",
   "execution_count": 232,
   "metadata": {
    "executionInfo": {
     "elapsed": 7544,
     "status": "ok",
     "timestamp": 1651355637968,
     "user": {
      "displayName": "Elisangela Furg",
      "userId": "10599246134434945793"
     },
     "user_tz": 180
    },
    "id": "9MYSjQRxdp9o"
   },
   "outputs": [
    {
     "data": {
      "text/plain": [
       "Index(['IBGE7', 'Posição IDHM', 'IDHM', 'IDHM Renda', 'IDHM Educação',\n",
       "       'IDHM Longevidade', 'IBGE', 'CNPJ_BASICO', 'NATJU', 'CAP_SOCIAL',\n",
       "       'PORTE', 'CNPJ_ORDEM', 'IDE_MAT_FIL', 'SIT_CADASTRAL', 'DATA_SIT_CADAS',\n",
       "       'MOT_SIT_CADAS', 'DATA_INI_ATV', 'CNAE_FISCAL', 'PIB_y',\n",
       "       'População 2010', 'ARRECADACAO'],\n",
       "      dtype='object')"
      ]
     },
     "execution_count": 232,
     "metadata": {},
     "output_type": "execute_result"
    }
   ],
   "source": [
    "BaseFinalSel.columns"
   ]
  },
  {
   "cell_type": "code",
   "execution_count": 233,
   "metadata": {
    "colab": {
     "base_uri": "https://localhost:8080/"
    },
    "executionInfo": {
     "elapsed": 303,
     "status": "ok",
     "timestamp": 1651355118685,
     "user": {
      "displayName": "Elisangela Furg",
      "userId": "10599246134434945793"
     },
     "user_tz": 180
    },
    "id": "SrizoPoybirJ",
    "outputId": "13902032-c3de-4800-8b77-43ef644f7b76"
   },
   "outputs": [
    {
     "data": {
      "text/plain": [
       "(804032, 21)"
      ]
     },
     "execution_count": 233,
     "metadata": {},
     "output_type": "execute_result"
    }
   ],
   "source": [
    "BaseFinalSel.shape"
   ]
  },
  {
   "cell_type": "code",
   "execution_count": null,
   "metadata": {
    "executionInfo": {
     "elapsed": 310,
     "status": "ok",
     "timestamp": 1651355811632,
     "user": {
      "displayName": "Elisangela Furg",
      "userId": "10599246134434945793"
     },
     "user_tz": 180
    },
    "id": "MroM3WIxbi5e"
   },
   "outputs": [],
   "source": [
    "#MAQUIAGEM DOS DADOS"
   ]
  },
  {
   "cell_type": "code",
   "execution_count": 234,
   "metadata": {
    "executionInfo": {
     "elapsed": 303,
     "status": "ok",
     "timestamp": 1651355813708,
     "user": {
      "displayName": "Elisangela Furg",
      "userId": "10599246134434945793"
     },
     "user_tz": 180
    },
    "id": "B5NW2YFTdarc"
   },
   "outputs": [],
   "source": [
    "# configurando variáveis do ambiente\n",
    "import warnings\n",
    "warnings.filterwarnings('ignore')\n",
    "pd.options.display.max_columns = None\n",
    "pd.options.display.max_rows = None\n",
    "pd.options.display.float_format = '{:.4f}'.format"
   ]
  },
  {
   "cell_type": "code",
   "execution_count": 235,
   "metadata": {
    "colab": {
     "base_uri": "https://localhost:8080/"
    },
    "executionInfo": {
     "elapsed": 300,
     "status": "ok",
     "timestamp": 1651355816332,
     "user": {
      "displayName": "Elisangela Furg",
      "userId": "10599246134434945793"
     },
     "user_tz": 180
    },
    "id": "qgP9pm9gd6Z2",
    "outputId": "819be925-9bf5-4ee4-8c6b-9773d0f522f5"
   },
   "outputs": [
    {
     "data": {
      "text/html": [
       "<div>\n",
       "<style scoped>\n",
       "    .dataframe tbody tr th:only-of-type {\n",
       "        vertical-align: middle;\n",
       "    }\n",
       "\n",
       "    .dataframe tbody tr th {\n",
       "        vertical-align: top;\n",
       "    }\n",
       "\n",
       "    .dataframe thead th {\n",
       "        text-align: right;\n",
       "    }\n",
       "</style>\n",
       "<table border=\"1\" class=\"dataframe\">\n",
       "  <thead>\n",
       "    <tr style=\"text-align: right;\">\n",
       "      <th></th>\n",
       "      <th>IBGE7</th>\n",
       "      <th>Posição IDHM</th>\n",
       "      <th>IDHM</th>\n",
       "      <th>IDHM Renda</th>\n",
       "      <th>IDHM Educação</th>\n",
       "      <th>IDHM Longevidade</th>\n",
       "      <th>IBGE</th>\n",
       "      <th>CNPJ_BASICO</th>\n",
       "      <th>NATJU</th>\n",
       "      <th>CAP_SOCIAL</th>\n",
       "      <th>PORTE</th>\n",
       "      <th>CNPJ_ORDEM</th>\n",
       "      <th>IDE_MAT_FIL</th>\n",
       "      <th>SIT_CADASTRAL</th>\n",
       "      <th>DATA_SIT_CADAS</th>\n",
       "      <th>MOT_SIT_CADAS</th>\n",
       "      <th>DATA_INI_ATV</th>\n",
       "      <th>CNAE_FISCAL</th>\n",
       "      <th>PIB_y</th>\n",
       "      <th>População 2010</th>\n",
       "      <th>ARRECADACAO</th>\n",
       "    </tr>\n",
       "  </thead>\n",
       "  <tbody>\n",
       "    <tr>\n",
       "      <th>0</th>\n",
       "      <td>2600054</td>\n",
       "      <td>146</td>\n",
       "      <td>679</td>\n",
       "      <td>791</td>\n",
       "      <td>632</td>\n",
       "      <td>625</td>\n",
       "      <td>260005</td>\n",
       "      <td>45298913</td>\n",
       "      <td>2135.0000</td>\n",
       "      <td>10000.0000</td>\n",
       "      <td>1.0000</td>\n",
       "      <td>1.0000</td>\n",
       "      <td>1.0000</td>\n",
       "      <td>2.0000</td>\n",
       "      <td>20220215.0000</td>\n",
       "      <td>0.0000</td>\n",
       "      <td>20220215.0000</td>\n",
       "      <td>4530705.0000</td>\n",
       "      <td>1775521.6620</td>\n",
       "      <td>94429.0000</td>\n",
       "      <td>134509358.5100</td>\n",
       "    </tr>\n",
       "    <tr>\n",
       "      <th>1</th>\n",
       "      <td>2600054</td>\n",
       "      <td>146</td>\n",
       "      <td>679</td>\n",
       "      <td>791</td>\n",
       "      <td>632</td>\n",
       "      <td>625</td>\n",
       "      <td>260005</td>\n",
       "      <td>69920775</td>\n",
       "      <td>2135.0000</td>\n",
       "      <td>0.0000</td>\n",
       "      <td>1.0000</td>\n",
       "      <td>1.0000</td>\n",
       "      <td>1.0000</td>\n",
       "      <td>2.0000</td>\n",
       "      <td>20051103.0000</td>\n",
       "      <td>0.0000</td>\n",
       "      <td>19930218.0000</td>\n",
       "      <td>4530705.0000</td>\n",
       "      <td>1775521.6620</td>\n",
       "      <td>94429.0000</td>\n",
       "      <td>134509358.5100</td>\n",
       "    </tr>\n",
       "    <tr>\n",
       "      <th>2</th>\n",
       "      <td>2600054</td>\n",
       "      <td>146</td>\n",
       "      <td>679</td>\n",
       "      <td>791</td>\n",
       "      <td>632</td>\n",
       "      <td>625</td>\n",
       "      <td>260005</td>\n",
       "      <td>4393610</td>\n",
       "      <td>2135.0000</td>\n",
       "      <td>0.0000</td>\n",
       "      <td>1.0000</td>\n",
       "      <td>1.0000</td>\n",
       "      <td>1.0000</td>\n",
       "      <td>8.0000</td>\n",
       "      <td>20180717.0000</td>\n",
       "      <td>1.0000</td>\n",
       "      <td>20010416.0000</td>\n",
       "      <td>4530705.0000</td>\n",
       "      <td>1775521.6620</td>\n",
       "      <td>94429.0000</td>\n",
       "      <td>134509358.5100</td>\n",
       "    </tr>\n",
       "    <tr>\n",
       "      <th>3</th>\n",
       "      <td>2600054</td>\n",
       "      <td>146</td>\n",
       "      <td>679</td>\n",
       "      <td>791</td>\n",
       "      <td>632</td>\n",
       "      <td>625</td>\n",
       "      <td>260005</td>\n",
       "      <td>7440052</td>\n",
       "      <td>2135.0000</td>\n",
       "      <td>0.0000</td>\n",
       "      <td>5.0000</td>\n",
       "      <td>1.0000</td>\n",
       "      <td>1.0000</td>\n",
       "      <td>8.0000</td>\n",
       "      <td>20150209.0000</td>\n",
       "      <td>73.0000</td>\n",
       "      <td>20050616.0000</td>\n",
       "      <td>4530705.0000</td>\n",
       "      <td>1775521.6620</td>\n",
       "      <td>94429.0000</td>\n",
       "      <td>134509358.5100</td>\n",
       "    </tr>\n",
       "    <tr>\n",
       "      <th>4</th>\n",
       "      <td>2600054</td>\n",
       "      <td>146</td>\n",
       "      <td>679</td>\n",
       "      <td>791</td>\n",
       "      <td>632</td>\n",
       "      <td>625</td>\n",
       "      <td>260005</td>\n",
       "      <td>35459387</td>\n",
       "      <td>2135.0000</td>\n",
       "      <td>20000.0000</td>\n",
       "      <td>5.0000</td>\n",
       "      <td>1.0000</td>\n",
       "      <td>1.0000</td>\n",
       "      <td>4.0000</td>\n",
       "      <td>20190116.0000</td>\n",
       "      <td>63.0000</td>\n",
       "      <td>19901017.0000</td>\n",
       "      <td>4530705.0000</td>\n",
       "      <td>1775521.6620</td>\n",
       "      <td>94429.0000</td>\n",
       "      <td>134509358.5100</td>\n",
       "    </tr>\n",
       "  </tbody>\n",
       "</table>\n",
       "</div>"
      ],
      "text/plain": [
       "     IBGE7  Posição IDHM  IDHM  IDHM Renda  IDHM Educação  IDHM Longevidade  \\\n",
       "0  2600054           146   679         791            632               625   \n",
       "1  2600054           146   679         791            632               625   \n",
       "2  2600054           146   679         791            632               625   \n",
       "3  2600054           146   679         791            632               625   \n",
       "4  2600054           146   679         791            632               625   \n",
       "\n",
       "     IBGE  CNPJ_BASICO     NATJU  CAP_SOCIAL  PORTE  CNPJ_ORDEM  IDE_MAT_FIL  \\\n",
       "0  260005     45298913 2135.0000  10000.0000 1.0000      1.0000       1.0000   \n",
       "1  260005     69920775 2135.0000      0.0000 1.0000      1.0000       1.0000   \n",
       "2  260005      4393610 2135.0000      0.0000 1.0000      1.0000       1.0000   \n",
       "3  260005      7440052 2135.0000      0.0000 5.0000      1.0000       1.0000   \n",
       "4  260005     35459387 2135.0000  20000.0000 5.0000      1.0000       1.0000   \n",
       "\n",
       "   SIT_CADASTRAL  DATA_SIT_CADAS  MOT_SIT_CADAS  DATA_INI_ATV  CNAE_FISCAL  \\\n",
       "0         2.0000   20220215.0000         0.0000 20220215.0000 4530705.0000   \n",
       "1         2.0000   20051103.0000         0.0000 19930218.0000 4530705.0000   \n",
       "2         8.0000   20180717.0000         1.0000 20010416.0000 4530705.0000   \n",
       "3         8.0000   20150209.0000        73.0000 20050616.0000 4530705.0000   \n",
       "4         4.0000   20190116.0000        63.0000 19901017.0000 4530705.0000   \n",
       "\n",
       "         PIB_y  População 2010    ARRECADACAO  \n",
       "0 1775521.6620      94429.0000 134509358.5100  \n",
       "1 1775521.6620      94429.0000 134509358.5100  \n",
       "2 1775521.6620      94429.0000 134509358.5100  \n",
       "3 1775521.6620      94429.0000 134509358.5100  \n",
       "4 1775521.6620      94429.0000 134509358.5100  "
      ]
     },
     "execution_count": 235,
     "metadata": {},
     "output_type": "execute_result"
    }
   ],
   "source": [
    "BaseFinalSel.head()"
   ]
  },
  {
   "cell_type": "code",
   "execution_count": 236,
   "metadata": {
    "colab": {
     "base_uri": "https://localhost:8080/",
     "height": 297
    },
    "executionInfo": {
     "elapsed": 337,
     "status": "ok",
     "timestamp": 1651355874246,
     "user": {
      "displayName": "Elisangela Furg",
      "userId": "10599246134434945793"
     },
     "user_tz": 180
    },
    "id": "enMrTpZTd6lg",
    "outputId": "929ad786-28a5-4a18-b62b-a36b226de487"
   },
   "outputs": [],
   "source": [
    "# FORMATAR NUMERO  INTEIRO \n",
    "BaseFinalSel['NATJU'] = BaseFinalSel['NATJU'].astype('int')\n",
    "BaseFinalSel['CAP_SOCIAL'] = BaseFinalSel['CAP_SOCIAL'].astype('int')\n",
    "BaseFinalSel['PORTE'] = BaseFinalSel['PORTE'].astype('int')\n",
    "BaseFinalSel['IDE_MAT_FIL'] = BaseFinalSel['IDE_MAT_FIL'].astype('int')\n",
    "BaseFinalSel['SIT_CADASTRAL'] = BaseFinalSel['SIT_CADASTRAL'].astype('int')\n",
    "BaseFinalSel['MOT_SIT_CADAS'] = BaseFinalSel['MOT_SIT_CADAS'].astype('int')\n",
    "BaseFinalSel['População 2010'] = BaseFinalSel['População 2010'].astype('int')\n",
    "BaseFinalSel['CNAE_FISCAL'] = BaseFinalSel['CNAE_FISCAL'].astype('int')\n",
    "BaseFinalSel['DATA_INI_ATV'] = BaseFinalSel['DATA_INI_ATV'].astype('int')\n",
    "BaseFinalSel['DATA_SIT_CADAS'] = BaseFinalSel['DATA_SIT_CADAS'].astype('int')\n",
    "BaseFinalSel['DATA_INI_ATV'] = BaseFinalSel['DATA_INI_ATV'].astype('str')\n",
    "BaseFinalSel['DATA_SIT_CADAS'] = BaseFinalSel['DATA_SIT_CADAS'].astype('str')"
   ]
  },
  {
   "cell_type": "code",
   "execution_count": 237,
   "metadata": {
    "executionInfo": {
     "elapsed": 2645,
     "status": "ok",
     "timestamp": 1651355993801,
     "user": {
      "displayName": "Elisangela Furg",
      "userId": "10599246134434945793"
     },
     "user_tz": 180
    },
    "id": "ebeBGbksd6oa"
   },
   "outputs": [
    {
     "data": {
      "text/html": [
       "<div>\n",
       "<style scoped>\n",
       "    .dataframe tbody tr th:only-of-type {\n",
       "        vertical-align: middle;\n",
       "    }\n",
       "\n",
       "    .dataframe tbody tr th {\n",
       "        vertical-align: top;\n",
       "    }\n",
       "\n",
       "    .dataframe thead th {\n",
       "        text-align: right;\n",
       "    }\n",
       "</style>\n",
       "<table border=\"1\" class=\"dataframe\">\n",
       "  <thead>\n",
       "    <tr style=\"text-align: right;\">\n",
       "      <th></th>\n",
       "      <th>IBGE7</th>\n",
       "      <th>Posição IDHM</th>\n",
       "      <th>IDHM</th>\n",
       "      <th>IDHM Renda</th>\n",
       "      <th>IDHM Educação</th>\n",
       "      <th>IDHM Longevidade</th>\n",
       "      <th>IBGE</th>\n",
       "      <th>CNPJ_BASICO</th>\n",
       "      <th>NATJU</th>\n",
       "      <th>CAP_SOCIAL</th>\n",
       "      <th>PORTE</th>\n",
       "      <th>CNPJ_ORDEM</th>\n",
       "      <th>IDE_MAT_FIL</th>\n",
       "      <th>SIT_CADASTRAL</th>\n",
       "      <th>DATA_SIT_CADAS</th>\n",
       "      <th>MOT_SIT_CADAS</th>\n",
       "      <th>DATA_INI_ATV</th>\n",
       "      <th>CNAE_FISCAL</th>\n",
       "      <th>PIB_y</th>\n",
       "      <th>População 2010</th>\n",
       "      <th>ARRECADACAO</th>\n",
       "    </tr>\n",
       "  </thead>\n",
       "  <tbody>\n",
       "    <tr>\n",
       "      <th>0</th>\n",
       "      <td>2600054</td>\n",
       "      <td>146</td>\n",
       "      <td>679</td>\n",
       "      <td>791</td>\n",
       "      <td>632</td>\n",
       "      <td>625</td>\n",
       "      <td>260005</td>\n",
       "      <td>45298913</td>\n",
       "      <td>2135</td>\n",
       "      <td>10000</td>\n",
       "      <td>1</td>\n",
       "      <td>1.0000</td>\n",
       "      <td>1</td>\n",
       "      <td>2</td>\n",
       "      <td>20220215</td>\n",
       "      <td>0</td>\n",
       "      <td>20220215</td>\n",
       "      <td>4530705</td>\n",
       "      <td>1775521.6620</td>\n",
       "      <td>94429</td>\n",
       "      <td>134509358.5100</td>\n",
       "    </tr>\n",
       "    <tr>\n",
       "      <th>1</th>\n",
       "      <td>2600054</td>\n",
       "      <td>146</td>\n",
       "      <td>679</td>\n",
       "      <td>791</td>\n",
       "      <td>632</td>\n",
       "      <td>625</td>\n",
       "      <td>260005</td>\n",
       "      <td>69920775</td>\n",
       "      <td>2135</td>\n",
       "      <td>0</td>\n",
       "      <td>1</td>\n",
       "      <td>1.0000</td>\n",
       "      <td>1</td>\n",
       "      <td>2</td>\n",
       "      <td>20051103</td>\n",
       "      <td>0</td>\n",
       "      <td>19930218</td>\n",
       "      <td>4530705</td>\n",
       "      <td>1775521.6620</td>\n",
       "      <td>94429</td>\n",
       "      <td>134509358.5100</td>\n",
       "    </tr>\n",
       "    <tr>\n",
       "      <th>2</th>\n",
       "      <td>2600054</td>\n",
       "      <td>146</td>\n",
       "      <td>679</td>\n",
       "      <td>791</td>\n",
       "      <td>632</td>\n",
       "      <td>625</td>\n",
       "      <td>260005</td>\n",
       "      <td>4393610</td>\n",
       "      <td>2135</td>\n",
       "      <td>0</td>\n",
       "      <td>1</td>\n",
       "      <td>1.0000</td>\n",
       "      <td>1</td>\n",
       "      <td>8</td>\n",
       "      <td>20180717</td>\n",
       "      <td>1</td>\n",
       "      <td>20010416</td>\n",
       "      <td>4530705</td>\n",
       "      <td>1775521.6620</td>\n",
       "      <td>94429</td>\n",
       "      <td>134509358.5100</td>\n",
       "    </tr>\n",
       "    <tr>\n",
       "      <th>3</th>\n",
       "      <td>2600054</td>\n",
       "      <td>146</td>\n",
       "      <td>679</td>\n",
       "      <td>791</td>\n",
       "      <td>632</td>\n",
       "      <td>625</td>\n",
       "      <td>260005</td>\n",
       "      <td>7440052</td>\n",
       "      <td>2135</td>\n",
       "      <td>0</td>\n",
       "      <td>5</td>\n",
       "      <td>1.0000</td>\n",
       "      <td>1</td>\n",
       "      <td>8</td>\n",
       "      <td>20150209</td>\n",
       "      <td>73</td>\n",
       "      <td>20050616</td>\n",
       "      <td>4530705</td>\n",
       "      <td>1775521.6620</td>\n",
       "      <td>94429</td>\n",
       "      <td>134509358.5100</td>\n",
       "    </tr>\n",
       "    <tr>\n",
       "      <th>4</th>\n",
       "      <td>2600054</td>\n",
       "      <td>146</td>\n",
       "      <td>679</td>\n",
       "      <td>791</td>\n",
       "      <td>632</td>\n",
       "      <td>625</td>\n",
       "      <td>260005</td>\n",
       "      <td>35459387</td>\n",
       "      <td>2135</td>\n",
       "      <td>20000</td>\n",
       "      <td>5</td>\n",
       "      <td>1.0000</td>\n",
       "      <td>1</td>\n",
       "      <td>4</td>\n",
       "      <td>20190116</td>\n",
       "      <td>63</td>\n",
       "      <td>19901017</td>\n",
       "      <td>4530705</td>\n",
       "      <td>1775521.6620</td>\n",
       "      <td>94429</td>\n",
       "      <td>134509358.5100</td>\n",
       "    </tr>\n",
       "  </tbody>\n",
       "</table>\n",
       "</div>"
      ],
      "text/plain": [
       "     IBGE7  Posição IDHM  IDHM  IDHM Renda  IDHM Educação  IDHM Longevidade  \\\n",
       "0  2600054           146   679         791            632               625   \n",
       "1  2600054           146   679         791            632               625   \n",
       "2  2600054           146   679         791            632               625   \n",
       "3  2600054           146   679         791            632               625   \n",
       "4  2600054           146   679         791            632               625   \n",
       "\n",
       "     IBGE  CNPJ_BASICO  NATJU  CAP_SOCIAL  PORTE  CNPJ_ORDEM  IDE_MAT_FIL  \\\n",
       "0  260005     45298913   2135       10000      1      1.0000            1   \n",
       "1  260005     69920775   2135           0      1      1.0000            1   \n",
       "2  260005      4393610   2135           0      1      1.0000            1   \n",
       "3  260005      7440052   2135           0      5      1.0000            1   \n",
       "4  260005     35459387   2135       20000      5      1.0000            1   \n",
       "\n",
       "   SIT_CADASTRAL DATA_SIT_CADAS  MOT_SIT_CADAS DATA_INI_ATV  CNAE_FISCAL  \\\n",
       "0              2       20220215              0     20220215      4530705   \n",
       "1              2       20051103              0     19930218      4530705   \n",
       "2              8       20180717              1     20010416      4530705   \n",
       "3              8       20150209             73     20050616      4530705   \n",
       "4              4       20190116             63     19901017      4530705   \n",
       "\n",
       "         PIB_y  População 2010    ARRECADACAO  \n",
       "0 1775521.6620           94429 134509358.5100  \n",
       "1 1775521.6620           94429 134509358.5100  \n",
       "2 1775521.6620           94429 134509358.5100  \n",
       "3 1775521.6620           94429 134509358.5100  \n",
       "4 1775521.6620           94429 134509358.5100  "
      ]
     },
     "execution_count": 237,
     "metadata": {},
     "output_type": "execute_result"
    }
   ],
   "source": [
    "BaseFinalSel.head()"
   ]
  },
  {
   "cell_type": "code",
   "execution_count": 238,
   "metadata": {},
   "outputs": [],
   "source": [
    "BaseFinalSel['ANO_SIT_CADAS'] = BaseFinalSel['DATA_SIT_CADAS'].str.slice(0, 4)\n",
    "BaseFinalSel['ANO_INI_ATV'] = BaseFinalSel['DATA_INI_ATV'].str.slice(0, 4)\n",
    "BaseFinalSel['ANO_SIT_CADAS'] = BaseFinalSel['ANO_SIT_CADAS'].astype('int')\n",
    "BaseFinalSel['ANO_INI_ATV'] = BaseFinalSel['ANO_INI_ATV'].astype('int')"
   ]
  },
  {
   "cell_type": "code",
   "execution_count": 239,
   "metadata": {},
   "outputs": [
    {
     "data": {
      "text/html": [
       "<div>\n",
       "<style scoped>\n",
       "    .dataframe tbody tr th:only-of-type {\n",
       "        vertical-align: middle;\n",
       "    }\n",
       "\n",
       "    .dataframe tbody tr th {\n",
       "        vertical-align: top;\n",
       "    }\n",
       "\n",
       "    .dataframe thead th {\n",
       "        text-align: right;\n",
       "    }\n",
       "</style>\n",
       "<table border=\"1\" class=\"dataframe\">\n",
       "  <thead>\n",
       "    <tr style=\"text-align: right;\">\n",
       "      <th></th>\n",
       "      <th>IBGE7</th>\n",
       "      <th>Posição IDHM</th>\n",
       "      <th>IDHM</th>\n",
       "      <th>IDHM Renda</th>\n",
       "      <th>IDHM Educação</th>\n",
       "      <th>IDHM Longevidade</th>\n",
       "      <th>IBGE</th>\n",
       "      <th>CNPJ_BASICO</th>\n",
       "      <th>NATJU</th>\n",
       "      <th>CAP_SOCIAL</th>\n",
       "      <th>PORTE</th>\n",
       "      <th>CNPJ_ORDEM</th>\n",
       "      <th>IDE_MAT_FIL</th>\n",
       "      <th>SIT_CADASTRAL</th>\n",
       "      <th>DATA_SIT_CADAS</th>\n",
       "      <th>MOT_SIT_CADAS</th>\n",
       "      <th>DATA_INI_ATV</th>\n",
       "      <th>CNAE_FISCAL</th>\n",
       "      <th>PIB_y</th>\n",
       "      <th>População 2010</th>\n",
       "      <th>ARRECADACAO</th>\n",
       "      <th>ANO_SIT_CADAS</th>\n",
       "      <th>ANO_INI_ATV</th>\n",
       "    </tr>\n",
       "  </thead>\n",
       "  <tbody>\n",
       "    <tr>\n",
       "      <th>0</th>\n",
       "      <td>2600054</td>\n",
       "      <td>146</td>\n",
       "      <td>679</td>\n",
       "      <td>791</td>\n",
       "      <td>632</td>\n",
       "      <td>625</td>\n",
       "      <td>260005</td>\n",
       "      <td>45298913</td>\n",
       "      <td>2135</td>\n",
       "      <td>10000</td>\n",
       "      <td>1</td>\n",
       "      <td>1.0000</td>\n",
       "      <td>1</td>\n",
       "      <td>2</td>\n",
       "      <td>20220215</td>\n",
       "      <td>0</td>\n",
       "      <td>20220215</td>\n",
       "      <td>4530705</td>\n",
       "      <td>1775521.6620</td>\n",
       "      <td>94429</td>\n",
       "      <td>134509358.5100</td>\n",
       "      <td>2022</td>\n",
       "      <td>2022</td>\n",
       "    </tr>\n",
       "    <tr>\n",
       "      <th>1</th>\n",
       "      <td>2600054</td>\n",
       "      <td>146</td>\n",
       "      <td>679</td>\n",
       "      <td>791</td>\n",
       "      <td>632</td>\n",
       "      <td>625</td>\n",
       "      <td>260005</td>\n",
       "      <td>69920775</td>\n",
       "      <td>2135</td>\n",
       "      <td>0</td>\n",
       "      <td>1</td>\n",
       "      <td>1.0000</td>\n",
       "      <td>1</td>\n",
       "      <td>2</td>\n",
       "      <td>20051103</td>\n",
       "      <td>0</td>\n",
       "      <td>19930218</td>\n",
       "      <td>4530705</td>\n",
       "      <td>1775521.6620</td>\n",
       "      <td>94429</td>\n",
       "      <td>134509358.5100</td>\n",
       "      <td>2005</td>\n",
       "      <td>1993</td>\n",
       "    </tr>\n",
       "    <tr>\n",
       "      <th>2</th>\n",
       "      <td>2600054</td>\n",
       "      <td>146</td>\n",
       "      <td>679</td>\n",
       "      <td>791</td>\n",
       "      <td>632</td>\n",
       "      <td>625</td>\n",
       "      <td>260005</td>\n",
       "      <td>4393610</td>\n",
       "      <td>2135</td>\n",
       "      <td>0</td>\n",
       "      <td>1</td>\n",
       "      <td>1.0000</td>\n",
       "      <td>1</td>\n",
       "      <td>8</td>\n",
       "      <td>20180717</td>\n",
       "      <td>1</td>\n",
       "      <td>20010416</td>\n",
       "      <td>4530705</td>\n",
       "      <td>1775521.6620</td>\n",
       "      <td>94429</td>\n",
       "      <td>134509358.5100</td>\n",
       "      <td>2018</td>\n",
       "      <td>2001</td>\n",
       "    </tr>\n",
       "    <tr>\n",
       "      <th>3</th>\n",
       "      <td>2600054</td>\n",
       "      <td>146</td>\n",
       "      <td>679</td>\n",
       "      <td>791</td>\n",
       "      <td>632</td>\n",
       "      <td>625</td>\n",
       "      <td>260005</td>\n",
       "      <td>7440052</td>\n",
       "      <td>2135</td>\n",
       "      <td>0</td>\n",
       "      <td>5</td>\n",
       "      <td>1.0000</td>\n",
       "      <td>1</td>\n",
       "      <td>8</td>\n",
       "      <td>20150209</td>\n",
       "      <td>73</td>\n",
       "      <td>20050616</td>\n",
       "      <td>4530705</td>\n",
       "      <td>1775521.6620</td>\n",
       "      <td>94429</td>\n",
       "      <td>134509358.5100</td>\n",
       "      <td>2015</td>\n",
       "      <td>2005</td>\n",
       "    </tr>\n",
       "    <tr>\n",
       "      <th>4</th>\n",
       "      <td>2600054</td>\n",
       "      <td>146</td>\n",
       "      <td>679</td>\n",
       "      <td>791</td>\n",
       "      <td>632</td>\n",
       "      <td>625</td>\n",
       "      <td>260005</td>\n",
       "      <td>35459387</td>\n",
       "      <td>2135</td>\n",
       "      <td>20000</td>\n",
       "      <td>5</td>\n",
       "      <td>1.0000</td>\n",
       "      <td>1</td>\n",
       "      <td>4</td>\n",
       "      <td>20190116</td>\n",
       "      <td>63</td>\n",
       "      <td>19901017</td>\n",
       "      <td>4530705</td>\n",
       "      <td>1775521.6620</td>\n",
       "      <td>94429</td>\n",
       "      <td>134509358.5100</td>\n",
       "      <td>2019</td>\n",
       "      <td>1990</td>\n",
       "    </tr>\n",
       "  </tbody>\n",
       "</table>\n",
       "</div>"
      ],
      "text/plain": [
       "     IBGE7  Posição IDHM  IDHM  IDHM Renda  IDHM Educação  IDHM Longevidade  \\\n",
       "0  2600054           146   679         791            632               625   \n",
       "1  2600054           146   679         791            632               625   \n",
       "2  2600054           146   679         791            632               625   \n",
       "3  2600054           146   679         791            632               625   \n",
       "4  2600054           146   679         791            632               625   \n",
       "\n",
       "     IBGE  CNPJ_BASICO  NATJU  CAP_SOCIAL  PORTE  CNPJ_ORDEM  IDE_MAT_FIL  \\\n",
       "0  260005     45298913   2135       10000      1      1.0000            1   \n",
       "1  260005     69920775   2135           0      1      1.0000            1   \n",
       "2  260005      4393610   2135           0      1      1.0000            1   \n",
       "3  260005      7440052   2135           0      5      1.0000            1   \n",
       "4  260005     35459387   2135       20000      5      1.0000            1   \n",
       "\n",
       "   SIT_CADASTRAL DATA_SIT_CADAS  MOT_SIT_CADAS DATA_INI_ATV  CNAE_FISCAL  \\\n",
       "0              2       20220215              0     20220215      4530705   \n",
       "1              2       20051103              0     19930218      4530705   \n",
       "2              8       20180717              1     20010416      4530705   \n",
       "3              8       20150209             73     20050616      4530705   \n",
       "4              4       20190116             63     19901017      4530705   \n",
       "\n",
       "         PIB_y  População 2010    ARRECADACAO  ANO_SIT_CADAS  ANO_INI_ATV  \n",
       "0 1775521.6620           94429 134509358.5100           2022         2022  \n",
       "1 1775521.6620           94429 134509358.5100           2005         1993  \n",
       "2 1775521.6620           94429 134509358.5100           2018         2001  \n",
       "3 1775521.6620           94429 134509358.5100           2015         2005  \n",
       "4 1775521.6620           94429 134509358.5100           2019         1990  "
      ]
     },
     "execution_count": 239,
     "metadata": {},
     "output_type": "execute_result"
    }
   ],
   "source": [
    "BaseFinalSel.head()"
   ]
  },
  {
   "cell_type": "code",
   "execution_count": 240,
   "metadata": {},
   "outputs": [],
   "source": [
    "BaseFinalSel['TEMPO_VIDA'] = BaseFinalSel['ANO_SIT_CADAS'] - BaseFinalSel['ANO_INI_ATV']"
   ]
  },
  {
   "cell_type": "code",
   "execution_count": 242,
   "metadata": {},
   "outputs": [
    {
     "data": {
      "text/html": [
       "<div>\n",
       "<style scoped>\n",
       "    .dataframe tbody tr th:only-of-type {\n",
       "        vertical-align: middle;\n",
       "    }\n",
       "\n",
       "    .dataframe tbody tr th {\n",
       "        vertical-align: top;\n",
       "    }\n",
       "\n",
       "    .dataframe thead th {\n",
       "        text-align: right;\n",
       "    }\n",
       "</style>\n",
       "<table border=\"1\" class=\"dataframe\">\n",
       "  <thead>\n",
       "    <tr style=\"text-align: right;\">\n",
       "      <th></th>\n",
       "      <th>IBGE7</th>\n",
       "      <th>Posição IDHM</th>\n",
       "      <th>IDHM</th>\n",
       "      <th>IDHM Renda</th>\n",
       "      <th>IDHM Educação</th>\n",
       "      <th>IDHM Longevidade</th>\n",
       "      <th>IBGE</th>\n",
       "      <th>CNPJ_BASICO</th>\n",
       "      <th>NATJU</th>\n",
       "      <th>CAP_SOCIAL</th>\n",
       "      <th>PORTE</th>\n",
       "      <th>CNPJ_ORDEM</th>\n",
       "      <th>IDE_MAT_FIL</th>\n",
       "      <th>SIT_CADASTRAL</th>\n",
       "      <th>DATA_SIT_CADAS</th>\n",
       "      <th>MOT_SIT_CADAS</th>\n",
       "      <th>DATA_INI_ATV</th>\n",
       "      <th>CNAE_FISCAL</th>\n",
       "      <th>PIB_y</th>\n",
       "      <th>População 2010</th>\n",
       "      <th>ARRECADACAO</th>\n",
       "      <th>ANO_SIT_CADAS</th>\n",
       "      <th>ANO_INI_ATV</th>\n",
       "      <th>TEMPO_VIDA</th>\n",
       "    </tr>\n",
       "  </thead>\n",
       "  <tbody>\n",
       "    <tr>\n",
       "      <th>0</th>\n",
       "      <td>2600054</td>\n",
       "      <td>146</td>\n",
       "      <td>679</td>\n",
       "      <td>791</td>\n",
       "      <td>632</td>\n",
       "      <td>625</td>\n",
       "      <td>260005</td>\n",
       "      <td>45298913</td>\n",
       "      <td>2135</td>\n",
       "      <td>10000</td>\n",
       "      <td>1</td>\n",
       "      <td>1.0000</td>\n",
       "      <td>1</td>\n",
       "      <td>2</td>\n",
       "      <td>20220215</td>\n",
       "      <td>0</td>\n",
       "      <td>20220215</td>\n",
       "      <td>4530705</td>\n",
       "      <td>1775521.6620</td>\n",
       "      <td>94429</td>\n",
       "      <td>134509358.5100</td>\n",
       "      <td>2022</td>\n",
       "      <td>2022</td>\n",
       "      <td>0</td>\n",
       "    </tr>\n",
       "    <tr>\n",
       "      <th>1</th>\n",
       "      <td>2600054</td>\n",
       "      <td>146</td>\n",
       "      <td>679</td>\n",
       "      <td>791</td>\n",
       "      <td>632</td>\n",
       "      <td>625</td>\n",
       "      <td>260005</td>\n",
       "      <td>69920775</td>\n",
       "      <td>2135</td>\n",
       "      <td>0</td>\n",
       "      <td>1</td>\n",
       "      <td>1.0000</td>\n",
       "      <td>1</td>\n",
       "      <td>2</td>\n",
       "      <td>20051103</td>\n",
       "      <td>0</td>\n",
       "      <td>19930218</td>\n",
       "      <td>4530705</td>\n",
       "      <td>1775521.6620</td>\n",
       "      <td>94429</td>\n",
       "      <td>134509358.5100</td>\n",
       "      <td>2005</td>\n",
       "      <td>1993</td>\n",
       "      <td>12</td>\n",
       "    </tr>\n",
       "    <tr>\n",
       "      <th>2</th>\n",
       "      <td>2600054</td>\n",
       "      <td>146</td>\n",
       "      <td>679</td>\n",
       "      <td>791</td>\n",
       "      <td>632</td>\n",
       "      <td>625</td>\n",
       "      <td>260005</td>\n",
       "      <td>4393610</td>\n",
       "      <td>2135</td>\n",
       "      <td>0</td>\n",
       "      <td>1</td>\n",
       "      <td>1.0000</td>\n",
       "      <td>1</td>\n",
       "      <td>8</td>\n",
       "      <td>20180717</td>\n",
       "      <td>1</td>\n",
       "      <td>20010416</td>\n",
       "      <td>4530705</td>\n",
       "      <td>1775521.6620</td>\n",
       "      <td>94429</td>\n",
       "      <td>134509358.5100</td>\n",
       "      <td>2018</td>\n",
       "      <td>2001</td>\n",
       "      <td>17</td>\n",
       "    </tr>\n",
       "    <tr>\n",
       "      <th>3</th>\n",
       "      <td>2600054</td>\n",
       "      <td>146</td>\n",
       "      <td>679</td>\n",
       "      <td>791</td>\n",
       "      <td>632</td>\n",
       "      <td>625</td>\n",
       "      <td>260005</td>\n",
       "      <td>7440052</td>\n",
       "      <td>2135</td>\n",
       "      <td>0</td>\n",
       "      <td>5</td>\n",
       "      <td>1.0000</td>\n",
       "      <td>1</td>\n",
       "      <td>8</td>\n",
       "      <td>20150209</td>\n",
       "      <td>73</td>\n",
       "      <td>20050616</td>\n",
       "      <td>4530705</td>\n",
       "      <td>1775521.6620</td>\n",
       "      <td>94429</td>\n",
       "      <td>134509358.5100</td>\n",
       "      <td>2015</td>\n",
       "      <td>2005</td>\n",
       "      <td>10</td>\n",
       "    </tr>\n",
       "    <tr>\n",
       "      <th>4</th>\n",
       "      <td>2600054</td>\n",
       "      <td>146</td>\n",
       "      <td>679</td>\n",
       "      <td>791</td>\n",
       "      <td>632</td>\n",
       "      <td>625</td>\n",
       "      <td>260005</td>\n",
       "      <td>35459387</td>\n",
       "      <td>2135</td>\n",
       "      <td>20000</td>\n",
       "      <td>5</td>\n",
       "      <td>1.0000</td>\n",
       "      <td>1</td>\n",
       "      <td>4</td>\n",
       "      <td>20190116</td>\n",
       "      <td>63</td>\n",
       "      <td>19901017</td>\n",
       "      <td>4530705</td>\n",
       "      <td>1775521.6620</td>\n",
       "      <td>94429</td>\n",
       "      <td>134509358.5100</td>\n",
       "      <td>2019</td>\n",
       "      <td>1990</td>\n",
       "      <td>29</td>\n",
       "    </tr>\n",
       "  </tbody>\n",
       "</table>\n",
       "</div>"
      ],
      "text/plain": [
       "     IBGE7  Posição IDHM  IDHM  IDHM Renda  IDHM Educação  IDHM Longevidade  \\\n",
       "0  2600054           146   679         791            632               625   \n",
       "1  2600054           146   679         791            632               625   \n",
       "2  2600054           146   679         791            632               625   \n",
       "3  2600054           146   679         791            632               625   \n",
       "4  2600054           146   679         791            632               625   \n",
       "\n",
       "     IBGE  CNPJ_BASICO  NATJU  CAP_SOCIAL  PORTE  CNPJ_ORDEM  IDE_MAT_FIL  \\\n",
       "0  260005     45298913   2135       10000      1      1.0000            1   \n",
       "1  260005     69920775   2135           0      1      1.0000            1   \n",
       "2  260005      4393610   2135           0      1      1.0000            1   \n",
       "3  260005      7440052   2135           0      5      1.0000            1   \n",
       "4  260005     35459387   2135       20000      5      1.0000            1   \n",
       "\n",
       "   SIT_CADASTRAL DATA_SIT_CADAS  MOT_SIT_CADAS DATA_INI_ATV  CNAE_FISCAL  \\\n",
       "0              2       20220215              0     20220215      4530705   \n",
       "1              2       20051103              0     19930218      4530705   \n",
       "2              8       20180717              1     20010416      4530705   \n",
       "3              8       20150209             73     20050616      4530705   \n",
       "4              4       20190116             63     19901017      4530705   \n",
       "\n",
       "         PIB_y  População 2010    ARRECADACAO  ANO_SIT_CADAS  ANO_INI_ATV  \\\n",
       "0 1775521.6620           94429 134509358.5100           2022         2022   \n",
       "1 1775521.6620           94429 134509358.5100           2005         1993   \n",
       "2 1775521.6620           94429 134509358.5100           2018         2001   \n",
       "3 1775521.6620           94429 134509358.5100           2015         2005   \n",
       "4 1775521.6620           94429 134509358.5100           2019         1990   \n",
       "\n",
       "   TEMPO_VIDA  \n",
       "0           0  \n",
       "1          12  \n",
       "2          17  \n",
       "3          10  \n",
       "4          29  "
      ]
     },
     "execution_count": 242,
     "metadata": {},
     "output_type": "execute_result"
    }
   ],
   "source": [
    "BaseFinalSel.head()"
   ]
  },
  {
   "cell_type": "code",
   "execution_count": 243,
   "metadata": {},
   "outputs": [],
   "source": [
    "BaseFinalSel.to_csv('BaseFinalSel.csv', index = False)"
   ]
  },
  {
   "cell_type": "code",
   "execution_count": null,
   "metadata": {},
   "outputs": [],
   "source": []
  }
 ],
 "metadata": {
  "colab": {
   "collapsed_sections": [],
   "name": "BaseFinal.ipynb",
   "provenance": [
    {
     "file_id": "1q6JfUqe1xiuGRBJFAB7uj3uRMtk55Jml",
     "timestamp": 1651331082755
    },
    {
     "file_id": "1MVe62XBikIR_-F9JiOuF7n0hmDo69UQW",
     "timestamp": 1649805514683
    }
   ]
  },
  "interpreter": {
   "hash": "5dd761505a2a6f838abee8076697a98289e3965be6e853bbf48ff126071d9bad"
  },
  "kernelspec": {
   "display_name": "Python 3 (ipykernel)",
   "language": "python",
   "name": "python3"
  },
  "language_info": {
   "codemirror_mode": {
    "name": "ipython",
    "version": 3
   },
   "file_extension": ".py",
   "mimetype": "text/x-python",
   "name": "python",
   "nbconvert_exporter": "python",
   "pygments_lexer": "ipython3",
   "version": "3.9.7"
  }
 },
 "nbformat": 4,
 "nbformat_minor": 1
}

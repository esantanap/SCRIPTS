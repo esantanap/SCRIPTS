{
 "cells": [
  {
   "cell_type": "markdown",
   "id": "30b82e5d-fc2b-4e86-9ddf-f3ace8693b44",
   "metadata": {},
   "source": [
    "AGREGAR DADOS RFB PARA ANALISE INICIAL"
   ]
  },
  {
   "cell_type": "code",
   "execution_count": 9,
   "id": "f27b17a6",
   "metadata": {},
   "outputs": [
    {
     "data": {
      "text/plain": [
       "'D:\\\\#PROJETOS\\\\FURG\\\\ECD-CIENCIA DE DADOS\\\\#TCC-FURG\\\\BASE-RFB-12-03-2022\\\\TRATADA'"
      ]
     },
     "execution_count": 9,
     "metadata": {},
     "output_type": "execute_result"
    }
   ],
   "source": [
    "#IMPORTACAO DAS BIBLIOTECAS \n",
    "import numpy as np\n",
    "import pandas as pd\n",
    "os.getcwd()"
   ]
  },
  {
   "cell_type": "code",
   "execution_count": 10,
   "id": "519f3be9",
   "metadata": {},
   "outputs": [
    {
     "data": {
      "text/html": [
       "<div>\n",
       "<style scoped>\n",
       "    .dataframe tbody tr th:only-of-type {\n",
       "        vertical-align: middle;\n",
       "    }\n",
       "\n",
       "    .dataframe tbody tr th {\n",
       "        vertical-align: top;\n",
       "    }\n",
       "\n",
       "    .dataframe thead th {\n",
       "        text-align: right;\n",
       "    }\n",
       "</style>\n",
       "<table border=\"1\" class=\"dataframe\">\n",
       "  <thead>\n",
       "    <tr style=\"text-align: right;\">\n",
       "      <th></th>\n",
       "      <th>CNPJ BASICO</th>\n",
       "      <th>NATJU</th>\n",
       "      <th>CAP_SOCIAL</th>\n",
       "      <th>PORTE</th>\n",
       "    </tr>\n",
       "  </thead>\n",
       "  <tbody>\n",
       "    <tr>\n",
       "      <th>0</th>\n",
       "      <td>41273603</td>\n",
       "      <td>2062</td>\n",
       "      <td>10000,00</td>\n",
       "      <td>1.0</td>\n",
       "    </tr>\n",
       "    <tr>\n",
       "      <th>1</th>\n",
       "      <td>41273604</td>\n",
       "      <td>2062</td>\n",
       "      <td>10000,00</td>\n",
       "      <td>1.0</td>\n",
       "    </tr>\n",
       "    <tr>\n",
       "      <th>2</th>\n",
       "      <td>41273605</td>\n",
       "      <td>2135</td>\n",
       "      <td>1000,00</td>\n",
       "      <td>1.0</td>\n",
       "    </tr>\n",
       "    <tr>\n",
       "      <th>3</th>\n",
       "      <td>41273606</td>\n",
       "      <td>2135</td>\n",
       "      <td>72000,00</td>\n",
       "      <td>1.0</td>\n",
       "    </tr>\n",
       "    <tr>\n",
       "      <th>4</th>\n",
       "      <td>41273607</td>\n",
       "      <td>2135</td>\n",
       "      <td>1,00</td>\n",
       "      <td>1.0</td>\n",
       "    </tr>\n",
       "  </tbody>\n",
       "</table>\n",
       "</div>"
      ],
      "text/plain": [
       "   CNPJ BASICO  NATJU CAP_SOCIAL  PORTE\n",
       "0     41273603   2062   10000,00    1.0\n",
       "1     41273604   2062   10000,00    1.0\n",
       "2     41273605   2135    1000,00    1.0\n",
       "3     41273606   2135   72000,00    1.0\n",
       "4     41273607   2135       1,00    1.0"
      ]
     },
     "execution_count": 10,
     "metadata": {},
     "output_type": "execute_result"
    }
   ],
   "source": [
    "# IMPORTACAO DA TABELA EMPRESA\n",
    "#cnpj_basico, #capital_social, #porte_empresa #Natureza Juridica\n",
    "\n",
    "os.chdir('D:\\#PROJETOS\\FURG\\ECD-CIENCIA DE DADOS\\#TCC-FURG\\BASE-RFB-12-03-2022\\TRATADA')\n",
    "empresaTratada = pd.read_csv('empresaTratada.csv', sep=',', encoding='UTF-8', usecols = ['CNPJ BASICO','NATJU','CAP_SOCIAL','PORTE'])\n",
    "empresaTratada.head()"
   ]
  },
  {
   "cell_type": "code",
   "execution_count": 11,
   "id": "1b40b6dc",
   "metadata": {},
   "outputs": [],
   "source": [
    "#RENOMEAR COLUNA CNPJ BASICO\n",
    "empresaTratada = empresaTratada.rename(columns={'CNPJ BASICO': 'CNPJ_BASICO'})"
   ]
  },
  {
   "cell_type": "code",
   "execution_count": 12,
   "id": "d5a6cd6b",
   "metadata": {},
   "outputs": [
    {
     "data": {
      "text/plain": [
       "(49151491, 4)"
      ]
     },
     "execution_count": 12,
     "metadata": {},
     "output_type": "execute_result"
    }
   ],
   "source": [
    "empresaTratada.shape"
   ]
  },
  {
   "cell_type": "code",
   "execution_count": 13,
   "id": "fb3014d3",
   "metadata": {},
   "outputs": [
    {
     "name": "stdout",
     "output_type": "stream",
     "text": [
      "CNPJ_BASICO        0\n",
      "NATJU              0\n",
      "CAP_SOCIAL         0\n",
      "PORTE          63173\n",
      "dtype: int64\n"
     ]
    }
   ],
   "source": [
    "#VERIFICAR VALORES FALTANTES\n",
    "print(pd.isnull(empresaTratada).sum())"
   ]
  },
  {
   "cell_type": "code",
   "execution_count": 14,
   "id": "612c8cab",
   "metadata": {},
   "outputs": [
    {
     "data": {
      "text/plain": [
       "49151491"
      ]
     },
     "execution_count": 14,
     "metadata": {},
     "output_type": "execute_result"
    }
   ],
   "source": [
    "#TAMANHO DA TABELA EMPRESA\n",
    "empresaTratada.shape[0]"
   ]
  },
  {
   "cell_type": "code",
   "execution_count": 15,
   "id": "8355d550",
   "metadata": {},
   "outputs": [
    {
     "data": {
      "text/plain": [
       "CNPJ_BASICO      int64\n",
       "NATJU            int64\n",
       "CAP_SOCIAL      object\n",
       "PORTE          float64\n",
       "dtype: object"
      ]
     },
     "execution_count": 15,
     "metadata": {},
     "output_type": "execute_result"
    }
   ],
   "source": [
    "empresaTratada.dtypes"
   ]
  },
  {
   "cell_type": "code",
   "execution_count": 16,
   "id": "83681faa",
   "metadata": {},
   "outputs": [
    {
     "data": {
      "text/plain": [
       "0    10000.00\n",
       "1    10000.00\n",
       "2     1000.00\n",
       "3    72000.00\n",
       "4        1.00\n",
       "Name: CAP_SOCIAL, dtype: object"
      ]
     },
     "execution_count": 16,
     "metadata": {},
     "output_type": "execute_result"
    }
   ],
   "source": [
    "# TRANSFORMAR COLUNA CAPITAL SOCIAL EM INTEIRO\n",
    "# PASSO 01 - MUDAR VIRGULA PARA PONTO NA COLUNA CAP_SOCIAL\n",
    "def mudarNumero(item):\n",
    "  if ',' in item:\n",
    "    return item.replace(',','.')\n",
    "  else:\n",
    "    return item\n",
    "\n",
    "empresaTratada['CAP_SOCIAL'] = empresaTratada['CAP_SOCIAL'].apply(mudarNumero)\n",
    "empresaTratada['CAP_SOCIAL'].head()"
   ]
  },
  {
   "cell_type": "code",
   "execution_count": 17,
   "id": "2727156e",
   "metadata": {},
   "outputs": [
    {
     "data": {
      "text/plain": [
       "CNPJ_BASICO      int64\n",
       "NATJU            int64\n",
       "CAP_SOCIAL     float64\n",
       "PORTE          float64\n",
       "dtype: object"
      ]
     },
     "execution_count": 17,
     "metadata": {},
     "output_type": "execute_result"
    }
   ],
   "source": [
    "#PASSO 02 TRANSFORMAR CAP_SOCIAL EM NUMERICO (float64)\n",
    "empresaTratada['CAP_SOCIAL'] = pd.to_numeric(empresaTratada['CAP_SOCIAL'])\n",
    "empresaTratada.dtypes"
   ]
  },
  {
   "cell_type": "code",
   "execution_count": 18,
   "id": "a4716540",
   "metadata": {},
   "outputs": [
    {
     "name": "stdout",
     "output_type": "stream",
     "text": [
      "Quantidade de registros 49151491\n",
      "Tipo de Registros \n",
      " CNPJ_BASICO      int64\n",
      "NATJU            int64\n",
      "CAP_SOCIAL     float64\n",
      "PORTE          float64\n",
      "dtype: object\n"
     ]
    }
   ],
   "source": [
    "print('Quantidade de registros',empresaTratada.shape[0])\n",
    "print('Tipo de Registros','\\n',empresaTratada.dtypes)"
   ]
  },
  {
   "cell_type": "code",
   "execution_count": 19,
   "id": "6a3b5182",
   "metadata": {},
   "outputs": [],
   "source": [
    "#EXPORTAR empresaTratada FORMATADA\n",
    "empresaTratada.to_csv(r'empresaFormatada.csv', index = False)"
   ]
  },
  {
   "cell_type": "code",
   "execution_count": 20,
   "id": "2ada12f8",
   "metadata": {},
   "outputs": [],
   "source": [
    "del empresaTratada"
   ]
  },
  {
   "cell_type": "code",
   "execution_count": 21,
   "id": "1d2b3ee1",
   "metadata": {},
   "outputs": [],
   "source": [
    "# IMPORTACAO DA TABELA ESTABELECIMENTO\n",
    "#cnpj_basico, ordem , dv  #Matriz ou Filial #sit_cadastral, #dt_sit_cadastral, #Mot_situação cadastral #dt_ini_atividade, #cnae_fisc_princ, #UF #municipio\n",
    "os.chdir('D:\\#PROJETOS\\FURG\\ECD-CIENCIA DE DADOS\\#TCC-FURG\\BASE-RFB-12-03-2022\\TRATADA')\n",
    "estabTratada = pd.read_csv('estabTratada.csv', sep=',', encoding='UTF-8', usecols= ['CNPJ_BASICO','CNPJ_ORDEM','CNPJ_DV','IDE_MAT_FIL','SIT_CADASTRAL','DATA_SIT_CADAS','MOT_SIT_CADAS','DATA_INI_ATV','CNAE_FISCAL','UF','MUNICIPIO'])"
   ]
  },
  {
   "cell_type": "code",
   "execution_count": 22,
   "id": "2bdeb096",
   "metadata": {},
   "outputs": [
    {
     "data": {
      "text/plain": [
       "51860331"
      ]
     },
     "execution_count": 22,
     "metadata": {},
     "output_type": "execute_result"
    }
   ],
   "source": [
    "#TAMANHO DA TABELA ESTABELECIMENTO\n",
    "estabTratada.shape[0]"
   ]
  },
  {
   "cell_type": "code",
   "execution_count": 23,
   "id": "ac364548",
   "metadata": {},
   "outputs": [
    {
     "data": {
      "text/plain": [
       "1    49151491\n",
       "2     2708840\n",
       "Name: IDE_MAT_FIL, dtype: int64"
      ]
     },
     "execution_count": 23,
     "metadata": {},
     "output_type": "execute_result"
    }
   ],
   "source": [
    "#QUANTIDADE DE MATRIZ E FILIAL\n",
    "estabTratada['IDE_MAT_FIL'].value_counts()"
   ]
  },
  {
   "cell_type": "code",
   "execution_count": 24,
   "id": "b6c9310d",
   "metadata": {},
   "outputs": [
    {
     "name": "stdout",
     "output_type": "stream",
     "text": [
      "CNPJ_BASICO       0\n",
      "CNPJ_ORDEM        0\n",
      "CNPJ_DV           0\n",
      "IDE_MAT_FIL       0\n",
      "SIT_CADASTRAL     0\n",
      "DATA_SIT_CADAS    0\n",
      "MOT_SIT_CADAS     0\n",
      "DATA_INI_ATV      0\n",
      "CNAE_FISCAL       0\n",
      "UF                0\n",
      "MUNICIPIO         0\n",
      "dtype: int64\n"
     ]
    }
   ],
   "source": [
    "#VERIFICAR VALORES FALTANTES\n",
    "print(pd.isnull(estabTratada).sum())"
   ]
  },
  {
   "cell_type": "code",
   "execution_count": 25,
   "id": "6d8b97e7",
   "metadata": {},
   "outputs": [
    {
     "data": {
      "text/html": [
       "<div>\n",
       "<style scoped>\n",
       "    .dataframe tbody tr th:only-of-type {\n",
       "        vertical-align: middle;\n",
       "    }\n",
       "\n",
       "    .dataframe tbody tr th {\n",
       "        vertical-align: top;\n",
       "    }\n",
       "\n",
       "    .dataframe thead th {\n",
       "        text-align: right;\n",
       "    }\n",
       "</style>\n",
       "<table border=\"1\" class=\"dataframe\">\n",
       "  <thead>\n",
       "    <tr style=\"text-align: right;\">\n",
       "      <th></th>\n",
       "      <th>CNPJ_BASICO</th>\n",
       "      <th>CNPJ_ORDEM</th>\n",
       "      <th>CNPJ_DV</th>\n",
       "      <th>IDE_MAT_FIL</th>\n",
       "      <th>SIT_CADASTRAL</th>\n",
       "      <th>DATA_SIT_CADAS</th>\n",
       "      <th>MOT_SIT_CADAS</th>\n",
       "      <th>DATA_INI_ATV</th>\n",
       "      <th>CNAE_FISCAL</th>\n",
       "      <th>UF</th>\n",
       "      <th>MUNICIPIO</th>\n",
       "    </tr>\n",
       "  </thead>\n",
       "  <tbody>\n",
       "    <tr>\n",
       "      <th>0</th>\n",
       "      <td>40521734</td>\n",
       "      <td>1</td>\n",
       "      <td>30</td>\n",
       "      <td>1</td>\n",
       "      <td>8</td>\n",
       "      <td>19911001</td>\n",
       "      <td>1</td>\n",
       "      <td>19910725</td>\n",
       "      <td>4744001</td>\n",
       "      <td>BA</td>\n",
       "      <td>3993</td>\n",
       "    </tr>\n",
       "    <tr>\n",
       "      <th>1</th>\n",
       "      <td>22257653</td>\n",
       "      <td>1</td>\n",
       "      <td>93</td>\n",
       "      <td>1</td>\n",
       "      <td>8</td>\n",
       "      <td>19881124</td>\n",
       "      <td>1</td>\n",
       "      <td>19860828</td>\n",
       "      <td>1412601</td>\n",
       "      <td>MG</td>\n",
       "      <td>4733</td>\n",
       "    </tr>\n",
       "    <tr>\n",
       "      <th>2</th>\n",
       "      <td>57680274</td>\n",
       "      <td>1</td>\n",
       "      <td>96</td>\n",
       "      <td>1</td>\n",
       "      <td>8</td>\n",
       "      <td>20081231</td>\n",
       "      <td>71</td>\n",
       "      <td>19870605</td>\n",
       "      <td>3211601</td>\n",
       "      <td>SP</td>\n",
       "      <td>6369</td>\n",
       "    </tr>\n",
       "    <tr>\n",
       "      <th>3</th>\n",
       "      <td>315164</td>\n",
       "      <td>1</td>\n",
       "      <td>8</td>\n",
       "      <td>1</td>\n",
       "      <td>8</td>\n",
       "      <td>20081231</td>\n",
       "      <td>71</td>\n",
       "      <td>19941122</td>\n",
       "      <td>3101200</td>\n",
       "      <td>MA</td>\n",
       "      <td>921</td>\n",
       "    </tr>\n",
       "    <tr>\n",
       "      <th>4</th>\n",
       "      <td>36174589</td>\n",
       "      <td>1</td>\n",
       "      <td>91</td>\n",
       "      <td>1</td>\n",
       "      <td>8</td>\n",
       "      <td>20150209</td>\n",
       "      <td>73</td>\n",
       "      <td>19900607</td>\n",
       "      <td>8888888</td>\n",
       "      <td>RJ</td>\n",
       "      <td>6001</td>\n",
       "    </tr>\n",
       "  </tbody>\n",
       "</table>\n",
       "</div>"
      ],
      "text/plain": [
       "   CNPJ_BASICO  CNPJ_ORDEM  CNPJ_DV  IDE_MAT_FIL  SIT_CADASTRAL  \\\n",
       "0     40521734           1       30            1              8   \n",
       "1     22257653           1       93            1              8   \n",
       "2     57680274           1       96            1              8   \n",
       "3       315164           1        8            1              8   \n",
       "4     36174589           1       91            1              8   \n",
       "\n",
       "   DATA_SIT_CADAS  MOT_SIT_CADAS  DATA_INI_ATV  CNAE_FISCAL  UF  MUNICIPIO  \n",
       "0        19911001              1      19910725      4744001  BA       3993  \n",
       "1        19881124              1      19860828      1412601  MG       4733  \n",
       "2        20081231             71      19870605      3211601  SP       6369  \n",
       "3        20081231             71      19941122      3101200  MA        921  \n",
       "4        20150209             73      19900607      8888888  RJ       6001  "
      ]
     },
     "execution_count": 25,
     "metadata": {},
     "output_type": "execute_result"
    }
   ],
   "source": [
    "# VERIFICANDO ESTRUTURA DA TABELA ESTABELECIMENTO\n",
    "estabTratada.head()"
   ]
  },
  {
   "cell_type": "code",
   "execution_count": 26,
   "id": "9e4715b9",
   "metadata": {},
   "outputs": [
    {
     "data": {
      "text/plain": [
       "CNPJ_BASICO        int64\n",
       "CNPJ_ORDEM         int64\n",
       "CNPJ_DV            int64\n",
       "IDE_MAT_FIL        int64\n",
       "SIT_CADASTRAL      int64\n",
       "DATA_SIT_CADAS     int64\n",
       "MOT_SIT_CADAS      int64\n",
       "DATA_INI_ATV       int64\n",
       "CNAE_FISCAL        int64\n",
       "UF                object\n",
       "MUNICIPIO          int64\n",
       "dtype: object"
      ]
     },
     "execution_count": 26,
     "metadata": {},
     "output_type": "execute_result"
    }
   ],
   "source": [
    "#VERIFICANDO TYPO DA TABELA ESTABELECIMENTO\n",
    "estabTratada.dtypes"
   ]
  },
  {
   "cell_type": "code",
   "execution_count": 27,
   "id": "147e5a52",
   "metadata": {},
   "outputs": [],
   "source": [
    "#IMPORTAR TABELA CNAE\n",
    "cnae =  pd.read_csv('D:\\#PROJETOS\\FURG\\ECD-CIENCIA DE DADOS\\#TCC-FURG\\BASE-RFB-12-03-2022\\TRATADA\\cnae.csv', sep=',', encoding='UTF-8')"
   ]
  },
  {
   "cell_type": "code",
   "execution_count": 28,
   "id": "5c9085b2",
   "metadata": {},
   "outputs": [
    {
     "data": {
      "text/plain": [
       "N_CNAE        int64\n",
       "DESC_CNAE    object\n",
       "dtype: object"
      ]
     },
     "execution_count": 28,
     "metadata": {},
     "output_type": "execute_result"
    }
   ],
   "source": [
    "#TIPO DA TABELA CNAE\n",
    "cnae.dtypes"
   ]
  },
  {
   "cell_type": "code",
   "execution_count": 29,
   "id": "9860f641",
   "metadata": {},
   "outputs": [],
   "source": [
    "# IMPORTAR empresaTratada FORMATADA\n",
    "empresaFormatada =  pd.read_csv('D:\\#PROJETOS\\FURG\\ECD-CIENCIA DE DADOS\\#TCC-FURG\\BASE-RFB-12-03-2022\\TRATADA\\empresaFormatada.csv', sep=',', encoding='UTF-8')\n"
   ]
  },
  {
   "cell_type": "code",
   "execution_count": 30,
   "id": "d8eb75df",
   "metadata": {},
   "outputs": [
    {
     "name": "stdout",
     "output_type": "stream",
     "text": [
      "<class 'pandas.core.frame.DataFrame'>\n",
      "RangeIndex: 49151491 entries, 0 to 49151490\n",
      "Data columns (total 4 columns):\n",
      " #   Column       Dtype  \n",
      "---  ------       -----  \n",
      " 0   CNPJ_BASICO  int64  \n",
      " 1   NATJU        int64  \n",
      " 2   CAP_SOCIAL   float64\n",
      " 3   PORTE        float64\n",
      "dtypes: float64(2), int64(2)\n",
      "memory usage: 1.5 GB\n"
     ]
    }
   ],
   "source": [
    "empresaFormatada.info()"
   ]
  },
  {
   "cell_type": "code",
   "execution_count": 31,
   "id": "0dfcb439",
   "metadata": {},
   "outputs": [
    {
     "name": "stdout",
     "output_type": "stream",
     "text": [
      "<class 'pandas.core.frame.DataFrame'>\n",
      "RangeIndex: 51860331 entries, 0 to 51860330\n",
      "Data columns (total 11 columns):\n",
      " #   Column          Dtype \n",
      "---  ------          ----- \n",
      " 0   CNPJ_BASICO     int64 \n",
      " 1   CNPJ_ORDEM      int64 \n",
      " 2   CNPJ_DV         int64 \n",
      " 3   IDE_MAT_FIL     int64 \n",
      " 4   SIT_CADASTRAL   int64 \n",
      " 5   DATA_SIT_CADAS  int64 \n",
      " 6   MOT_SIT_CADAS   int64 \n",
      " 7   DATA_INI_ATV    int64 \n",
      " 8   CNAE_FISCAL     int64 \n",
      " 9   UF              object\n",
      " 10  MUNICIPIO       int64 \n",
      "dtypes: int64(10), object(1)\n",
      "memory usage: 4.3+ GB\n"
     ]
    }
   ],
   "source": [
    "estabTratada.info()\n"
   ]
  },
  {
   "cell_type": "code",
   "execution_count": 33,
   "id": "1efc82e2",
   "metadata": {},
   "outputs": [
    {
     "name": "stdout",
     "output_type": "stream",
     "text": [
      "<class 'pandas.core.frame.DataFrame'>\n",
      "RangeIndex: 49151491 entries, 0 to 49151490\n",
      "Data columns (total 4 columns):\n",
      " #   Column       Dtype  \n",
      "---  ------       -----  \n",
      " 0   CNPJ_BASICO  int64  \n",
      " 1   NATJU        int64  \n",
      " 2   CAP_SOCIAL   float64\n",
      " 3   PORTE        float64\n",
      "dtypes: float64(2), int64(2)\n",
      "memory usage: 1.5 GB\n",
      "<class 'pandas.core.frame.DataFrame'>\n",
      "RangeIndex: 51860331 entries, 0 to 51860330\n",
      "Data columns (total 11 columns):\n",
      " #   Column          Dtype \n",
      "---  ------          ----- \n",
      " 0   CNPJ_BASICO     int64 \n",
      " 1   CNPJ_ORDEM      int64 \n",
      " 2   CNPJ_DV         int64 \n",
      " 3   IDE_MAT_FIL     int64 \n",
      " 4   SIT_CADASTRAL   int64 \n",
      " 5   DATA_SIT_CADAS  int64 \n",
      " 6   MOT_SIT_CADAS   int64 \n",
      " 7   DATA_INI_ATV    int64 \n",
      " 8   CNAE_FISCAL     int64 \n",
      " 9   UF              object\n",
      " 10  MUNICIPIO       int64 \n",
      "dtypes: int64(10), object(1)\n",
      "memory usage: 4.3+ GB\n"
     ]
    }
   ],
   "source": [
    "#JUNTAR DATASET EMPRESA E ESTABELECIMENTO\n",
    "empresaFormatada.info()\n",
    "estabTratada.info()\n"
   ]
  },
  {
   "cell_type": "code",
   "execution_count": 34,
   "id": "5b6089c7",
   "metadata": {},
   "outputs": [],
   "source": [
    "#JUNTAR DATASET EMPRESA E ESTABELECIMENTO\n",
    "empresasBrasil = pd.merge(empresaFormatada, estabTratada, how = 'outer', on = 'CNPJ_BASICO')"
   ]
  },
  {
   "cell_type": "code",
   "execution_count": 36,
   "id": "b426080e",
   "metadata": {},
   "outputs": [
    {
     "name": "stdout",
     "output_type": "stream",
     "text": [
      "CNPJ_BASICO           0\n",
      "NATJU              7831\n",
      "CAP_SOCIAL         7831\n",
      "PORTE             71018\n",
      "CNPJ_ORDEM           10\n",
      "CNPJ_DV              10\n",
      "IDE_MAT_FIL          10\n",
      "SIT_CADASTRAL        10\n",
      "DATA_SIT_CADAS       10\n",
      "MOT_SIT_CADAS        10\n",
      "DATA_INI_ATV         10\n",
      "CNAE_FISCAL          10\n",
      "UF                   10\n",
      "MUNICIPIO            10\n",
      "dtype: int64\n"
     ]
    }
   ],
   "source": [
    "#VERIFICAR VALORES FALTANTES\n",
    "print(pd.isnull(empresasBrasil).sum())\n",
    "\n",
    "#EXPORTAR TABELA EMPRESAS BRASIL (Empresa + Estabelecimento)\n",
    "os.chdir('D:\\#PROJETOS\\FURG\\ECD-CIENCIA DE DADOS\\#TCC-FURG\\BASE-RFB-12-03-2022\\TRATADA')\n",
    "empresasBrasil.to_csv(r'empresasBrasil.csv', index = False)\n"
   ]
  },
  {
   "cell_type": "code",
   "execution_count": 37,
   "id": "384e6588",
   "metadata": {},
   "outputs": [
    {
     "name": "stdout",
     "output_type": "stream",
     "text": [
      "Registros Base Estabelecimentos (51860331, 11)\n",
      "Registros Base Empresas Brasil (51860355, 14)\n",
      "Diferença de registros 24\n",
      "Quantidade de Matriz e Filiais \n",
      " 1.0    49151493\n",
      "2.0     2708852\n",
      "Name: IDE_MAT_FIL, dtype: int64 \n",
      "\n"
     ]
    }
   ],
   "source": [
    "print('Registros Base Estabelecimentos', estabTratada.shape)\n",
    "print('Registros Base Empresas Brasil', empresasBrasil.shape)\n",
    "print('Diferença de registros', empresasBrasil.shape[0] - estabTratada.shape[0])\n",
    "\n",
    "#QUANTIDADE DE MATRIZ E FILIAL\n",
    "print('Quantidade de Matriz e Filiais','\\n',empresasBrasil['IDE_MAT_FIL'].value_counts(),'\\n')\n"
   ]
  },
  {
   "cell_type": "code",
   "execution_count": 40,
   "id": "6bd72913",
   "metadata": {},
   "outputs": [
    {
     "name": "stdout",
     "output_type": "stream",
     "text": [
      "CNPJ_BASICO           0\n",
      "NATJU              7831\n",
      "CAP_SOCIAL         7831\n",
      "PORTE             71018\n",
      "CNPJ_ORDEM           10\n",
      "CNPJ_DV              10\n",
      "IDE_MAT_FIL          10\n",
      "SIT_CADASTRAL        10\n",
      "DATA_SIT_CADAS       10\n",
      "MOT_SIT_CADAS        10\n",
      "DATA_INI_ATV         10\n",
      "CNAE_FISCAL          10\n",
      "UF                   10\n",
      "MUNICIPIO            10\n",
      "dtype: int64\n"
     ]
    }
   ],
   "source": [
    "#VERIFICAR VALORES FALTANTES\n",
    "print(pd.isnull(empresasBrasil).sum())"
   ]
  },
  {
   "cell_type": "code",
   "execution_count": 42,
   "id": "a7b7312a",
   "metadata": {},
   "outputs": [],
   "source": [
    "#IMPORTAR TABELA SIMPLES PARA IDENTIFICAÇÃO DO MEI\n",
    "os.chdir('D:\\#PROJETOS\\FURG\\ECD-CIENCIA DE DADOS\\#TCC-FURG\\BASE-RFB-12-03-2022\\TRATADA')\n",
    "simples = pd.read_csv('simples.csv', sep=',', encoding='UTF-8', usecols=['CNPJ BASICO', 'OPÇÃO PELO SIMPLES','MEI'])\n",
    "\n"
   ]
  },
  {
   "cell_type": "code",
   "execution_count": 43,
   "id": "51449a89",
   "metadata": {},
   "outputs": [
    {
     "data": {
      "text/html": [
       "<div>\n",
       "<style scoped>\n",
       "    .dataframe tbody tr th:only-of-type {\n",
       "        vertical-align: middle;\n",
       "    }\n",
       "\n",
       "    .dataframe tbody tr th {\n",
       "        vertical-align: top;\n",
       "    }\n",
       "\n",
       "    .dataframe thead th {\n",
       "        text-align: right;\n",
       "    }\n",
       "</style>\n",
       "<table border=\"1\" class=\"dataframe\">\n",
       "  <thead>\n",
       "    <tr style=\"text-align: right;\">\n",
       "      <th></th>\n",
       "      <th>CNPJ BASICO</th>\n",
       "      <th>OPÇÃO PELO SIMPLES</th>\n",
       "      <th>MEI</th>\n",
       "    </tr>\n",
       "  </thead>\n",
       "  <tbody>\n",
       "    <tr>\n",
       "      <th>31095258</th>\n",
       "      <td>98763352</td>\n",
       "      <td>N</td>\n",
       "      <td>N</td>\n",
       "    </tr>\n",
       "    <tr>\n",
       "      <th>31095259</th>\n",
       "      <td>98764285</td>\n",
       "      <td>S</td>\n",
       "      <td>N</td>\n",
       "    </tr>\n",
       "    <tr>\n",
       "      <th>31095260</th>\n",
       "      <td>98764665</td>\n",
       "      <td>S</td>\n",
       "      <td>N</td>\n",
       "    </tr>\n",
       "    <tr>\n",
       "      <th>31095261</th>\n",
       "      <td>98819295</td>\n",
       "      <td>S</td>\n",
       "      <td>N</td>\n",
       "    </tr>\n",
       "    <tr>\n",
       "      <th>31095262</th>\n",
       "      <td>98819568</td>\n",
       "      <td>N</td>\n",
       "      <td>N</td>\n",
       "    </tr>\n",
       "  </tbody>\n",
       "</table>\n",
       "</div>"
      ],
      "text/plain": [
       "          CNPJ BASICO OPÇÃO PELO SIMPLES MEI\n",
       "31095258     98763352                  N   N\n",
       "31095259     98764285                  S   N\n",
       "31095260     98764665                  S   N\n",
       "31095261     98819295                  S   N\n",
       "31095262     98819568                  N   N"
      ]
     },
     "execution_count": 43,
     "metadata": {},
     "output_type": "execute_result"
    }
   ],
   "source": [
    "simples.tail()"
   ]
  },
  {
   "cell_type": "code",
   "execution_count": 47,
   "id": "8ead2ce7",
   "metadata": {},
   "outputs": [],
   "source": [
    "simples = simples.rename(columns={'CNPJ BASICO': 'CNPJ_BASICO','OPÇÃO PELO SIMPLES': 'OP_SIMPLES'})"
   ]
  },
  {
   "cell_type": "code",
   "execution_count": 48,
   "id": "e0b92f80",
   "metadata": {},
   "outputs": [
    {
     "name": "stdout",
     "output_type": "stream",
     "text": [
      "<class 'pandas.core.frame.DataFrame'>\n",
      "RangeIndex: 31095263 entries, 0 to 31095262\n",
      "Data columns (total 3 columns):\n",
      " #   Column       Dtype \n",
      "---  ------       ----- \n",
      " 0   CNPJ_BASICO  int64 \n",
      " 1   OP_SIMPLES   object\n",
      " 2   MEI          object\n",
      "dtypes: int64(1), object(2)\n",
      "memory usage: 711.7+ MB\n"
     ]
    }
   ],
   "source": [
    "simples.info()"
   ]
  },
  {
   "cell_type": "code",
   "execution_count": 49,
   "id": "ece06c7f",
   "metadata": {},
   "outputs": [],
   "source": [
    "#JUNTAR DATASERT EMPRESA (Empresa + Estabelecimento + Simples)\n",
    "empresasBrasil = pd.merge(empresasBrasil, simples, how = 'outer', on = 'CNPJ_BASICO')"
   ]
  },
  {
   "cell_type": "code",
   "execution_count": 50,
   "id": "27157640",
   "metadata": {},
   "outputs": [],
   "source": [
    "#EXPORTAR TABELA EMPRESAS BRASIL (Empresa + Estabelecimento + Simples)\n",
    "os.chdir('D:\\#PROJETOS\\FURG\\ECD-CIENCIA DE DADOS\\#TCC-FURG\\BASE-RFB-12-03-2022\\TRATADA')\n",
    "empresasBrasil.to_csv(r'empresasBrasil02.csv', index = False)"
   ]
  },
  {
   "cell_type": "code",
   "execution_count": 52,
   "id": "76f7ef2f",
   "metadata": {},
   "outputs": [
    {
     "data": {
      "text/plain": [
       "(51860364, 16)"
      ]
     },
     "execution_count": 52,
     "metadata": {},
     "output_type": "execute_result"
    }
   ],
   "source": [
    "empresasBrasil.shape"
   ]
  },
  {
   "cell_type": "code",
   "execution_count": 53,
   "id": "ef618818",
   "metadata": {},
   "outputs": [
    {
     "data": {
      "text/html": [
       "<div>\n",
       "<style scoped>\n",
       "    .dataframe tbody tr th:only-of-type {\n",
       "        vertical-align: middle;\n",
       "    }\n",
       "\n",
       "    .dataframe tbody tr th {\n",
       "        vertical-align: top;\n",
       "    }\n",
       "\n",
       "    .dataframe thead th {\n",
       "        text-align: right;\n",
       "    }\n",
       "</style>\n",
       "<table border=\"1\" class=\"dataframe\">\n",
       "  <thead>\n",
       "    <tr style=\"text-align: right;\">\n",
       "      <th></th>\n",
       "      <th>CNPJ_BASICO</th>\n",
       "      <th>NATJU</th>\n",
       "      <th>CAP_SOCIAL</th>\n",
       "      <th>PORTE</th>\n",
       "      <th>CNPJ_ORDEM</th>\n",
       "      <th>CNPJ_DV</th>\n",
       "      <th>IDE_MAT_FIL</th>\n",
       "      <th>SIT_CADASTRAL</th>\n",
       "      <th>DATA_SIT_CADAS</th>\n",
       "      <th>MOT_SIT_CADAS</th>\n",
       "      <th>DATA_INI_ATV</th>\n",
       "      <th>CNAE_FISCAL</th>\n",
       "      <th>UF</th>\n",
       "      <th>MUNICIPIO</th>\n",
       "      <th>OP_SIMPLES</th>\n",
       "      <th>MEI</th>\n",
       "    </tr>\n",
       "  </thead>\n",
       "  <tbody>\n",
       "    <tr>\n",
       "      <th>0</th>\n",
       "      <td>41273603</td>\n",
       "      <td>2062.0</td>\n",
       "      <td>10000.0</td>\n",
       "      <td>1.0</td>\n",
       "      <td>1.0</td>\n",
       "      <td>44.0</td>\n",
       "      <td>1.0</td>\n",
       "      <td>2.0</td>\n",
       "      <td>20210318.0</td>\n",
       "      <td>0.0</td>\n",
       "      <td>20210318.0</td>\n",
       "      <td>4789099.0</td>\n",
       "      <td>PR</td>\n",
       "      <td>7535.0</td>\n",
       "      <td>S</td>\n",
       "      <td>N</td>\n",
       "    </tr>\n",
       "    <tr>\n",
       "      <th>1</th>\n",
       "      <td>41273604</td>\n",
       "      <td>2062.0</td>\n",
       "      <td>10000.0</td>\n",
       "      <td>1.0</td>\n",
       "      <td>1.0</td>\n",
       "      <td>99.0</td>\n",
       "      <td>1.0</td>\n",
       "      <td>2.0</td>\n",
       "      <td>20210318.0</td>\n",
       "      <td>0.0</td>\n",
       "      <td>20210318.0</td>\n",
       "      <td>8592901.0</td>\n",
       "      <td>RS</td>\n",
       "      <td>8625.0</td>\n",
       "      <td>S</td>\n",
       "      <td>N</td>\n",
       "    </tr>\n",
       "    <tr>\n",
       "      <th>2</th>\n",
       "      <td>41273605</td>\n",
       "      <td>2135.0</td>\n",
       "      <td>1000.0</td>\n",
       "      <td>1.0</td>\n",
       "      <td>1.0</td>\n",
       "      <td>33.0</td>\n",
       "      <td>1.0</td>\n",
       "      <td>2.0</td>\n",
       "      <td>20210318.0</td>\n",
       "      <td>0.0</td>\n",
       "      <td>20210318.0</td>\n",
       "      <td>5620104.0</td>\n",
       "      <td>SP</td>\n",
       "      <td>7107.0</td>\n",
       "      <td>S</td>\n",
       "      <td>S</td>\n",
       "    </tr>\n",
       "    <tr>\n",
       "      <th>3</th>\n",
       "      <td>41273606</td>\n",
       "      <td>2135.0</td>\n",
       "      <td>72000.0</td>\n",
       "      <td>1.0</td>\n",
       "      <td>1.0</td>\n",
       "      <td>88.0</td>\n",
       "      <td>1.0</td>\n",
       "      <td>2.0</td>\n",
       "      <td>20210318.0</td>\n",
       "      <td>0.0</td>\n",
       "      <td>20210318.0</td>\n",
       "      <td>4712100.0</td>\n",
       "      <td>GO</td>\n",
       "      <td>9625.0</td>\n",
       "      <td>S</td>\n",
       "      <td>S</td>\n",
       "    </tr>\n",
       "    <tr>\n",
       "      <th>4</th>\n",
       "      <td>41273607</td>\n",
       "      <td>2135.0</td>\n",
       "      <td>1.0</td>\n",
       "      <td>1.0</td>\n",
       "      <td>1.0</td>\n",
       "      <td>22.0</td>\n",
       "      <td>1.0</td>\n",
       "      <td>2.0</td>\n",
       "      <td>20210318.0</td>\n",
       "      <td>0.0</td>\n",
       "      <td>20210318.0</td>\n",
       "      <td>7319002.0</td>\n",
       "      <td>GO</td>\n",
       "      <td>9361.0</td>\n",
       "      <td>S</td>\n",
       "      <td>S</td>\n",
       "    </tr>\n",
       "  </tbody>\n",
       "</table>\n",
       "</div>"
      ],
      "text/plain": [
       "   CNPJ_BASICO   NATJU  CAP_SOCIAL  PORTE  CNPJ_ORDEM  CNPJ_DV  IDE_MAT_FIL  \\\n",
       "0     41273603  2062.0     10000.0    1.0         1.0     44.0          1.0   \n",
       "1     41273604  2062.0     10000.0    1.0         1.0     99.0          1.0   \n",
       "2     41273605  2135.0      1000.0    1.0         1.0     33.0          1.0   \n",
       "3     41273606  2135.0     72000.0    1.0         1.0     88.0          1.0   \n",
       "4     41273607  2135.0         1.0    1.0         1.0     22.0          1.0   \n",
       "\n",
       "   SIT_CADASTRAL  DATA_SIT_CADAS  MOT_SIT_CADAS  DATA_INI_ATV  CNAE_FISCAL  \\\n",
       "0            2.0      20210318.0            0.0    20210318.0    4789099.0   \n",
       "1            2.0      20210318.0            0.0    20210318.0    8592901.0   \n",
       "2            2.0      20210318.0            0.0    20210318.0    5620104.0   \n",
       "3            2.0      20210318.0            0.0    20210318.0    4712100.0   \n",
       "4            2.0      20210318.0            0.0    20210318.0    7319002.0   \n",
       "\n",
       "   UF  MUNICIPIO OP_SIMPLES MEI  \n",
       "0  PR     7535.0          S   N  \n",
       "1  RS     8625.0          S   N  \n",
       "2  SP     7107.0          S   S  \n",
       "3  GO     9625.0          S   S  \n",
       "4  GO     9361.0          S   S  "
      ]
     },
     "execution_count": 53,
     "metadata": {},
     "output_type": "execute_result"
    }
   ],
   "source": [
    "empresasBrasil.head()"
   ]
  },
  {
   "cell_type": "code",
   "execution_count": 54,
   "id": "70adb6be",
   "metadata": {},
   "outputs": [
    {
     "ename": "NameError",
     "evalue": "name 'empresaTratada' is not defined",
     "output_type": "error",
     "traceback": [
      "\u001b[1;31m---------------------------------------------------------------------------\u001b[0m",
      "\u001b[1;31mNameError\u001b[0m                                 Traceback (most recent call last)",
      "\u001b[1;32mC:\\Users\\ELISAN~1\\AppData\\Local\\Temp/ipykernel_13748/1416570094.py\u001b[0m in \u001b[0;36m<module>\u001b[1;34m\u001b[0m\n\u001b[0;32m      2\u001b[0m \u001b[1;32mdel\u001b[0m \u001b[0mempresaFormatada\u001b[0m\u001b[1;33m\u001b[0m\u001b[1;33m\u001b[0m\u001b[0m\n\u001b[0;32m      3\u001b[0m \u001b[1;32mdel\u001b[0m \u001b[0mestabTratada\u001b[0m\u001b[1;33m\u001b[0m\u001b[1;33m\u001b[0m\u001b[0m\n\u001b[1;32m----> 4\u001b[1;33m \u001b[1;32mdel\u001b[0m \u001b[0mempresaTratada\u001b[0m\u001b[1;33m\u001b[0m\u001b[1;33m\u001b[0m\u001b[0m\n\u001b[0m\u001b[0;32m      5\u001b[0m \u001b[1;32mdel\u001b[0m \u001b[0mempresasBrasil\u001b[0m\u001b[1;33m\u001b[0m\u001b[1;33m\u001b[0m\u001b[0m\n\u001b[0;32m      6\u001b[0m \u001b[1;32mdel\u001b[0m \u001b[0mcnae\u001b[0m\u001b[1;33m\u001b[0m\u001b[1;33m\u001b[0m\u001b[0m\n",
      "\u001b[1;31mNameError\u001b[0m: name 'empresaTratada' is not defined"
     ]
    }
   ],
   "source": [
    "#LIMPAR MEMORIA\n",
    "del empresaFormatada\n",
    "del estabTratada\n",
    "del empresaTratada\n",
    "del empresasBrasil\n",
    "del cnae\n",
    "import gc\n",
    "gc.collect()"
   ]
  }
 ],
 "metadata": {
  "kernelspec": {
   "display_name": "Python 3 (ipykernel)",
   "language": "python",
   "name": "python3"
  },
  "language_info": {
   "codemirror_mode": {
    "name": "ipython",
    "version": 3
   },
   "file_extension": ".py",
   "mimetype": "text/x-python",
   "name": "python",
   "nbconvert_exporter": "python",
   "pygments_lexer": "ipython3",
   "version": "3.9.7"
  },
  "toc-showtags": false
 },
 "nbformat": 4,
 "nbformat_minor": 5
}

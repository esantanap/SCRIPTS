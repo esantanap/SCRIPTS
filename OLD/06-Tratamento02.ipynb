{
 "cells": [
  {
   "cell_type": "markdown",
   "metadata": {
    "id": "5A-ZVxhwNvnz"
   },
   "source": [
    "# Curso de Especialização em Ciência de Dados - FURG\n",
    "## TRATAMENTO DE DADOS COM SCKIT-LEARN\n",
    "\n",
    "Baseado em Aurelien Geron"
   ]
  },
  {
   "cell_type": "code",
   "execution_count": 1,
   "metadata": {
    "id": "MbZpp9lINvn_"
   },
   "outputs": [],
   "source": [
    "# Importação das Bibliotecas\n",
    "%matplotlib inline\n",
    "import numpy as np\n",
    "import matplotlib.pyplot as plt\n",
    "import pandas as pd\n",
    "import sklearn\n",
    "import scipy\n",
    "import seaborn as sns"
   ]
  },
  {
   "cell_type": "markdown",
   "metadata": {
    "id": "2kZpeFslNvoH"
   },
   "source": [
    "# 2. Obter os dados"
   ]
  },
  {
   "cell_type": "code",
   "execution_count": 2,
   "metadata": {
    "id": "uP45OHdENvoJ"
   },
   "outputs": [],
   "source": [
    "import os\n",
    "os.chdir('G:\\Meu Drive\\FURG-TCC\\TCC - DADOS E ANALISE\\DADOS\\FINAL')\n",
    "df_final = pd.read_csv('df_final.csv', sep=\",\", encoding='UTF-8')"
   ]
  },
  {
   "cell_type": "code",
   "execution_count": 3,
   "metadata": {},
   "outputs": [
    {
     "name": "stdout",
     "output_type": "stream",
     "text": [
      "<class 'pandas.core.frame.DataFrame'>\n",
      "RangeIndex: 236220 entries, 0 to 236219\n",
      "Data columns (total 11 columns):\n",
      " #   Column               Non-Null Count   Dtype  \n",
      "---  ------               --------------   -----  \n",
      " 0   IBGE7                236220 non-null  int64  \n",
      " 1   IDHM                 236220 non-null  int64  \n",
      " 2   NATJU                236220 non-null  int64  \n",
      " 3   SIT_CADASTRAL        236220 non-null  int64  \n",
      " 4   CNAE_FISCAL          236220 non-null  int64  \n",
      " 5   ARRECADACAO          236220 non-null  float64\n",
      " 6   TEMPO_VIDA           236220 non-null  int64  \n",
      " 7   PIB_ANO_INIC         236220 non-null  float64\n",
      " 8   PIB_PERCAPTA_INIC    236220 non-null  float64\n",
      " 9   PIB_ANO_SITCAD       236219 non-null  float64\n",
      " 10  PIB_PERCAPTA_SITCAD  236219 non-null  float64\n",
      "dtypes: float64(5), int64(6)\n",
      "memory usage: 19.8 MB\n"
     ]
    }
   ],
   "source": [
    "df_final.info()"
   ]
  },
  {
   "cell_type": "code",
   "execution_count": 4,
   "metadata": {},
   "outputs": [
    {
     "data": {
      "text/html": [
       "<div>\n",
       "<style scoped>\n",
       "    .dataframe tbody tr th:only-of-type {\n",
       "        vertical-align: middle;\n",
       "    }\n",
       "\n",
       "    .dataframe tbody tr th {\n",
       "        vertical-align: top;\n",
       "    }\n",
       "\n",
       "    .dataframe thead th {\n",
       "        text-align: right;\n",
       "    }\n",
       "</style>\n",
       "<table border=\"1\" class=\"dataframe\">\n",
       "  <thead>\n",
       "    <tr style=\"text-align: right;\">\n",
       "      <th></th>\n",
       "      <th>IBGE7</th>\n",
       "      <th>IDHM</th>\n",
       "      <th>NATJU</th>\n",
       "      <th>SIT_CADASTRAL</th>\n",
       "      <th>CNAE_FISCAL</th>\n",
       "      <th>ARRECADACAO</th>\n",
       "      <th>TEMPO_VIDA</th>\n",
       "      <th>PIB_ANO_INIC</th>\n",
       "      <th>PIB_PERCAPTA_INIC</th>\n",
       "      <th>PIB_ANO_SITCAD</th>\n",
       "      <th>PIB_PERCAPTA_SITCAD</th>\n",
       "    </tr>\n",
       "  </thead>\n",
       "  <tbody>\n",
       "    <tr>\n",
       "      <th>0</th>\n",
       "      <td>2600054</td>\n",
       "      <td>679</td>\n",
       "      <td>2135</td>\n",
       "      <td>8</td>\n",
       "      <td>5611201</td>\n",
       "      <td>1.345094e+08</td>\n",
       "      <td>4</td>\n",
       "      <td>740917.0</td>\n",
       "      <td>769656.0</td>\n",
       "      <td>1220149.0</td>\n",
       "      <td>1247775.0</td>\n",
       "    </tr>\n",
       "    <tr>\n",
       "      <th>1</th>\n",
       "      <td>2600054</td>\n",
       "      <td>679</td>\n",
       "      <td>2135</td>\n",
       "      <td>8</td>\n",
       "      <td>5611201</td>\n",
       "      <td>1.345094e+08</td>\n",
       "      <td>3</td>\n",
       "      <td>740917.0</td>\n",
       "      <td>769656.0</td>\n",
       "      <td>1113557.0</td>\n",
       "      <td>1169174.0</td>\n",
       "    </tr>\n",
       "    <tr>\n",
       "      <th>2</th>\n",
       "      <td>2600054</td>\n",
       "      <td>679</td>\n",
       "      <td>2135</td>\n",
       "      <td>4</td>\n",
       "      <td>5611201</td>\n",
       "      <td>1.345094e+08</td>\n",
       "      <td>9</td>\n",
       "      <td>853291.0</td>\n",
       "      <td>903642.0</td>\n",
       "      <td>1775522.0</td>\n",
       "      <td>1775699.0</td>\n",
       "    </tr>\n",
       "    <tr>\n",
       "      <th>3</th>\n",
       "      <td>2600054</td>\n",
       "      <td>679</td>\n",
       "      <td>2135</td>\n",
       "      <td>4</td>\n",
       "      <td>5611201</td>\n",
       "      <td>1.345094e+08</td>\n",
       "      <td>9</td>\n",
       "      <td>853291.0</td>\n",
       "      <td>903642.0</td>\n",
       "      <td>1775522.0</td>\n",
       "      <td>1775699.0</td>\n",
       "    </tr>\n",
       "    <tr>\n",
       "      <th>4</th>\n",
       "      <td>2600054</td>\n",
       "      <td>679</td>\n",
       "      <td>2135</td>\n",
       "      <td>8</td>\n",
       "      <td>5611201</td>\n",
       "      <td>1.345094e+08</td>\n",
       "      <td>2</td>\n",
       "      <td>853291.0</td>\n",
       "      <td>903642.0</td>\n",
       "      <td>1113557.0</td>\n",
       "      <td>1169174.0</td>\n",
       "    </tr>\n",
       "  </tbody>\n",
       "</table>\n",
       "</div>"
      ],
      "text/plain": [
       "     IBGE7  IDHM  NATJU  SIT_CADASTRAL  CNAE_FISCAL   ARRECADACAO  TEMPO_VIDA  \\\n",
       "0  2600054   679   2135              8      5611201  1.345094e+08           4   \n",
       "1  2600054   679   2135              8      5611201  1.345094e+08           3   \n",
       "2  2600054   679   2135              4      5611201  1.345094e+08           9   \n",
       "3  2600054   679   2135              4      5611201  1.345094e+08           9   \n",
       "4  2600054   679   2135              8      5611201  1.345094e+08           2   \n",
       "\n",
       "   PIB_ANO_INIC  PIB_PERCAPTA_INIC  PIB_ANO_SITCAD  PIB_PERCAPTA_SITCAD  \n",
       "0      740917.0           769656.0       1220149.0            1247775.0  \n",
       "1      740917.0           769656.0       1113557.0            1169174.0  \n",
       "2      853291.0           903642.0       1775522.0            1775699.0  \n",
       "3      853291.0           903642.0       1775522.0            1775699.0  \n",
       "4      853291.0           903642.0       1113557.0            1169174.0  "
      ]
     },
     "execution_count": 4,
     "metadata": {},
     "output_type": "execute_result"
    }
   ],
   "source": [
    "df_final.head()"
   ]
  },
  {
   "cell_type": "code",
   "execution_count": 5,
   "metadata": {},
   "outputs": [
    {
     "data": {
      "image/png": "[encoded data removed]",
      "text/plain": [
       "<Figure size 1440x1080 with 12 Axes>"
      ]
     },
     "metadata": {
      "needs_background": "light"
     },
     "output_type": "display_data"
    }
   ],
   "source": [
    "df_final.hist(bins=50, figsize=(20,15))\n",
    "plt.show()"
   ]
  },
  {
   "cell_type": "code",
   "execution_count": 6,
   "metadata": {},
   "outputs": [],
   "source": [
    "# para garantir um resultado idêntico a cada execução deste notebook, \n",
    "# iniciamos a geração de números aleatórios com a mesma semente (seed)\n",
    "np.random.seed(42)"
   ]
  },
  {
   "cell_type": "code",
   "execution_count": 7,
   "metadata": {},
   "outputs": [
    {
     "name": "stdout",
     "output_type": "stream",
     "text": [
      "<class 'pandas.core.frame.DataFrame'>\n",
      "RangeIndex: 5570 entries, 0 to 5569\n",
      "Data columns (total 9 columns):\n",
      " #   Column        Non-Null Count  Dtype  \n",
      "---  ------        --------------  -----  \n",
      " 0   IBGE7         5570 non-null   int64  \n",
      " 1   nome          5570 non-null   object \n",
      " 2   latitude      5570 non-null   float64\n",
      " 3   longitude     5570 non-null   float64\n",
      " 4   capital       5570 non-null   int64  \n",
      " 5   codigo_uf     5570 non-null   int64  \n",
      " 6   siafi_id      5570 non-null   int64  \n",
      " 7   ddd           5570 non-null   int64  \n",
      " 8   fuso_horario  5570 non-null   object \n",
      "dtypes: float64(2), int64(5), object(2)\n",
      "memory usage: 391.8+ KB\n"
     ]
    }
   ],
   "source": [
    "latitude = pd.read_csv('lat_municipios.csv',sep=',', encoding='UTF-8')\n",
    "latitude = latitude.rename(columns={'codigo_ibge':'IBGE7'})\n",
    "latitude.info()"
   ]
  },
  {
   "cell_type": "code",
   "execution_count": 8,
   "metadata": {},
   "outputs": [],
   "source": [
    "df_loc = pd.merge(df_final,latitude, on='IBGE7', how='left')"
   ]
  },
  {
   "cell_type": "code",
   "execution_count": 9,
   "metadata": {},
   "outputs": [
    {
     "data": {
      "image/png": "[encoded data removed]",
      "text/plain": [
       "<Figure size 720x360 with 1 Axes>"
      ]
     },
     "metadata": {
      "needs_background": "light"
     },
     "output_type": "display_data"
    }
   ],
   "source": [
    "# uma plotagem usando um gráfico de dispersão permite ver a distribuição geográfica das instâncias\n",
    "df_loc.plot(kind='scatter', x='longitude', y='latitude', figsize=(10,5))\n",
    "plt.show()"
   ]
  },
  {
   "cell_type": "code",
   "execution_count": 10,
   "metadata": {},
   "outputs": [],
   "source": [
    "df_final['IBGE7'] = df_final['IBGE7'].astype(str)\n",
    "df_final['CNAE_FISCAL'] = df_final['CNAE_FISCAL'].astype(str)\n",
    "df_final['NATJU'] = df_final['NATJU'].astype(str)\n",
    "df_final['SIT_CADASTRAL'] = df_final['SIT_CADASTRAL'].astype(str)"
   ]
  },
  {
   "cell_type": "code",
   "execution_count": 11,
   "metadata": {},
   "outputs": [],
   "source": [
    "# exemplo de função simples para separar dados em treino e teste\n",
    "def split_train_test(data, test_ratio):\n",
    "    shuffled_indices = np.random.permutation(len(data))\n",
    "    test_set_size = int(len(data) * test_ratio)\n",
    "    test_indices = shuffled_indices[:test_set_size]\n",
    "    train_indices = shuffled_indices[test_set_size:]\n",
    "    return data.iloc[train_indices], data.iloc[test_indices]"
   ]
  },
  {
   "cell_type": "code",
   "execution_count": 12,
   "metadata": {},
   "outputs": [
    {
     "name": "stdout",
     "output_type": "stream",
     "text": [
      "train set: 188976\n",
      "test set:  47244\n"
     ]
    }
   ],
   "source": [
    "train_set, test_set = split_train_test(df_final, 0.2)\n",
    "print('train set:', len(train_set))\n",
    "print('test set: ', len(test_set))"
   ]
  },
  {
   "cell_type": "code",
   "execution_count": 13,
   "metadata": {},
   "outputs": [
    {
     "name": "stdout",
     "output_type": "stream",
     "text": [
      "train set: 188976\n",
      "test set:  47244\n"
     ]
    }
   ],
   "source": [
    "# a biblioteca scikit-learn já inclui uma função de separação randomizada, muito semelhante à anterior\n",
    "from sklearn.model_selection import train_test_split\n",
    "\n",
    "train_set, test_set = train_test_split(df_final, test_size=0.2, random_state=42)\n",
    "print('train set:', len(train_set))\n",
    "print('test set: ', len(test_set))"
   ]
  },
  {
   "cell_type": "code",
   "execution_count": 14,
   "metadata": {},
   "outputs": [
    {
     "data": {
      "text/html": [
       "<div>\n",
       "<style scoped>\n",
       "    .dataframe tbody tr th:only-of-type {\n",
       "        vertical-align: middle;\n",
       "    }\n",
       "\n",
       "    .dataframe tbody tr th {\n",
       "        vertical-align: top;\n",
       "    }\n",
       "\n",
       "    .dataframe thead th {\n",
       "        text-align: right;\n",
       "    }\n",
       "</style>\n",
       "<table border=\"1\" class=\"dataframe\">\n",
       "  <thead>\n",
       "    <tr style=\"text-align: right;\">\n",
       "      <th></th>\n",
       "      <th>IBGE7</th>\n",
       "      <th>IDHM</th>\n",
       "      <th>NATJU</th>\n",
       "      <th>SIT_CADASTRAL</th>\n",
       "      <th>CNAE_FISCAL</th>\n",
       "      <th>ARRECADACAO</th>\n",
       "      <th>TEMPO_VIDA</th>\n",
       "      <th>PIB_ANO_INIC</th>\n",
       "      <th>PIB_PERCAPTA_INIC</th>\n",
       "      <th>PIB_ANO_SITCAD</th>\n",
       "      <th>PIB_PERCAPTA_SITCAD</th>\n",
       "    </tr>\n",
       "  </thead>\n",
       "  <tbody>\n",
       "    <tr>\n",
       "      <th>0</th>\n",
       "      <td>2600054</td>\n",
       "      <td>679</td>\n",
       "      <td>2135</td>\n",
       "      <td>8</td>\n",
       "      <td>5611201</td>\n",
       "      <td>1.345094e+08</td>\n",
       "      <td>4</td>\n",
       "      <td>740917.0</td>\n",
       "      <td>769656.0</td>\n",
       "      <td>1220149.0</td>\n",
       "      <td>1247775.0</td>\n",
       "    </tr>\n",
       "    <tr>\n",
       "      <th>1</th>\n",
       "      <td>2600054</td>\n",
       "      <td>679</td>\n",
       "      <td>2135</td>\n",
       "      <td>8</td>\n",
       "      <td>5611201</td>\n",
       "      <td>1.345094e+08</td>\n",
       "      <td>3</td>\n",
       "      <td>740917.0</td>\n",
       "      <td>769656.0</td>\n",
       "      <td>1113557.0</td>\n",
       "      <td>1169174.0</td>\n",
       "    </tr>\n",
       "    <tr>\n",
       "      <th>2</th>\n",
       "      <td>2600054</td>\n",
       "      <td>679</td>\n",
       "      <td>2135</td>\n",
       "      <td>4</td>\n",
       "      <td>5611201</td>\n",
       "      <td>1.345094e+08</td>\n",
       "      <td>9</td>\n",
       "      <td>853291.0</td>\n",
       "      <td>903642.0</td>\n",
       "      <td>1775522.0</td>\n",
       "      <td>1775699.0</td>\n",
       "    </tr>\n",
       "    <tr>\n",
       "      <th>3</th>\n",
       "      <td>2600054</td>\n",
       "      <td>679</td>\n",
       "      <td>2135</td>\n",
       "      <td>4</td>\n",
       "      <td>5611201</td>\n",
       "      <td>1.345094e+08</td>\n",
       "      <td>9</td>\n",
       "      <td>853291.0</td>\n",
       "      <td>903642.0</td>\n",
       "      <td>1775522.0</td>\n",
       "      <td>1775699.0</td>\n",
       "    </tr>\n",
       "    <tr>\n",
       "      <th>4</th>\n",
       "      <td>2600054</td>\n",
       "      <td>679</td>\n",
       "      <td>2135</td>\n",
       "      <td>8</td>\n",
       "      <td>5611201</td>\n",
       "      <td>1.345094e+08</td>\n",
       "      <td>2</td>\n",
       "      <td>853291.0</td>\n",
       "      <td>903642.0</td>\n",
       "      <td>1113557.0</td>\n",
       "      <td>1169174.0</td>\n",
       "    </tr>\n",
       "  </tbody>\n",
       "</table>\n",
       "</div>"
      ],
      "text/plain": [
       "     IBGE7  IDHM NATJU SIT_CADASTRAL CNAE_FISCAL   ARRECADACAO  TEMPO_VIDA  \\\n",
       "0  2600054   679  2135             8     5611201  1.345094e+08           4   \n",
       "1  2600054   679  2135             8     5611201  1.345094e+08           3   \n",
       "2  2600054   679  2135             4     5611201  1.345094e+08           9   \n",
       "3  2600054   679  2135             4     5611201  1.345094e+08           9   \n",
       "4  2600054   679  2135             8     5611201  1.345094e+08           2   \n",
       "\n",
       "   PIB_ANO_INIC  PIB_PERCAPTA_INIC  PIB_ANO_SITCAD  PIB_PERCAPTA_SITCAD  \n",
       "0      740917.0           769656.0       1220149.0            1247775.0  \n",
       "1      740917.0           769656.0       1113557.0            1169174.0  \n",
       "2      853291.0           903642.0       1775522.0            1775699.0  \n",
       "3      853291.0           903642.0       1775522.0            1775699.0  \n",
       "4      853291.0           903642.0       1113557.0            1169174.0  "
      ]
     },
     "execution_count": 14,
     "metadata": {},
     "output_type": "execute_result"
    }
   ],
   "source": [
    "df_final.head()"
   ]
  },
  {
   "cell_type": "code",
   "execution_count": 15,
   "metadata": {},
   "outputs": [
    {
     "data": {
      "text/html": [
       "<div>\n",
       "<style scoped>\n",
       "    .dataframe tbody tr th:only-of-type {\n",
       "        vertical-align: middle;\n",
       "    }\n",
       "\n",
       "    .dataframe tbody tr th {\n",
       "        vertical-align: top;\n",
       "    }\n",
       "\n",
       "    .dataframe thead th {\n",
       "        text-align: right;\n",
       "    }\n",
       "</style>\n",
       "<table border=\"1\" class=\"dataframe\">\n",
       "  <thead>\n",
       "    <tr style=\"text-align: right;\">\n",
       "      <th></th>\n",
       "      <th>IBGE7</th>\n",
       "      <th>IDHM</th>\n",
       "      <th>NATJU</th>\n",
       "      <th>SIT_CADASTRAL</th>\n",
       "      <th>CNAE_FISCAL</th>\n",
       "      <th>ARRECADACAO</th>\n",
       "      <th>TEMPO_VIDA</th>\n",
       "      <th>PIB_ANO_INIC</th>\n",
       "      <th>PIB_PERCAPTA_INIC</th>\n",
       "      <th>PIB_ANO_SITCAD</th>\n",
       "      <th>PIB_PERCAPTA_SITCAD</th>\n",
       "    </tr>\n",
       "  </thead>\n",
       "  <tbody>\n",
       "    <tr>\n",
       "      <th>20106</th>\n",
       "      <td>2602902</td>\n",
       "      <td>686</td>\n",
       "      <td>2135</td>\n",
       "      <td>2</td>\n",
       "      <td>4784900</td>\n",
       "      <td>6.778705e+08</td>\n",
       "      <td>0</td>\n",
       "      <td>9922739.0</td>\n",
       "      <td>4792483.0</td>\n",
       "      <td>9922739.0</td>\n",
       "      <td>4792483.0</td>\n",
       "    </tr>\n",
       "    <tr>\n",
       "      <th>39722</th>\n",
       "      <td>2604106</td>\n",
       "      <td>677</td>\n",
       "      <td>2135</td>\n",
       "      <td>8</td>\n",
       "      <td>4781400</td>\n",
       "      <td>6.389138e+08</td>\n",
       "      <td>6</td>\n",
       "      <td>4809622.0</td>\n",
       "      <td>1484016.0</td>\n",
       "      <td>7147897.0</td>\n",
       "      <td>2002930.0</td>\n",
       "    </tr>\n",
       "    <tr>\n",
       "      <th>150586</th>\n",
       "      <td>2611606</td>\n",
       "      <td>772</td>\n",
       "      <td>2135</td>\n",
       "      <td>8</td>\n",
       "      <td>1412601</td>\n",
       "      <td>1.255694e+10</td>\n",
       "      <td>4</td>\n",
       "      <td>50515887.0</td>\n",
       "      <td>3140582.0</td>\n",
       "      <td>52404684.0</td>\n",
       "      <td>3199633.0</td>\n",
       "    </tr>\n",
       "    <tr>\n",
       "      <th>103096</th>\n",
       "      <td>2610202</td>\n",
       "      <td>569</td>\n",
       "      <td>2135</td>\n",
       "      <td>8</td>\n",
       "      <td>4744099</td>\n",
       "      <td>3.837270e+06</td>\n",
       "      <td>4</td>\n",
       "      <td>113806.0</td>\n",
       "      <td>444067.0</td>\n",
       "      <td>159629.0</td>\n",
       "      <td>603192.0</td>\n",
       "    </tr>\n",
       "    <tr>\n",
       "      <th>224186</th>\n",
       "      <td>2612604</td>\n",
       "      <td>59</td>\n",
       "      <td>2135</td>\n",
       "      <td>2</td>\n",
       "      <td>4781400</td>\n",
       "      <td>1.274987e+07</td>\n",
       "      <td>0</td>\n",
       "      <td>285502.0</td>\n",
       "      <td>723283.0</td>\n",
       "      <td>285502.0</td>\n",
       "      <td>723283.0</td>\n",
       "    </tr>\n",
       "  </tbody>\n",
       "</table>\n",
       "</div>"
      ],
      "text/plain": [
       "          IBGE7  IDHM NATJU SIT_CADASTRAL CNAE_FISCAL   ARRECADACAO  \\\n",
       "20106   2602902   686  2135             2     4784900  6.778705e+08   \n",
       "39722   2604106   677  2135             8     4781400  6.389138e+08   \n",
       "150586  2611606   772  2135             8     1412601  1.255694e+10   \n",
       "103096  2610202   569  2135             8     4744099  3.837270e+06   \n",
       "224186  2612604    59  2135             2     4781400  1.274987e+07   \n",
       "\n",
       "        TEMPO_VIDA  PIB_ANO_INIC  PIB_PERCAPTA_INIC  PIB_ANO_SITCAD  \\\n",
       "20106            0     9922739.0          4792483.0       9922739.0   \n",
       "39722            6     4809622.0          1484016.0       7147897.0   \n",
       "150586           4    50515887.0          3140582.0      52404684.0   \n",
       "103096           4      113806.0           444067.0        159629.0   \n",
       "224186           0      285502.0           723283.0        285502.0   \n",
       "\n",
       "        PIB_PERCAPTA_SITCAD  \n",
       "20106             4792483.0  \n",
       "39722             2002930.0  \n",
       "150586            3199633.0  \n",
       "103096             603192.0  \n",
       "224186             723283.0  "
      ]
     },
     "execution_count": 15,
     "metadata": {},
     "output_type": "execute_result"
    }
   ],
   "source": [
    "train_set.head()"
   ]
  },
  {
   "cell_type": "code",
   "execution_count": 16,
   "metadata": {},
   "outputs": [
    {
     "name": "stdout",
     "output_type": "stream",
     "text": [
      "train set: 188976\n",
      "test set:  47244\n"
     ]
    }
   ],
   "source": [
    "from sklearn.model_selection import StratifiedShuffleSplit\n",
    "\n",
    "# usa amostragem estratificada para separar os dados em treino e teste\n",
    "split = StratifiedShuffleSplit(n_splits=1, test_size=0.2, random_state=42)\n",
    "for train_index, test_index in split.split(df_final, df_final['SIT_CADASTRAL']):\n",
    "    strat_train_set = df_final.loc[train_index]\n",
    "    strat_test_set = df_final.loc[test_index]\n",
    "print('train set:', len(strat_train_set))\n",
    "print('test set: ', len(strat_test_set))"
   ]
  },
  {
   "cell_type": "code",
   "execution_count": 17,
   "metadata": {},
   "outputs": [
    {
     "data": {
      "text/plain": [
       "8    0.649792\n",
       "2    0.248412\n",
       "4    0.097504\n",
       "3    0.002286\n",
       "1    0.002006\n",
       "Name: SIT_CADASTRAL, dtype: float64"
      ]
     },
     "execution_count": 17,
     "metadata": {},
     "output_type": "execute_result"
    }
   ],
   "source": [
    "# percentuais por estrato para 'median_income' no conjunto de treino\n",
    "strat_train_set['SIT_CADASTRAL'].value_counts() / len(strat_train_set)"
   ]
  },
  {
   "cell_type": "code",
   "execution_count": 18,
   "metadata": {},
   "outputs": [
    {
     "data": {
      "text/plain": [
       "8    0.649797\n",
       "2    0.248412\n",
       "4    0.097494\n",
       "3    0.002286\n",
       "1    0.002011\n",
       "Name: SIT_CADASTRAL, dtype: float64"
      ]
     },
     "execution_count": 18,
     "metadata": {},
     "output_type": "execute_result"
    }
   ],
   "source": [
    "# percentuais por estrato para 'median_income' no conjunto de teste\n",
    "strat_test_set['SIT_CADASTRAL'].value_counts() / len(strat_test_set)"
   ]
  },
  {
   "cell_type": "code",
   "execution_count": 19,
   "metadata": {},
   "outputs": [
    {
     "data": {
      "text/plain": [
       "8    0.649793\n",
       "2    0.248412\n",
       "4    0.097502\n",
       "3    0.002286\n",
       "1    0.002007\n",
       "Name: SIT_CADASTRAL, dtype: float64"
      ]
     },
     "execution_count": 19,
     "metadata": {},
     "output_type": "execute_result"
    }
   ],
   "source": [
    "# percentuais no conjunto de dados completo\n",
    "df_final['SIT_CADASTRAL'].value_counts() / len(df_final)"
   ]
  },
  {
   "cell_type": "code",
   "execution_count": 20,
   "metadata": {},
   "outputs": [
    {
     "data": {
      "text/html": [
       "<div>\n",
       "<style scoped>\n",
       "    .dataframe tbody tr th:only-of-type {\n",
       "        vertical-align: middle;\n",
       "    }\n",
       "\n",
       "    .dataframe tbody tr th {\n",
       "        vertical-align: top;\n",
       "    }\n",
       "\n",
       "    .dataframe thead th {\n",
       "        text-align: right;\n",
       "    }\n",
       "</style>\n",
       "<table border=\"1\" class=\"dataframe\">\n",
       "  <thead>\n",
       "    <tr style=\"text-align: right;\">\n",
       "      <th></th>\n",
       "      <th>Overall</th>\n",
       "      <th>Random</th>\n",
       "      <th>Stratified</th>\n",
       "      <th>Rand. %error</th>\n",
       "      <th>Strat. %error</th>\n",
       "    </tr>\n",
       "  </thead>\n",
       "  <tbody>\n",
       "    <tr>\n",
       "      <th>1</th>\n",
       "      <td>0.002007</td>\n",
       "      <td>0.002244</td>\n",
       "      <td>0.002011</td>\n",
       "      <td>11.814346</td>\n",
       "      <td>0.210970</td>\n",
       "    </tr>\n",
       "    <tr>\n",
       "      <th>2</th>\n",
       "      <td>0.248412</td>\n",
       "      <td>0.250910</td>\n",
       "      <td>0.248412</td>\n",
       "      <td>1.005453</td>\n",
       "      <td>0.000000</td>\n",
       "    </tr>\n",
       "    <tr>\n",
       "      <th>3</th>\n",
       "      <td>0.002286</td>\n",
       "      <td>0.002223</td>\n",
       "      <td>0.002286</td>\n",
       "      <td>-2.777778</td>\n",
       "      <td>0.000000</td>\n",
       "    </tr>\n",
       "    <tr>\n",
       "      <th>4</th>\n",
       "      <td>0.097502</td>\n",
       "      <td>0.095568</td>\n",
       "      <td>0.097494</td>\n",
       "      <td>-1.984196</td>\n",
       "      <td>-0.008684</td>\n",
       "    </tr>\n",
       "    <tr>\n",
       "      <th>8</th>\n",
       "      <td>0.649793</td>\n",
       "      <td>0.649056</td>\n",
       "      <td>0.649797</td>\n",
       "      <td>-0.113359</td>\n",
       "      <td>0.000651</td>\n",
       "    </tr>\n",
       "  </tbody>\n",
       "</table>\n",
       "</div>"
      ],
      "text/plain": [
       "    Overall    Random  Stratified  Rand. %error  Strat. %error\n",
       "1  0.002007  0.002244    0.002011     11.814346       0.210970\n",
       "2  0.248412  0.250910    0.248412      1.005453       0.000000\n",
       "3  0.002286  0.002223    0.002286     -2.777778       0.000000\n",
       "4  0.097502  0.095568    0.097494     -1.984196      -0.008684\n",
       "8  0.649793  0.649056    0.649797     -0.113359       0.000651"
      ]
     },
     "execution_count": 20,
     "metadata": {},
     "output_type": "execute_result"
    }
   ],
   "source": [
    "def sit_cad_proportions(data):\n",
    "    return data['SIT_CADASTRAL'].value_counts() / len(data)\n",
    "\n",
    "train_set, test_set = train_test_split(df_final, test_size=0.2, random_state=42)\n",
    "\n",
    "compare_props = pd.DataFrame({\n",
    "    'Overall':    sit_cad_proportions(df_final),\n",
    "    'Random':     sit_cad_proportions(test_set),\n",
    "    'Stratified': sit_cad_proportions(strat_test_set),\n",
    "}).sort_index()\n",
    "compare_props['Rand. %error']  = 100 * compare_props['Random']     / compare_props['Overall'] - 100\n",
    "compare_props['Strat. %error'] = 100 * compare_props['Stratified'] / compare_props['Overall'] - 100\n",
    "compare_props"
   ]
  },
  {
   "cell_type": "code",
   "execution_count": 21,
   "metadata": {},
   "outputs": [],
   "source": [
    "dftrain = strat_test_set.copy()"
   ]
  },
  {
   "cell_type": "code",
   "execution_count": 24,
   "metadata": {},
   "outputs": [
    {
     "data": {
      "text/html": [
       "<div>\n",
       "<style scoped>\n",
       "    .dataframe tbody tr th:only-of-type {\n",
       "        vertical-align: middle;\n",
       "    }\n",
       "\n",
       "    .dataframe tbody tr th {\n",
       "        vertical-align: top;\n",
       "    }\n",
       "\n",
       "    .dataframe thead th {\n",
       "        text-align: right;\n",
       "    }\n",
       "</style>\n",
       "<table border=\"1\" class=\"dataframe\">\n",
       "  <thead>\n",
       "    <tr style=\"text-align: right;\">\n",
       "      <th></th>\n",
       "      <th>IBGE7</th>\n",
       "      <th>IDHM</th>\n",
       "      <th>NATJU</th>\n",
       "      <th>SIT_CADASTRAL</th>\n",
       "      <th>CNAE_FISCAL</th>\n",
       "      <th>ARRECADACAO</th>\n",
       "      <th>TEMPO_VIDA</th>\n",
       "      <th>PIB_ANO_INIC</th>\n",
       "      <th>PIB_PERCAPTA_INIC</th>\n",
       "      <th>PIB_ANO_SITCAD</th>\n",
       "      <th>PIB_PERCAPTA_SITCAD</th>\n",
       "    </tr>\n",
       "  </thead>\n",
       "  <tbody>\n",
       "    <tr>\n",
       "      <th>144091</th>\n",
       "      <td>2611606</td>\n",
       "      <td>772</td>\n",
       "      <td>2135</td>\n",
       "      <td>8</td>\n",
       "      <td>8599605</td>\n",
       "      <td>1.255694e+10</td>\n",
       "      <td>1</td>\n",
       "      <td>42890606.0</td>\n",
       "      <td>2758169.0</td>\n",
       "      <td>46771183.0</td>\n",
       "      <td>2924089.0</td>\n",
       "    </tr>\n",
       "    <tr>\n",
       "      <th>157050</th>\n",
       "      <td>2611606</td>\n",
       "      <td>772</td>\n",
       "      <td>2135</td>\n",
       "      <td>8</td>\n",
       "      <td>4781400</td>\n",
       "      <td>1.255694e+10</td>\n",
       "      <td>6</td>\n",
       "      <td>42890606.0</td>\n",
       "      <td>2758169.0</td>\n",
       "      <td>52404684.0</td>\n",
       "      <td>3199633.0</td>\n",
       "    </tr>\n",
       "    <tr>\n",
       "      <th>54344</th>\n",
       "      <td>2605202</td>\n",
       "      <td>632</td>\n",
       "      <td>2135</td>\n",
       "      <td>8</td>\n",
       "      <td>5612100</td>\n",
       "      <td>6.712758e+07</td>\n",
       "      <td>1</td>\n",
       "      <td>663159.0</td>\n",
       "      <td>998448.0</td>\n",
       "      <td>749816.0</td>\n",
       "      <td>1120683.0</td>\n",
       "    </tr>\n",
       "    <tr>\n",
       "      <th>143056</th>\n",
       "      <td>2611606</td>\n",
       "      <td>772</td>\n",
       "      <td>2135</td>\n",
       "      <td>8</td>\n",
       "      <td>7319003</td>\n",
       "      <td>1.255694e+10</td>\n",
       "      <td>3</td>\n",
       "      <td>50515887.0</td>\n",
       "      <td>3140582.0</td>\n",
       "      <td>51839333.0</td>\n",
       "      <td>3173130.0</td>\n",
       "    </tr>\n",
       "    <tr>\n",
       "      <th>178554</th>\n",
       "      <td>2611606</td>\n",
       "      <td>772</td>\n",
       "      <td>2135</td>\n",
       "      <td>8</td>\n",
       "      <td>4322301</td>\n",
       "      <td>1.255694e+10</td>\n",
       "      <td>0</td>\n",
       "      <td>48059861.0</td>\n",
       "      <td>2971826.0</td>\n",
       "      <td>48059861.0</td>\n",
       "      <td>2971826.0</td>\n",
       "    </tr>\n",
       "  </tbody>\n",
       "</table>\n",
       "</div>"
      ],
      "text/plain": [
       "          IBGE7  IDHM NATJU SIT_CADASTRAL CNAE_FISCAL   ARRECADACAO  \\\n",
       "144091  2611606   772  2135             8     8599605  1.255694e+10   \n",
       "157050  2611606   772  2135             8     4781400  1.255694e+10   \n",
       "54344   2605202   632  2135             8     5612100  6.712758e+07   \n",
       "143056  2611606   772  2135             8     7319003  1.255694e+10   \n",
       "178554  2611606   772  2135             8     4322301  1.255694e+10   \n",
       "\n",
       "        TEMPO_VIDA  PIB_ANO_INIC  PIB_PERCAPTA_INIC  PIB_ANO_SITCAD  \\\n",
       "144091           1    42890606.0          2758169.0      46771183.0   \n",
       "157050           6    42890606.0          2758169.0      52404684.0   \n",
       "54344            1      663159.0           998448.0        749816.0   \n",
       "143056           3    50515887.0          3140582.0      51839333.0   \n",
       "178554           0    48059861.0          2971826.0      48059861.0   \n",
       "\n",
       "        PIB_PERCAPTA_SITCAD  \n",
       "144091            2924089.0  \n",
       "157050            3199633.0  \n",
       "54344             1120683.0  \n",
       "143056            3173130.0  \n",
       "178554            2971826.0  "
      ]
     },
     "execution_count": 24,
     "metadata": {},
     "output_type": "execute_result"
    }
   ],
   "source": [
    "dftrain.head()"
   ]
  },
  {
   "cell_type": "code",
   "execution_count": 22,
   "metadata": {},
   "outputs": [],
   "source": [
    "corr_matrix = dftrain.corr()"
   ]
  },
  {
   "cell_type": "code",
   "execution_count": 27,
   "metadata": {},
   "outputs": [
    {
     "data": {
      "text/plain": [
       "TEMPO_VIDA             1.000000\n",
       "PIB_PERCAPTA_SITCAD    0.085193\n",
       "PIB_ANO_SITCAD         0.041657\n",
       "IDHM                   0.016424\n",
       "ARRECADACAO            0.013693\n",
       "PIB_ANO_INIC          -0.081707\n",
       "PIB_PERCAPTA_INIC     -0.160816\n",
       "Name: TEMPO_VIDA, dtype: float64"
      ]
     },
     "execution_count": 27,
     "metadata": {},
     "output_type": "execute_result"
    }
   ],
   "source": [
    "corr_matrix['TEMPO_VIDA'].sort_values(ascending=False)"
   ]
  },
  {
   "cell_type": "code",
   "execution_count": null,
   "metadata": {},
   "outputs": [],
   "source": []
  },
  {
   "cell_type": "code",
   "execution_count": null,
   "metadata": {},
   "outputs": [],
   "source": []
  },
  {
   "cell_type": "code",
   "execution_count": null,
   "metadata": {},
   "outputs": [],
   "source": []
  }
 ],
 "metadata": {
  "colab": {
   "collapsed_sections": [],
   "name": "05-ModeloML.ipynb",
   "provenance": []
  },
  "kernelspec": {
   "display_name": "Python 3 (ipykernel)",
   "language": "python",
   "name": "python3"
  },
  "language_info": {
   "codemirror_mode": {
    "name": "ipython",
    "version": 3
   },
   "file_extension": ".py",
   "mimetype": "text/x-python",
   "name": "python",
   "nbconvert_exporter": "python",
   "pygments_lexer": "ipython3",
   "version": "3.9.7"
  },
  "nav_menu": {
   "height": "279px",
   "width": "309px"
  },
  "toc": {
   "nav_menu": {},
   "number_sections": true,
   "sideBar": true,
   "skip_h1_title": false,
   "toc_cell": false,
   "toc_position": {},
   "toc_section_display": "block",
   "toc_window_display": false
  }
 },
 "nbformat": 4,
 "nbformat_minor": 1
}
